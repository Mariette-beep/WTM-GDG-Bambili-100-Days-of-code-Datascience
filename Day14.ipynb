{
  "nbformat": 4,
  "nbformat_minor": 0,
  "metadata": {
    "colab": {
      "name": "Day14.ipynb",
      "provenance": [],
      "collapsed_sections": [],
      "authorship_tag": "ABX9TyN9SS0FoQ4f7bUqtZZ0eDER",
      "include_colab_link": true
    },
    "kernelspec": {
      "name": "python3",
      "display_name": "Python 3"
    },
    "language_info": {
      "name": "python"
    }
  },
  "cells": [
    {
      "cell_type": "markdown",
      "metadata": {
        "id": "view-in-github",
        "colab_type": "text"
      },
      "source": [
        "<a href=\"https://colab.research.google.com/github/Mariette-beep/WTM-GDG-Bambili-100-Days-of-code-Datascience/blob/main/Day14.ipynb\" target=\"_parent\"><img src=\"https://colab.research.google.com/assets/colab-badge.svg\" alt=\"Open In Colab\"/></a>"
      ]
    },
    {
      "cell_type": "code",
      "metadata": {
        "colab": {
          "base_uri": "https://localhost:8080/"
        },
        "id": "IrFTwSN9z5Yv",
        "outputId": "e600de1d-ff36-4486-d3ae-54952cf43e20"
      },
      "source": [
        "any([False, True, False])"
      ],
      "execution_count": null,
      "outputs": [
        {
          "output_type": "execute_result",
          "data": {
            "text/plain": [
              "True"
            ]
          },
          "metadata": {},
          "execution_count": 4
        }
      ]
    },
    {
      "cell_type": "code",
      "metadata": {
        "colab": {
          "base_uri": "https://localhost:8080/"
        },
        "id": "aHg3_EX5ToYA",
        "outputId": "34e898ca-97a1-4461-b8f9-f79b83679f32"
      },
      "source": [
        "def f():\n",
        "    s='...inside f()'\n",
        "    print(s)\n",
        "print('before calling f()')\n",
        "f()\n",
        "print('after calling f()')"
      ],
      "execution_count": null,
      "outputs": [
        {
          "output_type": "stream",
          "name": "stdout",
          "text": [
            "before calling f()\n",
            "...inside f()\n",
            "after calling f()\n"
          ]
        }
      ]
    },
    {
      "cell_type": "code",
      "metadata": {
        "id": "A_7yAR-OUFMk"
      },
      "source": [
        "#simplest function\n",
        "def f():\n",
        "    pass\n",
        "\n",
        "\n",
        "f()"
      ],
      "execution_count": null,
      "outputs": []
    },
    {
      "cell_type": "code",
      "metadata": {
        "colab": {
          "base_uri": "https://localhost:8080/"
        },
        "id": "hBjR3HbqUa5c",
        "outputId": "3d757d5f-83d1-4166-918c-a61533103e8f"
      },
      "source": [
        "def lottery(Name, age, Nationality):\n",
        "    print(f'{Name} is {age} and is a {Nationality}')\n",
        "lottery('George', 57, 'German')\n",
        "#positional arguments.\n"
      ],
      "execution_count": null,
      "outputs": [
        {
          "output_type": "stream",
          "name": "stdout",
          "text": [
            "George is 57 and is a German\n"
          ]
        }
      ]
    },
    {
      "cell_type": "code",
      "metadata": {
        "colab": {
          "base_uri": "https://localhost:8080/"
        },
        "id": "Grr2vTR2gUoC",
        "outputId": "007bdbf7-9761-4080-9b76-c6bb693b7559"
      },
      "source": [
        "def lottery(Name, age, gender):\n",
        "    print(f'{Name} is {age} and is a {gender}')\n",
        "lottery(Name='Gildas', age=80, gender = 'Female.')\n",
        "#keyword arguments."
      ],
      "execution_count": null,
      "outputs": [
        {
          "output_type": "stream",
          "name": "stdout",
          "text": [
            "Gildas is 80 and is a Female.\n"
          ]
        }
      ]
    },
    {
      "cell_type": "code",
      "metadata": {
        "colab": {
          "base_uri": "https://localhost:8080/"
        },
        "id": "hVTu44eQiGbT",
        "outputId": "45f8263f-8764-41f5-f2bd-c5cfff473d63"
      },
      "source": [
        "#pass-by-pass value vs pass-by-reference.\n",
        "def f(fx):\n",
        "    fx=10\n",
        "\n",
        "\n",
        "x=5\n",
        "f(x)\n",
        "x\n"
      ],
      "execution_count": null,
      "outputs": [
        {
          "output_type": "execute_result",
          "data": {
            "text/plain": [
              "5"
            ]
          },
          "metadata": {},
          "execution_count": 2
        }
      ]
    },
    {
      "cell_type": "code",
      "metadata": {
        "colab": {
          "base_uri": "https://localhost:8080/"
        },
        "id": "xqMnlNB1jz9G",
        "outputId": "b06415e7-088a-498e-967e-56759e57c675"
      },
      "source": [
        "def f(x):\n",
        "     x='foo'\n",
        "for i in (\n",
        "     40, dict(cart=6, wheel=2),\n",
        "      2.4, ['foo', 'food']):\n",
        "    f(i)\n",
        "    print(i)"
      ],
      "execution_count": null,
      "outputs": [
        {
          "output_type": "stream",
          "name": "stdout",
          "text": [
            "40\n",
            "{'cart': 6, 'wheel': 2}\n",
            "2.4\n",
            "['foo', 'food']\n"
          ]
        }
      ]
    },
    {
      "cell_type": "code",
      "metadata": {
        "colab": {
          "base_uri": "https://localhost:8080/"
        },
        "id": "rqKrTVPA5fHt",
        "outputId": "2645b95f-5137-4a75-d57f-1567b85dceb2"
      },
      "source": [
        "def names():\n",
        "    print('Oberg')\n",
        "    print('Shey')\n",
        "    return  \n",
        "  \n",
        "\n",
        "\n",
        "names()"
      ],
      "execution_count": 1,
      "outputs": [
        {
          "output_type": "stream",
          "name": "stdout",
          "text": [
            "Oberg\n",
            "Shey\n"
          ]
        }
      ]
    },
    {
      "cell_type": "code",
      "metadata": {
        "id": "s5_J3RTd7Hu4",
        "colab": {
          "base_uri": "https://localhost:8080/"
        },
        "outputId": "c4937fc5-12ca-422b-e80d-f1aa79afa64e"
      },
      "source": [
        "def f(x):\n",
        "    if x<0:\n",
        "      return\n",
        "    if x>100:\n",
        "      return\n",
        "    print(x)\n",
        "f(-5)\n",
        "f(245)\n",
        "f(45)"
      ],
      "execution_count": 1,
      "outputs": [
        {
          "output_type": "stream",
          "name": "stdout",
          "text": [
            "45\n"
          ]
        }
      ]
    },
    {
      "cell_type": "code",
      "metadata": {
        "colab": {
          "base_uri": "https://localhost:8080/"
        },
        "id": "-d1unOS5lkuM",
        "outputId": "ea6e6926-eb2b-4c2f-9a81-3637d3a5373b"
      },
      "source": [
        "def f():\n",
        "    return 'foo', 'bar', 'baz','qux'\n",
        "type(f())\n",
        "t =f()\n",
        "t\n",
        "a,b,c,d=f()\n",
        "print(f'a={a}, b={b}, c={c}, d={d}')\n"
      ],
      "execution_count": 5,
      "outputs": [
        {
          "output_type": "stream",
          "name": "stdout",
          "text": [
            "a=foo, b=bar, c=baz, d=qux\n"
          ]
        }
      ]
    },
    {
      "cell_type": "code",
      "metadata": {
        "colab": {
          "base_uri": "https://localhost:8080/"
        },
        "id": "1KnCin73mcFW",
        "outputId": "3daf0f42-9029-4314-ffb6-46e77cd3ca1c"
      },
      "source": [
        "#returning data to a caller\n",
        "def f():\n",
        "    return['bar', 'baz', 'bar', 'qux']\n",
        "f()\n",
        "f()[2]\n",
        "f()[::-1]"
      ],
      "execution_count": 9,
      "outputs": [
        {
          "output_type": "execute_result",
          "data": {
            "text/plain": [
              "['qux', 'bar', 'baz', 'bar']"
            ]
          },
          "metadata": {},
          "execution_count": 9
        }
      ]
    },
    {
      "cell_type": "code",
      "metadata": {
        "colab": {
          "base_uri": "https://localhost:8080/"
        },
        "id": "Ud6qrrsHm_c2",
        "outputId": "9b43a9f2-c382-4f44-ecc5-325632786a8a"
      },
      "source": [
        "#revisiting side-effects\n",
        "def double_list(x):\n",
        "    r=[]\n",
        "    for i in x:\n",
        "      r.append(i*2)\n",
        "    return r\n",
        "a=[1,2,3,4,5]\n",
        "a=double_list(a)\n",
        "a"
      ],
      "execution_count": 12,
      "outputs": [
        {
          "output_type": "execute_result",
          "data": {
            "text/plain": [
              "[2, 4, 6, 8, 10]"
            ]
          },
          "metadata": {},
          "execution_count": 12
        }
      ]
    },
    {
      "cell_type": "code",
      "metadata": {
        "colab": {
          "base_uri": "https://localhost:8080/"
        },
        "id": "PYCcVS9MntQ2",
        "outputId": "0c46f0cb-04b3-4fb9-8a59-78f322420106"
      },
      "source": [
        "def avg(a):\n",
        "    total =0\n",
        "    for v in a:\n",
        "      total +=v\n",
        "    return total/ len(a)\n",
        "avg([2, 4, 6, 9])"
      ],
      "execution_count": 20,
      "outputs": [
        {
          "output_type": "execute_result",
          "data": {
            "text/plain": [
              "5.25"
            ]
          },
          "metadata": {},
          "execution_count": 20
        }
      ]
    },
    {
      "cell_type": "code",
      "metadata": {
        "colab": {
          "base_uri": "https://localhost:8080/"
        },
        "id": "w6GVueOvpECO",
        "outputId": "1786fc10-2ccc-4a2c-ee7a-f999d0ed8849"
      },
      "source": [
        "#turple packing\n",
        "def f(*args):\n",
        "    print(args)\n",
        "    print(type(args), len(args))\n",
        "    for x in args:\n",
        "      print(x)\n",
        "f(-1, -3, 'a')\n",
        "f('tough', 'foo', 'party', 'qux')"
      ],
      "execution_count": 24,
      "outputs": [
        {
          "output_type": "stream",
          "name": "stdout",
          "text": [
            "(-1, -3, 'a')\n",
            "<class 'tuple'> 3\n",
            "-1\n",
            "-3\n",
            "a\n",
            "('tough', 'foo', 'party', 'qux')\n",
            "<class 'tuple'> 4\n",
            "tough\n",
            "foo\n",
            "party\n",
            "qux\n"
          ]
        }
      ]
    },
    {
      "cell_type": "code",
      "metadata": {
        "colab": {
          "base_uri": "https://localhost:8080/"
        },
        "id": "jvatnVw-p_09",
        "outputId": "2ccd518e-95ea-4f63-cb0e-8a1ccfd8cd45"
      },
      "source": [
        "#unpacking\n",
        "a=['foo','bar', 'party', 'rice']\n",
        "type (a)\n",
        "f(*a)"
      ],
      "execution_count": 27,
      "outputs": [
        {
          "output_type": "stream",
          "name": "stdout",
          "text": [
            "('foo', 'bar', 'party', 'rice')\n",
            "<class 'tuple'> 4\n",
            "foo\n",
            "bar\n",
            "party\n",
            "rice\n"
          ]
        }
      ]
    },
    {
      "cell_type": "code",
      "metadata": {
        "colab": {
          "base_uri": "https://localhost:8080/"
        },
        "id": "sUX3Q5fOqsTs",
        "outputId": "40181ace-cfef-4956-f4ae-b866f8af141c"
      },
      "source": [
        "#packing and unpacking\n",
        "def f(*args):#packaging\n",
        "    print(type(args), args)\n",
        "a=['foo', 'bar', 'baz','program']\n",
        "f(*a)#unpacking"
      ],
      "execution_count": 29,
      "outputs": [
        {
          "output_type": "stream",
          "name": "stdout",
          "text": [
            "<class 'tuple'> ('foo', 'bar', 'baz', 'program')\n"
          ]
        }
      ]
    },
    {
      "cell_type": "code",
      "metadata": {
        "colab": {
          "base_uri": "https://localhost:8080/"
        },
        "id": "WB2OjtHnr-4t",
        "outputId": "f60d45b8-c192-4e32-e568-11660c48c388"
      },
      "source": [
        "#Argument dictionary packing\n",
        "def f(**kwargs):\n",
        "    print(kwargs)\n",
        "    for key, val in kwargs.items():\n",
        "      print(key, '->',  val)\n",
        "f(person=1, position=2, right=3)"
      ],
      "execution_count": 37,
      "outputs": [
        {
          "output_type": "stream",
          "name": "stdout",
          "text": [
            "{'person': 1, 'position': 2, 'right': 3}\n",
            "person -> 1\n",
            "position -> 2\n",
            "right -> 3\n"
          ]
        }
      ]
    },
    {
      "cell_type": "code",
      "metadata": {
        "colab": {
          "base_uri": "https://localhost:8080/"
        },
        "id": "wplbpsjPt9Tp",
        "outputId": "e66924b3-c825-4ce6-8aec-778a2a7d4cf0"
      },
      "source": [
        "def f(a, b, c):\n",
        "    print(F'a={a}')\n",
        "    print(F'b={b}')\n",
        "    print(F'c={c}')\n",
        "d={'a':'foo','b':25, 'c':'qux'}\n",
        "f(**d)"
      ],
      "execution_count": 40,
      "outputs": [
        {
          "output_type": "stream",
          "name": "stdout",
          "text": [
            "a=foo\n",
            "b=25\n",
            "c=qux\n"
          ]
        }
      ]
    },
    {
      "cell_type": "code",
      "metadata": {
        "colab": {
          "base_uri": "https://localhost:8080/"
        },
        "id": "OG-YNQqEurYJ",
        "outputId": "b350a916-2883-46b2-f8a7-492fb049362a"
      },
      "source": [
        "def babes(a, b, *h, **o):\n",
        "    print(f'a={a}')\n",
        "    print(f'b={b}')\n",
        "    print(f'h={h}')\n",
        "    print(f'o={o}')\n",
        "babes('uh', 'rain', 1, 2, 3, 4, h=7, o=8)\n"
      ],
      "execution_count": 45,
      "outputs": [
        {
          "output_type": "stream",
          "name": "stdout",
          "text": [
            "a=uh\n",
            "b=rain\n",
            "h=(1, 2, 3, 4)\n",
            "o={'h': 7, 'o': 8}\n"
          ]
        }
      ]
    },
    {
      "cell_type": "code",
      "metadata": {
        "colab": {
          "base_uri": "https://localhost:8080/"
        },
        "id": "soBA85VuwXo5",
        "outputId": "bb4ee164-562d-4cef-eb19-07ae8ca2b5a2"
      },
      "source": [
        "#muliple-unpacking\n",
        "def f(**Z):\n",
        "    for k, v in Z.items():\n",
        "      print(k, '->', v)\n",
        "d1={'foo':1, 'moo':2}\n",
        "d2={'u':-1 , 'y':23}\n",
        "f(**d1, **d2)\n",
        "f(**{'foo':1})"
      ],
      "execution_count": 49,
      "outputs": [
        {
          "output_type": "stream",
          "name": "stdout",
          "text": [
            "foo -> 1\n",
            "moo -> 2\n",
            "u -> -1\n",
            "y -> 23\n",
            "foo -> 1\n"
          ]
        }
      ]
    },
    {
      "cell_type": "code",
      "metadata": {
        "colab": {
          "base_uri": "https://localhost:8080/"
        },
        "id": "JZ1AxIIGxyQZ",
        "outputId": "2eca9705-fee5-4e2a-cdda-3a733471c666"
      },
      "source": [
        "def concat(*args):\n",
        "    print(f'-> {\".\".join(args)}')\n",
        "concat('g','o','o','d')\n",
        "concat('few', 'cakes', \"don't\", 'taste','good')"
      ],
      "execution_count": 52,
      "outputs": [
        {
          "output_type": "stream",
          "name": "stdout",
          "text": [
            "-> g.o.o.d\n",
            "-> few.cakes.don't.taste.good\n"
          ]
        }
      ]
    },
    {
      "cell_type": "code",
      "metadata": {
        "colab": {
          "base_uri": "https://localhost:8080/"
        },
        "id": "fMaHLU7byunr",
        "outputId": "66a56151-fcf3-4b81-dfc9-f0bdbcfccbc0"
      },
      "source": [
        "def concat(prefix, *args):\n",
        "    print(f'{prefix} {\".\" .join(args)}')\n",
        "concat('//', 'go', 'lodge', 'Ruth')"
      ],
      "execution_count": 55,
      "outputs": [
        {
          "output_type": "stream",
          "name": "stdout",
          "text": [
            "// go.lodge.Ruth\n"
          ]
        }
      ]
    },
    {
      "cell_type": "code",
      "metadata": {
        "colab": {
          "base_uri": "https://localhost:8080/"
        },
        "id": "9RGQ_rFxzqRh",
        "outputId": "0f63ec12-d7f5-4dbd-cd13-d55a0be41d13"
      },
      "source": [
        "def   f(x, y, z, w, *, a, b):\n",
        "      print(x, y, z, w, a, b)\n",
        "f(1, 2, z=3, w=4, a=5, b=6)\n",
        " #a,b keywordonly.  #x,y position only.#zw maybe kw or pos.\n",
        "f(1, 2, 3, w=4, a=5, b=6)\n"
      ],
      "execution_count": 64,
      "outputs": [
        {
          "output_type": "stream",
          "name": "stdout",
          "text": [
            "1 2 3 4 5 6\n",
            "1 2 3 4 5 6\n"
          ]
        }
      ]
    },
    {
      "cell_type": "code",
      "metadata": {
        "colab": {
          "base_uri": "https://localhost:8080/"
        },
        "id": "YSkPhjhw3e2p",
        "outputId": "0c598527-6d27-40e2-d8e9-b1fdc3855586"
      },
      "source": [
        "#doc strings.\n",
        "def foo(bar=0, baz=2):\n",
        "  \"\"\" This is how you die.\n",
        "    keyword arguments:\n",
        "    bar-- amgnitude along the bar axis(default=0)\n",
        "    baz-- magnitude along the baz axis(default=1)\n",
        "    \"\"\"\n",
        "foo"
      ],
      "execution_count": 68,
      "outputs": [
        {
          "output_type": "execute_result",
          "data": {
            "text/plain": [
              "<function __main__.foo>"
            ]
          },
          "metadata": {},
          "execution_count": 68
        }
      ]
    },
    {
      "cell_type": "code",
      "metadata": {
        "colab": {
          "base_uri": "https://localhost:8080/"
        },
        "id": "VlJysvq-5T71",
        "outputId": "2d0c5b12-a25d-4886-8ec3-54747e58448e"
      },
      "source": [
        "#python function annotation. attaches meta data to the functions parameter and return value.\n",
        "def f(a:int, b:str)-> float:\n",
        "    print(a, b)\n",
        "    return(3.5)\n",
        "\n",
        "\n",
        "f(1, 'foo')\n"
      ],
      "execution_count": 71,
      "outputs": [
        {
          "output_type": "stream",
          "name": "stdout",
          "text": [
            "1 foo\n"
          ]
        },
        {
          "output_type": "execute_result",
          "data": {
            "text/plain": [
              "3.5"
            ]
          },
          "metadata": {},
          "execution_count": 71
        }
      ]
    },
    {
      "cell_type": "code",
      "metadata": {
        "colab": {
          "base_uri": "https://localhost:8080/",
          "height": 35
        },
        "id": "gW8ddq-m6VmW",
        "outputId": "5b81657c-f4a7-47d5-aea7-556d1c11bd21"
      },
      "source": [
        "#it can also be composite\n",
        "def  area(\n",
        "     r: {'desc':'radius of a circle',\n",
        "       'type' : float\n",
        "        }\n",
        ") -> \\\n",
        "{\n",
        "    'desc':'area of a circle',\n",
        "    'type': float\n",
        "}:\n",
        "    return 3.14159* (r**2)\n",
        "area(2.5)\n",
        "area.__annotations__\n",
        "area.__annotations__['r']['desc']"
      ],
      "execution_count": 82,
      "outputs": [
        {
          "output_type": "execute_result",
          "data": {
            "application/vnd.google.colaboratory.intrinsic+json": {
              "type": "string"
            },
            "text/plain": [
              "'radius of a circle'"
            ]
          },
          "metadata": {},
          "execution_count": 82
        }
      ]
    }
  ]
}