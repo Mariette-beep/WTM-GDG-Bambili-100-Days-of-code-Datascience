{
  "nbformat": 4,
  "nbformat_minor": 0,
  "metadata": {
    "colab": {
      "name": "Day17.ipynb",
      "provenance": [],
      "collapsed_sections": [],
      "authorship_tag": "ABX9TyPNz7fHAK2tokj9N8jJxfvd",
      "include_colab_link": true
    },
    "kernelspec": {
      "name": "python3",
      "display_name": "Python 3"
    },
    "language_info": {
      "name": "python"
    }
  },
  "cells": [
    {
      "cell_type": "markdown",
      "metadata": {
        "id": "view-in-github",
        "colab_type": "text"
      },
      "source": [
        "<a href=\"https://colab.research.google.com/github/Mariette-beep/WTM-GDG-Bambili-100-Days-of-code-Datascience/blob/main/Day17.ipynb\" target=\"_parent\"><img src=\"https://colab.research.google.com/assets/colab-badge.svg\" alt=\"Open In Colab\"/></a>"
      ]
    },
    {
      "cell_type": "code",
      "metadata": {
        "colab": {
          "base_uri": "https://localhost:8080/"
        },
        "id": "g5qGFuBCZW0j",
        "outputId": "aea24aa8-d12f-4662-bd76-3547073c48e5"
      },
      "source": [
        "#Reges in Python\n",
        "s='foo123bar'\n",
        "s.find('123')\n",
        "s.index('123')"
      ],
      "execution_count": null,
      "outputs": [
        {
          "output_type": "execute_result",
          "data": {
            "text/plain": [
              "3"
            ]
          },
          "metadata": {},
          "execution_count": 7
        }
      ]
    },
    {
      "cell_type": "code",
      "metadata": {
        "colab": {
          "base_uri": "https://localhost:8080/"
        },
        "id": "7wDahjotQ6iI",
        "outputId": "4f89c52e-25a9-4714-fedf-3940dd692fbb"
      },
      "source": [
        "S='Ilike23Apples'\n",
        "s.find('Apples')\n",
        "s.index('23')\n"
      ],
      "execution_count": null,
      "outputs": [
        {
          "output_type": "execute_result",
          "data": {
            "text/plain": [
              "4"
            ]
          },
          "metadata": {},
          "execution_count": 12
        }
      ]
    },
    {
      "cell_type": "code",
      "metadata": {
        "colab": {
          "base_uri": "https://localhost:8080/"
        },
        "id": "bA5prM_QRh-t",
        "outputId": "8d03c3da-81c3-4334-9c91-44e0e23c6ede"
      },
      "source": [
        "S='foo123'\n",
        "import re\n",
        "re.search('foo', S)"
      ],
      "execution_count": null,
      "outputs": [
        {
          "output_type": "execute_result",
          "data": {
            "text/plain": [
              "<re.Match object; span=(0, 3), match='foo'>"
            ]
          },
          "metadata": {},
          "execution_count": 14
        }
      ]
    },
    {
      "cell_type": "code",
      "metadata": {
        "colab": {
          "base_uri": "https://localhost:8080/"
        },
        "id": "UIf95ap5R8VN",
        "outputId": "90c08e6f-27f8-45e6-cdd4-33024a7a5f8b"
      },
      "source": [
        "if re.search('123', S):\n",
        "   print('formula match')\n",
        "else:\n",
        "   print('No match')"
      ],
      "execution_count": null,
      "outputs": [
        {
          "output_type": "stream",
          "name": "stdout",
          "text": [
            "formula match\n"
          ]
        }
      ]
    },
    {
      "cell_type": "code",
      "metadata": {
        "colab": {
          "base_uri": "https://localhost:8080/"
        },
        "id": "7cwHJ7YsSySF",
        "outputId": "bc96c6c8-9dd5-4986-8a7f-d4ac370567c5"
      },
      "source": [
        "s='money123honey25'\n",
        "re.search('[0-9][0-9][0-9]', s)"
      ],
      "execution_count": null,
      "outputs": [
        {
          "output_type": "execute_result",
          "data": {
            "text/plain": [
              "<re.Match object; span=(5, 8), match='123'>"
            ]
          },
          "metadata": {},
          "execution_count": 19
        }
      ]
    },
    {
      "cell_type": "code",
      "metadata": {
        "colab": {
          "base_uri": "https://localhost:8080/"
        },
        "id": "ThYmBTiTTPob",
        "outputId": "71bab6a3-8cc8-407a-d007-b3dc5c400174"
      },
      "source": [
        "re.search('[0-9][0-9][0-9]', 'cakes237sweet')"
      ],
      "execution_count": null,
      "outputs": [
        {
          "output_type": "execute_result",
          "data": {
            "text/plain": [
              "<re.Match object; span=(5, 8), match='237'>"
            ]
          },
          "metadata": {},
          "execution_count": 21
        }
      ]
    },
    {
      "cell_type": "code",
      "metadata": {
        "colab": {
          "base_uri": "https://localhost:8080/"
        },
        "id": "uPJsszUjThfk",
        "outputId": "b6a9d60d-46da-4204-a034-05b5f315cfaf"
      },
      "source": [
        "print(re.search('[0-9][0-9][0-9]', '23evolve34'))"
      ],
      "execution_count": null,
      "outputs": [
        {
          "output_type": "stream",
          "name": "stdout",
          "text": [
            "None\n"
          ]
        }
      ]
    },
    {
      "cell_type": "code",
      "metadata": {
        "colab": {
          "base_uri": "https://localhost:8080/"
        },
        "id": "dBlj7kTEUQ54",
        "outputId": "76912332-51f9-429a-cb90-60f6999dba90"
      },
      "source": [
        "s='foo123bar'\n",
        "re.search('1.3', s)"
      ],
      "execution_count": null,
      "outputs": [
        {
          "output_type": "execute_result",
          "data": {
            "text/plain": [
              "<re.Match object; span=(3, 6), match='123'>"
            ]
          },
          "metadata": {},
          "execution_count": 31
        }
      ]
    },
    {
      "cell_type": "code",
      "metadata": {
        "colab": {
          "base_uri": "https://localhost:8080/"
        },
        "id": "B72pw_n8U04l",
        "outputId": "1893ce5c-2fbb-497f-a830-89825ffa49f1"
      },
      "source": [
        "print(re.search('[a-z][a-z][a-z]', 'Jennifergirl123'))"
      ],
      "execution_count": null,
      "outputs": [
        {
          "output_type": "stream",
          "name": "stdout",
          "text": [
            "<re.Match object; span=(1, 4), match='enn'>\n"
          ]
        }
      ]
    },
    {
      "cell_type": "code",
      "metadata": {
        "colab": {
          "base_uri": "https://localhost:8080/"
        },
        "id": "PVOyfmIkVQ-K",
        "outputId": "622a3241-aca9-47d3-b042-021ce237a203"
      },
      "source": [
        "re.search('ba[artz]', 'foobarqux')"
      ],
      "execution_count": null,
      "outputs": [
        {
          "output_type": "execute_result",
          "data": {
            "text/plain": [
              "<re.Match object; span=(3, 6), match='bar'>"
            ]
          },
          "metadata": {},
          "execution_count": 35
        }
      ]
    },
    {
      "cell_type": "code",
      "metadata": {
        "colab": {
          "base_uri": "https://localhost:8080/"
        },
        "id": "4BhQlV3VVjBS",
        "outputId": "f806fc63-bebc-4783-9e45-c8463b764beb"
      },
      "source": [
        "re.search('ba[artz]', 'footbazl')"
      ],
      "execution_count": null,
      "outputs": [
        {
          "output_type": "execute_result",
          "data": {
            "text/plain": [
              "<re.Match object; span=(4, 7), match='baz'>"
            ]
          },
          "metadata": {},
          "execution_count": 37
        }
      ]
    },
    {
      "cell_type": "code",
      "metadata": {
        "colab": {
          "base_uri": "https://localhost:8080/"
        },
        "id": "D4AsNLvkV0f9",
        "outputId": "2e64c569-6a4f-4a0c-d475-4bdaee0eb6de"
      },
      "source": [
        "re.search('[a-z]', 'goodnew')\n",
        "re.search('[a-z]', 'foobar')"
      ],
      "execution_count": null,
      "outputs": [
        {
          "output_type": "execute_result",
          "data": {
            "text/plain": [
              "<re.Match object; span=(0, 1), match='f'>"
            ]
          },
          "metadata": {},
          "execution_count": 40
        }
      ]
    },
    {
      "cell_type": "code",
      "metadata": {
        "colab": {
          "base_uri": "https://localhost:8080/"
        },
        "id": "KWZHhYHUWNG4",
        "outputId": "89ef5fdc-baee-46c4-a196-2cf91c376158"
      },
      "source": [
        "re.search('[0-9][0-9]', 'foo25bar')"
      ],
      "execution_count": null,
      "outputs": [
        {
          "output_type": "execute_result",
          "data": {
            "text/plain": [
              "<re.Match object; span=(3, 5), match='25'>"
            ]
          },
          "metadata": {},
          "execution_count": 44
        }
      ]
    },
    {
      "cell_type": "code",
      "metadata": {
        "colab": {
          "base_uri": "https://localhost:8080/"
        },
        "id": "95035v-gW7hA",
        "outputId": "fab277cf-9299-4190-f7ab-3cce32836ff9"
      },
      "source": [
        "#matches any character that is not a digit.\n",
        "re.search('[^ 0-9]', '14678AMo')"
      ],
      "execution_count": null,
      "outputs": [
        {
          "output_type": "execute_result",
          "data": {
            "text/plain": [
              "<re.Match object; span=(5, 6), match='A'>"
            ]
          },
          "metadata": {},
          "execution_count": 46
        }
      ]
    },
    {
      "cell_type": "code",
      "metadata": {
        "colab": {
          "base_uri": "https://localhost:8080/"
        },
        "id": "A1dNOSyeXgNo",
        "outputId": "cdb120a4-ee4e-4bf4-d31f-a1ef16bb7d29"
      },
      "source": [
        "re.search('[-abc]', '123-456')"
      ],
      "execution_count": null,
      "outputs": [
        {
          "output_type": "execute_result",
          "data": {
            "text/plain": [
              "<re.Match object; span=(3, 4), match='-'>"
            ]
          },
          "metadata": {},
          "execution_count": 48
        }
      ]
    },
    {
      "cell_type": "code",
      "metadata": {
        "colab": {
          "base_uri": "https://localhost:8080/"
        },
        "id": "5Vs8p4bgX0u7",
        "outputId": "2a504df1-db3e-4efa-9633-575b3c33c890"
      },
      "source": [
        "re.search('[abc-]', '123-456')"
      ],
      "execution_count": null,
      "outputs": [
        {
          "output_type": "execute_result",
          "data": {
            "text/plain": [
              "<re.Match object; span=(3, 4), match='-'>"
            ]
          },
          "metadata": {},
          "execution_count": 51
        }
      ]
    },
    {
      "cell_type": "code",
      "metadata": {
        "colab": {
          "base_uri": "https://localhost:8080/"
        },
        "id": "TeGpecbBYVoz",
        "outputId": "3d53aad1-b0c7-4bde-ad5c-ee3682f5544c"
      },
      "source": [
        "re.search('[]]', 'foo[1]')"
      ],
      "execution_count": null,
      "outputs": [
        {
          "output_type": "execute_result",
          "data": {
            "text/plain": [
              "<re.Match object; span=(5, 6), match=']'>"
            ]
          },
          "metadata": {},
          "execution_count": 56
        }
      ]
    },
    {
      "cell_type": "code",
      "metadata": {
        "colab": {
          "base_uri": "https://localhost:8080/"
        },
        "id": "pov9nrFIZMMv",
        "outputId": "efd08d50-848b-4236-d6fd-11b9e77463ef"
      },
      "source": [
        "re.search('[ab\\]cd]', 'foo[2]')"
      ],
      "execution_count": null,
      "outputs": [
        {
          "output_type": "execute_result",
          "data": {
            "text/plain": [
              "<re.Match object; span=(5, 6), match=']'>"
            ]
          },
          "metadata": {},
          "execution_count": 59
        }
      ]
    },
    {
      "cell_type": "code",
      "metadata": {
        "colab": {
          "base_uri": "https://localhost:8080/"
        },
        "id": "zbzLzEy2Zj8O",
        "outputId": "2f63f803-0002-4ab8-8fa0-504109d36265"
      },
      "source": [
        "re.search('[)*+|]', '234*456')"
      ],
      "execution_count": null,
      "outputs": [
        {
          "output_type": "execute_result",
          "data": {
            "text/plain": [
              "<re.Match object; span=(3, 4), match='*'>"
            ]
          },
          "metadata": {},
          "execution_count": 61
        }
      ]
    },
    {
      "cell_type": "code",
      "metadata": {
        "colab": {
          "base_uri": "https://localhost:8080/"
        },
        "id": "TPApKlNcZ2dg",
        "outputId": "6fe6ae49-f324-4629-bea6-ee1ac8af8b4c"
      },
      "source": [
        "re.search('[)*+|]', '234+098')"
      ],
      "execution_count": null,
      "outputs": [
        {
          "output_type": "execute_result",
          "data": {
            "text/plain": [
              "<re.Match object; span=(3, 4), match='+'>"
            ]
          },
          "metadata": {},
          "execution_count": 63
        }
      ]
    },
    {
      "cell_type": "code",
      "metadata": {
        "colab": {
          "base_uri": "https://localhost:8080/"
        },
        "id": "9YQBcUbXaZwC",
        "outputId": "ac2896c1-e3d1-4bff-92c4-33d246600c2d"
      },
      "source": [
        "#(.)matches any new single character\n",
        "print(re.search('interaction.bar', 'interactionbar'))"
      ],
      "execution_count": null,
      "outputs": [
        {
          "output_type": "stream",
          "name": "stdout",
          "text": [
            "None\n"
          ]
        }
      ]
    },
    {
      "cell_type": "code",
      "metadata": {
        "colab": {
          "base_uri": "https://localhost:8080/"
        },
        "id": "aNWp3diPbGhR",
        "outputId": "4d681c01-41fb-428d-beaa-6a5d0af92d6e"
      },
      "source": [
        "print(re.search('foo.bAr','fooxbAr'))"
      ],
      "execution_count": null,
      "outputs": [
        {
          "output_type": "stream",
          "name": "stdout",
          "text": [
            "<re.Match object; span=(0, 7), match='fooxbAr'>\n"
          ]
        }
      ]
    },
    {
      "cell_type": "code",
      "metadata": {
        "colab": {
          "base_uri": "https://localhost:8080/"
        },
        "id": "9i8MRbvybayC",
        "outputId": "a21cfc73-5ce0-4c89-c98a-fab462f42ca5"
      },
      "source": [
        "print(re.search('foo.bar', 'foo\\nbar'))"
      ],
      "execution_count": null,
      "outputs": [
        {
          "output_type": "stream",
          "name": "stdout",
          "text": [
            "None\n"
          ]
        }
      ]
    },
    {
      "cell_type": "code",
      "metadata": {
        "colab": {
          "base_uri": "https://localhost:8080/"
        },
        "id": "dudupmdlblXR",
        "outputId": "d0569f64-a140-47ad-a0e2-934f35f07901"
      },
      "source": [
        "re.search('\\w', 'cry(.a$@&')"
      ],
      "execution_count": null,
      "outputs": [
        {
          "output_type": "execute_result",
          "data": {
            "text/plain": [
              "<re.Match object; span=(0, 1), match='c'>"
            ]
          },
          "metadata": {},
          "execution_count": 74
        }
      ]
    },
    {
      "cell_type": "code",
      "metadata": {
        "colab": {
          "base_uri": "https://localhost:8080/"
        },
        "id": "yyA72g9Sgv88",
        "outputId": "9acfc8c5-44ca-4da9-85f9-ab298e4c4f87"
      },
      "source": [
        "re.search('[a-zA-Z0-9_]', '#(cry.a$@&')"
      ],
      "execution_count": null,
      "outputs": [
        {
          "output_type": "execute_result",
          "data": {
            "text/plain": [
              "<re.Match object; span=(2, 3), match='c'>"
            ]
          },
          "metadata": {},
          "execution_count": 76
        }
      ]
    },
    {
      "cell_type": "code",
      "metadata": {
        "colab": {
          "base_uri": "https://localhost:8080/"
        },
        "id": "PCf9F-LwhUQU",
        "outputId": "646c3b3c-3ffe-478e-af0e-d78184517477"
      },
      "source": [
        "re.search('\\W', 'a_1*3Qb')"
      ],
      "execution_count": null,
      "outputs": [
        {
          "output_type": "execute_result",
          "data": {
            "text/plain": [
              "<re.Match object; span=(3, 4), match='*'>"
            ]
          },
          "metadata": {},
          "execution_count": 78
        }
      ]
    },
    {
      "cell_type": "code",
      "metadata": {
        "colab": {
          "base_uri": "https://localhost:8080/"
        },
        "id": "gRYfND2Vhnb3",
        "outputId": "e7563f73-2c71-4e86-ba29-25536763077f"
      },
      "source": [
        "re.search('[^a-zA-Z0-9_]', 'a_1*3Qb')"
      ],
      "execution_count": null,
      "outputs": [
        {
          "output_type": "execute_result",
          "data": {
            "text/plain": [
              "<re.Match object; span=(3, 4), match='*'>"
            ]
          },
          "metadata": {},
          "execution_count": 80
        }
      ]
    },
    {
      "cell_type": "code",
      "metadata": {
        "colab": {
          "base_uri": "https://localhost:8080/"
        },
        "id": "KDIxI9ksh4Ph",
        "outputId": "4f478ec8-0102-46b4-b673-7422e21387ba"
      },
      "source": [
        "re.search('\\d', 'Wonder4ul')"
      ],
      "execution_count": null,
      "outputs": [
        {
          "output_type": "execute_result",
          "data": {
            "text/plain": [
              "<re.Match object; span=(6, 7), match='4'>"
            ]
          },
          "metadata": {},
          "execution_count": 82
        }
      ]
    },
    {
      "cell_type": "code",
      "metadata": {
        "colab": {
          "base_uri": "https://localhost:8080/"
        },
        "id": "GdAPPAjNiIP1",
        "outputId": "cc9fdeef-2b41-49f1-c74d-0848ab9e19c1"
      },
      "source": [
        "re.search('\\D', '900456GM2')"
      ],
      "execution_count": null,
      "outputs": [
        {
          "output_type": "execute_result",
          "data": {
            "text/plain": [
              "<re.Match object; span=(6, 7), match='G'>"
            ]
          },
          "metadata": {},
          "execution_count": 84
        }
      ]
    },
    {
      "cell_type": "code",
      "metadata": {
        "colab": {
          "base_uri": "https://localhost:8080/"
        },
        "id": "PM1vSRjsiUou",
        "outputId": "e54abef5-1c85-482a-b987-aee21f6dcaf8"
      },
      "source": [
        "re.search('\\s', 'results\\yes oui')"
      ],
      "execution_count": null,
      "outputs": [
        {
          "output_type": "execute_result",
          "data": {
            "text/plain": [
              "<re.Match object; span=(11, 12), match=' '>"
            ]
          },
          "metadata": {},
          "execution_count": 86
        }
      ]
    },
    {
      "cell_type": "code",
      "metadata": {
        "colab": {
          "base_uri": "https://localhost:8080/"
        },
        "id": "guhXHEC-ilRX",
        "outputId": "8e1874e7-f17d-459d-fac6-063156286c4a"
      },
      "source": [
        "re.search('\\S', ' \\n yes \\n')"
      ],
      "execution_count": null,
      "outputs": [
        {
          "output_type": "execute_result",
          "data": {
            "text/plain": [
              "<re.Match object; span=(3, 4), match='y'>"
            ]
          },
          "metadata": {},
          "execution_count": 89
        }
      ]
    },
    {
      "cell_type": "code",
      "metadata": {
        "colab": {
          "base_uri": "https://localhost:8080/"
        },
        "id": "s2wEAU8Miz3R",
        "outputId": "cb517aa3-d9dd-4330-fb92-e6caa2541de2"
      },
      "source": [
        "re.search('[\\d\\w\\s]', '----3---')"
      ],
      "execution_count": null,
      "outputs": [
        {
          "output_type": "execute_result",
          "data": {
            "text/plain": [
              "<re.Match object; span=(4, 5), match='3'>"
            ]
          },
          "metadata": {},
          "execution_count": 91
        }
      ]
    },
    {
      "cell_type": "code",
      "metadata": {
        "colab": {
          "base_uri": "https://localhost:8080/"
        },
        "id": "zR8iATkUjCs6",
        "outputId": "1d040db1-839e-4591-b0f9-04f24b4787f6"
      },
      "source": [
        "re.search('[\\d\\w\\s]', '----a----')"
      ],
      "execution_count": null,
      "outputs": [
        {
          "output_type": "execute_result",
          "data": {
            "text/plain": [
              "<re.Match object; span=(4, 5), match='a'>"
            ]
          },
          "metadata": {},
          "execution_count": 93
        }
      ]
    },
    {
      "cell_type": "code",
      "metadata": {
        "colab": {
          "base_uri": "https://localhost:8080/"
        },
        "id": "WbGxE0eJjPbe",
        "outputId": "6495f977-83e0-4aa2-942c-0077b9c8e40c"
      },
      "source": [
        "re.search('[\\d\\w\\s]','--- ---')"
      ],
      "execution_count": null,
      "outputs": [
        {
          "output_type": "execute_result",
          "data": {
            "text/plain": [
              "<re.Match object; span=(3, 4), match=' '>"
            ]
          },
          "metadata": {},
          "execution_count": 96
        }
      ]
    },
    {
      "cell_type": "code",
      "metadata": {
        "colab": {
          "base_uri": "https://localhost:8080/"
        },
        "id": "d6fKPYTsjgKK",
        "outputId": "b00ba784-a62e-4d96-d8c9-25c0c3bbcbf0"
      },
      "source": [
        "s=r'applause\\bar'\n",
        "re.search('\\\\\\\\', s)"
      ],
      "execution_count": null,
      "outputs": [
        {
          "output_type": "execute_result",
          "data": {
            "text/plain": [
              "<re.Match object; span=(8, 9), match='\\\\'>"
            ]
          },
          "metadata": {},
          "execution_count": 103
        }
      ]
    },
    {
      "cell_type": "code",
      "metadata": {
        "colab": {
          "base_uri": "https://localhost:8080/"
        },
        "id": "bkiOL4aYkldk",
        "outputId": "b1cab554-0bcf-465f-df45-c136c41db60a"
      },
      "source": [
        "re.search('^guide', 'guide bar')"
      ],
      "execution_count": null,
      "outputs": [
        {
          "output_type": "execute_result",
          "data": {
            "text/plain": [
              "<re.Match object; span=(0, 5), match='guide'>"
            ]
          },
          "metadata": {},
          "execution_count": 105
        }
      ]
    },
    {
      "cell_type": "code",
      "metadata": {
        "colab": {
          "base_uri": "https://localhost:8080/"
        },
        "id": "NHkfCNZgk0Dk",
        "outputId": "e1f2842f-1fc7-44a5-8f94-99e32b9391a7"
      },
      "source": [
        "print(re.search('^lots', 'yeslots'))"
      ],
      "execution_count": null,
      "outputs": [
        {
          "output_type": "stream",
          "name": "stdout",
          "text": [
            "None\n"
          ]
        }
      ]
    },
    {
      "cell_type": "code",
      "metadata": {
        "colab": {
          "base_uri": "https://localhost:8080/"
        },
        "id": "92NRw4PelG-H",
        "outputId": "5862c385-7310-4c46-f1e4-9d1ab1108949"
      },
      "source": [
        "print(re.search('\\Alots', 'uhlots'))"
      ],
      "execution_count": null,
      "outputs": [
        {
          "output_type": "stream",
          "name": "stdout",
          "text": [
            "None\n"
          ]
        }
      ]
    },
    {
      "cell_type": "code",
      "metadata": {
        "colab": {
          "base_uri": "https://localhost:8080/"
        },
        "id": "n_W7LpbZlYKl",
        "outputId": "b55db88a-bf93-4137-ae50-ccd4b47509be"
      },
      "source": [
        "print(re.search('bar$','foobar'))"
      ],
      "execution_count": null,
      "outputs": [
        {
          "output_type": "stream",
          "name": "stdout",
          "text": [
            "<re.Match object; span=(3, 6), match='bar'>\n"
          ]
        }
      ]
    },
    {
      "cell_type": "code",
      "metadata": {
        "colab": {
          "base_uri": "https://localhost:8080/"
        },
        "id": "Hfp926d7mE6q",
        "outputId": "9ae66861-dc45-46b7-d8e1-45ed385d412f"
      },
      "source": [
        "print(re.search('bar$', 'barfoo'))"
      ],
      "execution_count": null,
      "outputs": [
        {
          "output_type": "stream",
          "name": "stdout",
          "text": [
            "None\n"
          ]
        }
      ]
    },
    {
      "cell_type": "code",
      "metadata": {
        "colab": {
          "base_uri": "https://localhost:8080/"
        },
        "id": "joBUYIXXmQbF",
        "outputId": "1b50c26b-d1ab-4408-b734-e8ff14b96c2e"
      },
      "source": [
        "print(re.search('bar\\Z', 'foobar'))"
      ],
      "execution_count": null,
      "outputs": [
        {
          "output_type": "stream",
          "name": "stdout",
          "text": [
            "<re.Match object; span=(3, 6), match='bar'>\n"
          ]
        }
      ]
    },
    {
      "cell_type": "code",
      "metadata": {
        "colab": {
          "base_uri": "https://localhost:8080/"
        },
        "id": "HBwBuyd1mgTK",
        "outputId": "6dc2fc2e-4b99-4604-92bd-2dbfa95af127"
      },
      "source": [
        "print(re.search('bar\\Z', 'barfoo'))"
      ],
      "execution_count": null,
      "outputs": [
        {
          "output_type": "stream",
          "name": "stdout",
          "text": [
            "None\n"
          ]
        }
      ]
    },
    {
      "cell_type": "code",
      "metadata": {
        "colab": {
          "base_uri": "https://localhost:8080/"
        },
        "id": "m-b6Cj7Smsk6",
        "outputId": "1b1648e4-9ba0-4daa-8868-8821748e2713"
      },
      "source": [
        "re.search('bar$','foobar\\n')\n",
        "#this doesnt apply to \\Z"
      ],
      "execution_count": null,
      "outputs": [
        {
          "output_type": "execute_result",
          "data": {
            "text/plain": [
              "<re.Match object; span=(3, 6), match='bar'>"
            ]
          },
          "metadata": {},
          "execution_count": 123
        }
      ]
    },
    {
      "cell_type": "code",
      "metadata": {
        "colab": {
          "base_uri": "https://localhost:8080/"
        },
        "id": "Q_x7s-Ibm4l8",
        "outputId": "0032348d-39fb-4b50-e210-e1b9419a4f20"
      },
      "source": [
        "re.search(r'\\bbar', 'foo bar')"
      ],
      "execution_count": null,
      "outputs": [
        {
          "output_type": "execute_result",
          "data": {
            "text/plain": [
              "<re.Match object; span=(4, 7), match='bar'>"
            ]
          },
          "metadata": {},
          "execution_count": 129
        }
      ]
    },
    {
      "cell_type": "code",
      "metadata": {
        "colab": {
          "base_uri": "https://localhost:8080/"
        },
        "id": "NPFV-zSonsQt",
        "outputId": "4ed71f3c-1a4b-4537-de96-fb6fb7d06763"
      },
      "source": [
        "re.search(r'\\bbar', 'foo.bar')"
      ],
      "execution_count": null,
      "outputs": [
        {
          "output_type": "execute_result",
          "data": {
            "text/plain": [
              "<re.Match object; span=(4, 7), match='bar'>"
            ]
          },
          "metadata": {},
          "execution_count": 134
        }
      ]
    },
    {
      "cell_type": "code",
      "metadata": {
        "colab": {
          "base_uri": "https://localhost:8080/"
        },
        "id": "SXkYX1t3n71n",
        "outputId": "8c84005c-b3dc-4a3e-e02f-4b96bdaf89ca"
      },
      "source": [
        "print(re.search(r'\\bbar', 'foobar'))"
      ],
      "execution_count": null,
      "outputs": [
        {
          "output_type": "stream",
          "name": "stdout",
          "text": [
            "None\n"
          ]
        }
      ]
    },
    {
      "cell_type": "code",
      "metadata": {
        "colab": {
          "base_uri": "https://localhost:8080/"
        },
        "id": "wptTo6cfocGG",
        "outputId": "9e7207d0-bae2-4c79-bac4-9f73d39b904e"
      },
      "source": [
        "re.search(r'chall\\b', 'chall enge')"
      ],
      "execution_count": null,
      "outputs": [
        {
          "output_type": "execute_result",
          "data": {
            "text/plain": [
              "<re.Match object; span=(0, 5), match='chall'>"
            ]
          },
          "metadata": {},
          "execution_count": 139
        }
      ]
    },
    {
      "cell_type": "code",
      "metadata": {
        "colab": {
          "base_uri": "https://localhost:8080/"
        },
        "id": "0Ow_nxERo0tc",
        "outputId": "da6a6225-e1d1-46f3-f07a-a440d47f5d9f"
      },
      "source": [
        "re.search(r'chall\\b', 'chall.enge')"
      ],
      "execution_count": null,
      "outputs": [
        {
          "output_type": "execute_result",
          "data": {
            "text/plain": [
              "<re.Match object; span=(0, 5), match='chall'>"
            ]
          },
          "metadata": {},
          "execution_count": 141
        }
      ]
    },
    {
      "cell_type": "code",
      "metadata": {
        "colab": {
          "base_uri": "https://localhost:8080/"
        },
        "id": "3Srk4DvXpBbA",
        "outputId": "8d5a09ef-cbd3-4d40-84a4-23dc012729f2"
      },
      "source": [
        "print(re.search(r'chall\\b','challenge'))"
      ],
      "execution_count": null,
      "outputs": [
        {
          "output_type": "stream",
          "name": "stdout",
          "text": [
            "None\n"
          ]
        }
      ]
    },
    {
      "cell_type": "code",
      "metadata": {
        "colab": {
          "base_uri": "https://localhost:8080/"
        },
        "id": "R10eNQgPqnR6",
        "outputId": "965c8f42-8c2d-4a2f-8392-9292ca6e9406"
      },
      "source": [
        "re.search(r'\\bbar\\b','foo bar baz')"
      ],
      "execution_count": null,
      "outputs": [
        {
          "output_type": "execute_result",
          "data": {
            "text/plain": [
              "<re.Match object; span=(4, 7), match='bar'>"
            ]
          },
          "metadata": {},
          "execution_count": 145
        }
      ]
    },
    {
      "cell_type": "code",
      "metadata": {
        "colab": {
          "base_uri": "https://localhost:8080/"
        },
        "id": "hXwMJMJgq4BQ",
        "outputId": "43a76a05-eb1a-4a9b-f8e2-106525ad56bb"
      },
      "source": [
        "re.search(r'\\bbar\\b', 'foo (bar) baz')"
      ],
      "execution_count": null,
      "outputs": [
        {
          "output_type": "execute_result",
          "data": {
            "text/plain": [
              "<re.Match object; span=(5, 8), match='bar'>"
            ]
          },
          "metadata": {},
          "execution_count": 147
        }
      ]
    },
    {
      "cell_type": "code",
      "metadata": {
        "colab": {
          "base_uri": "https://localhost:8080/"
        },
        "id": "qnxL37GqrMid",
        "outputId": "119f0825-8b02-440d-dcb3-11012bf7627b"
      },
      "source": [
        "print(re.search(r'\\bbar\\b', 'foobarbaz'))"
      ],
      "execution_count": null,
      "outputs": [
        {
          "output_type": "stream",
          "name": "stdout",
          "text": [
            "None\n"
          ]
        }
      ]
    },
    {
      "cell_type": "code",
      "metadata": {
        "colab": {
          "base_uri": "https://localhost:8080/"
        },
        "id": "3a9HjESSrchk",
        "outputId": "45dabbfc-8a3d-4efd-8656-4b92a4f1e4e3"
      },
      "source": [
        "print(re.search(r'\\Bbar\\B', 'bar'))"
      ],
      "execution_count": null,
      "outputs": [
        {
          "output_type": "stream",
          "name": "stdout",
          "text": [
            "None\n"
          ]
        }
      ]
    },
    {
      "cell_type": "code",
      "metadata": {
        "colab": {
          "base_uri": "https://localhost:8080/"
        },
        "id": "ZHbaT9Cirowz",
        "outputId": "248e8621-369a-48df-98cd-51540b0f09a5"
      },
      "source": [
        "print(re.search(r'\\Bbar\\B', '.bar'))"
      ],
      "execution_count": null,
      "outputs": [
        {
          "output_type": "stream",
          "name": "stdout",
          "text": [
            "None\n"
          ]
        }
      ]
    },
    {
      "cell_type": "code",
      "metadata": {
        "colab": {
          "base_uri": "https://localhost:8080/"
        },
        "id": "sJgDKiT_r1B7",
        "outputId": "138d1fb7-5126-4cf8-cf33-5e2781dd5d91"
      },
      "source": [
        "re.search(r'\\Bfoo\\B','barfoobaz')"
      ],
      "execution_count": null,
      "outputs": [
        {
          "output_type": "execute_result",
          "data": {
            "text/plain": [
              "<re.Match object; span=(3, 6), match='foo'>"
            ]
          },
          "metadata": {},
          "execution_count": 156
        }
      ]
    },
    {
      "cell_type": "code",
      "metadata": {
        "colab": {
          "base_uri": "https://localhost:8080/"
        },
        "id": "hnBpOuxyr_z5",
        "outputId": "d731f145-3e3c-4127-cffa-d852238eec34"
      },
      "source": [
        "re.search('foo-*bar', 'foobar')"
      ],
      "execution_count": null,
      "outputs": [
        {
          "output_type": "execute_result",
          "data": {
            "text/plain": [
              "<re.Match object; span=(0, 6), match='foobar'>"
            ]
          },
          "metadata": {},
          "execution_count": 160
        }
      ]
    },
    {
      "cell_type": "code",
      "metadata": {
        "colab": {
          "base_uri": "https://localhost:8080/"
        },
        "id": "dxLbYGcAs-q4",
        "outputId": "0a10a6ef-5d68-4f98-b5c4-c34a49fb0e22"
      },
      "source": [
        "re.search('foo-*bar','foo-bar')"
      ],
      "execution_count": null,
      "outputs": [
        {
          "output_type": "execute_result",
          "data": {
            "text/plain": [
              "<re.Match object; span=(0, 7), match='foo-bar'>"
            ]
          },
          "metadata": {},
          "execution_count": 162
        }
      ]
    },
    {
      "cell_type": "code",
      "metadata": {
        "colab": {
          "base_uri": "https://localhost:8080/"
        },
        "id": "0bpTlSpCtKm3",
        "outputId": "2ff7ac0a-6482-4027-8472-a3d7027c5a48"
      },
      "source": [
        "re.search('foo-*bar', 'foo--bar')"
      ],
      "execution_count": null,
      "outputs": [
        {
          "output_type": "execute_result",
          "data": {
            "text/plain": [
              "<re.Match object; span=(0, 8), match='foo--bar'>"
            ]
          },
          "metadata": {},
          "execution_count": 165
        }
      ]
    },
    {
      "cell_type": "code",
      "metadata": {
        "colab": {
          "base_uri": "https://localhost:8080/"
        },
        "id": "OuwoDDh9tdCM",
        "outputId": "b8674058-90ff-43ba-a294-b8753b1679df"
      },
      "source": [
        "re.search('foo.*bar', '#foo$qux@grault%bar#')"
      ],
      "execution_count": null,
      "outputs": [
        {
          "output_type": "execute_result",
          "data": {
            "text/plain": [
              "<re.Match object; span=(1, 19), match='foo$qux@grault%bar'>"
            ]
          },
          "metadata": {},
          "execution_count": 167
        }
      ]
    },
    {
      "cell_type": "code",
      "metadata": {
        "colab": {
          "base_uri": "https://localhost:8080/"
        },
        "id": "ahIQ1b9tt4Fh",
        "outputId": "c30cacc1-c7ea-45fc-d3e9-2fd5aa7531c1"
      },
      "source": [
        "print(re.search('foo-+bar', 'foobar'))"
      ],
      "execution_count": null,
      "outputs": [
        {
          "output_type": "stream",
          "name": "stdout",
          "text": [
            "None\n"
          ]
        }
      ]
    },
    {
      "cell_type": "code",
      "metadata": {
        "colab": {
          "base_uri": "https://localhost:8080/"
        },
        "id": "ZDf5zPmpuEjN",
        "outputId": "4b8b23bb-6e84-48a8-a2ad-02475a08bc1c"
      },
      "source": [
        "re.search('foo-+bar','foo--bar')"
      ],
      "execution_count": null,
      "outputs": [
        {
          "output_type": "execute_result",
          "data": {
            "text/plain": [
              "<re.Match object; span=(0, 8), match='foo--bar'>"
            ]
          },
          "metadata": {},
          "execution_count": 171
        }
      ]
    },
    {
      "cell_type": "code",
      "metadata": {
        "colab": {
          "base_uri": "https://localhost:8080/"
        },
        "id": "ktnzoH_byY2G",
        "outputId": "0103cc62-90ac-4a78-efd9-228d4a8acf84"
      },
      "source": [
        "re.search('foo-?bar', 'foobar')"
      ],
      "execution_count": null,
      "outputs": [
        {
          "output_type": "execute_result",
          "data": {
            "text/plain": [
              "<re.Match object; span=(0, 6), match='foobar'>"
            ]
          },
          "metadata": {},
          "execution_count": 173
        }
      ]
    },
    {
      "cell_type": "code",
      "metadata": {
        "colab": {
          "base_uri": "https://localhost:8080/"
        },
        "id": "bSN5wM-3ykRa",
        "outputId": "af9930ae-a71d-4b89-9881-6ce3ab72a1d1"
      },
      "source": [
        "re.search('foo-?bar', 'foo-bar')"
      ],
      "execution_count": null,
      "outputs": [
        {
          "output_type": "execute_result",
          "data": {
            "text/plain": [
              "<re.Match object; span=(0, 7), match='foo-bar'>"
            ]
          },
          "metadata": {},
          "execution_count": 175
        }
      ]
    },
    {
      "cell_type": "code",
      "metadata": {
        "colab": {
          "base_uri": "https://localhost:8080/"
        },
        "id": "C5G6YpZhysGL",
        "outputId": "cedb1122-048b-4291-f475-cafaaf5c8280"
      },
      "source": [
        "print(re.search('foo-?bar', 'foo--bar'))"
      ],
      "execution_count": null,
      "outputs": [
        {
          "output_type": "stream",
          "name": "stdout",
          "text": [
            "None\n"
          ]
        }
      ]
    },
    {
      "cell_type": "code",
      "metadata": {
        "colab": {
          "base_uri": "https://localhost:8080/"
        },
        "id": "u1Knxdk4zEYI",
        "outputId": "48ce8504-eef3-42df-8a8f-b9fe64b71946"
      },
      "source": [
        "re.search('<.*>','%<foo> <bar> <baz>%')"
      ],
      "execution_count": null,
      "outputs": [
        {
          "output_type": "execute_result",
          "data": {
            "text/plain": [
              "<re.Match object; span=(1, 18), match='<foo> <bar> <baz>'>"
            ]
          },
          "metadata": {},
          "execution_count": 180
        }
      ]
    },
    {
      "cell_type": "code",
      "metadata": {
        "colab": {
          "base_uri": "https://localhost:8080/"
        },
        "id": "GnnIUc4XzgUE",
        "outputId": "d092281e-c97b-4dcd-be1f-5af32227baf2"
      },
      "source": [
        "re.search('<.+?>','%<foo> <bar> <barry>%')"
      ],
      "execution_count": null,
      "outputs": [
        {
          "output_type": "execute_result",
          "data": {
            "text/plain": [
              "<re.Match object; span=(1, 6), match='<foo>'>"
            ]
          },
          "metadata": {},
          "execution_count": 182
        }
      ]
    },
    {
      "cell_type": "code",
      "metadata": {
        "colab": {
          "base_uri": "https://localhost:8080/"
        },
        "id": "rXtztvB80Ved",
        "outputId": "804ba90d-033a-429a-f480-2f1eaa4c87f3"
      },
      "source": [
        "re.search('ba?', 'baaby')"
      ],
      "execution_count": null,
      "outputs": [
        {
          "output_type": "execute_result",
          "data": {
            "text/plain": [
              "<re.Match object; span=(0, 2), match='ba'>"
            ]
          },
          "metadata": {},
          "execution_count": 184
        }
      ]
    },
    {
      "cell_type": "code",
      "metadata": {
        "colab": {
          "base_uri": "https://localhost:8080/"
        },
        "id": "J1kCGNOw0fFd",
        "outputId": "7af9ca39-cf8a-4deb-924b-a37e01ff2fcd"
      },
      "source": [
        "re.search('ba??', 'babby')"
      ],
      "execution_count": null,
      "outputs": [
        {
          "output_type": "execute_result",
          "data": {
            "text/plain": [
              "<re.Match object; span=(0, 1), match='b'>"
            ]
          },
          "metadata": {},
          "execution_count": 186
        }
      ]
    },
    {
      "cell_type": "code",
      "metadata": {
        "colab": {
          "base_uri": "https://localhost:8080/"
        },
        "id": "zr_Ebq9X0oUT",
        "outputId": "9207751d-a76a-4d9f-f83c-462c63b8b59e"
      },
      "source": [
        "#number of times.\n",
        "print(re.search('x-{3}x', 'x--x'))"
      ],
      "execution_count": null,
      "outputs": [
        {
          "output_type": "stream",
          "name": "stdout",
          "text": [
            "None\n"
          ]
        }
      ]
    },
    {
      "cell_type": "code",
      "metadata": {
        "colab": {
          "base_uri": "https://localhost:8080/"
        },
        "id": "H2QIGfQl08Xj",
        "outputId": "dcdd629a-3f4c-43d6-b2b8-59e801738705"
      },
      "source": [
        "re.search('x-{3}x', 'x---x')"
      ],
      "execution_count": null,
      "outputs": [
        {
          "output_type": "execute_result",
          "data": {
            "text/plain": [
              "<re.Match object; span=(0, 5), match='x---x'>"
            ]
          },
          "metadata": {},
          "execution_count": 190
        }
      ]
    },
    {
      "cell_type": "code",
      "metadata": {
        "colab": {
          "base_uri": "https://localhost:8080/"
        },
        "id": "yVg2GAZH1JW6",
        "outputId": "fa21ccf2-f226-4785-e527-903c9670411b"
      },
      "source": [
        "print(re.search('x-{3}x', 'x----x'))"
      ],
      "execution_count": null,
      "outputs": [
        {
          "output_type": "stream",
          "name": "stdout",
          "text": [
            "None\n"
          ]
        }
      ]
    },
    {
      "cell_type": "code",
      "metadata": {
        "colab": {
          "base_uri": "https://localhost:8080/"
        },
        "id": "jgJDp5lm1XNx",
        "outputId": "54aa727b-9d7b-4584-a3a7-6debe69676a2"
      },
      "source": [
        "for i in range(1, 6):\n",
        "    s=f\"x{'-'*i}x\"\n",
        "    print(f'{i}{s:10}', re.search('x-{2, 4}x', s))"
      ],
      "execution_count": null,
      "outputs": [
        {
          "output_type": "stream",
          "name": "stdout",
          "text": [
            "1x-x        None\n",
            "2x--x       None\n",
            "3x---x      None\n",
            "4x----x     None\n",
            "5x-----x    None\n"
          ]
        }
      ]
    },
    {
      "cell_type": "code",
      "metadata": {
        "colab": {
          "base_uri": "https://localhost:8080/"
        },
        "id": "wdaEedWb2RbZ",
        "outputId": "72a90db6-1dab-4889-b3ab-b07f10e12ca9"
      },
      "source": [
        "re.search('x{bank}y', 'x{bank}y')"
      ],
      "execution_count": null,
      "outputs": [
        {
          "output_type": "execute_result",
          "data": {
            "text/plain": [
              "<re.Match object; span=(0, 8), match='x{bank}y'>"
            ]
          },
          "metadata": {},
          "execution_count": 197
        }
      ]
    },
    {
      "cell_type": "code",
      "metadata": {
        "colab": {
          "base_uri": "https://localhost:8080/"
        },
        "id": "ijWF8a_G2kII",
        "outputId": "a6fbda66-7fef-4c8b-aafe-2f163192133e"
      },
      "source": [
        "re.search('x{bank, money}y', 'x{bank, money}y')"
      ],
      "execution_count": null,
      "outputs": [
        {
          "output_type": "execute_result",
          "data": {
            "text/plain": [
              "<re.Match object; span=(0, 15), match='x{bank, money}y'>"
            ]
          },
          "metadata": {},
          "execution_count": 199
        }
      ]
    },
    {
      "cell_type": "code",
      "metadata": {
        "colab": {
          "base_uri": "https://localhost:8080/"
        },
        "id": "Rh70iTDT2zXP",
        "outputId": "286c941f-b8c0-4d7b-d58a-407651a87c4b"
      },
      "source": [
        "re.search('a{3,5}', 'aaaaaaaaa')\n",
        "#longest possible match"
      ],
      "execution_count": null,
      "outputs": [
        {
          "output_type": "execute_result",
          "data": {
            "text/plain": [
              "<re.Match object; span=(0, 5), match='aaaaa'>"
            ]
          },
          "metadata": {},
          "execution_count": 202
        }
      ]
    },
    {
      "cell_type": "code",
      "metadata": {
        "colab": {
          "base_uri": "https://localhost:8080/"
        },
        "id": "5qhL7Erx3iKG",
        "outputId": "5751e77e-2293-4d77-ce39-bd2abe74c5f7"
      },
      "source": [
        "re.search('a{3,5}?', 'aaaaaaaa')\n",
        "#shortest possible match"
      ],
      "execution_count": null,
      "outputs": [
        {
          "output_type": "execute_result",
          "data": {
            "text/plain": [
              "<re.Match object; span=(0, 3), match='aaa'>"
            ]
          },
          "metadata": {},
          "execution_count": 204
        }
      ]
    },
    {
      "cell_type": "code",
      "metadata": {
        "colab": {
          "base_uri": "https://localhost:8080/"
        },
        "id": "HLxoUu-f30wH",
        "outputId": "17348d0f-9cc5-463a-c3d6-cc04243ab470"
      },
      "source": [
        "re.search('(bar)', 'foo bar baz')"
      ],
      "execution_count": null,
      "outputs": [
        {
          "output_type": "execute_result",
          "data": {
            "text/plain": [
              "<re.Match object; span=(4, 7), match='bar'>"
            ]
          },
          "metadata": {},
          "execution_count": 206
        }
      ]
    },
    {
      "cell_type": "code",
      "metadata": {
        "colab": {
          "base_uri": "https://localhost:8080/"
        },
        "id": "LZT_zHK25Nhp",
        "outputId": "3a99e974-a7ca-4ec7-8c00-8a12b6ef064a"
      },
      "source": [
        "re.search('bar','sane bar math')"
      ],
      "execution_count": null,
      "outputs": [
        {
          "output_type": "execute_result",
          "data": {
            "text/plain": [
              "<re.Match object; span=(5, 8), match='bar'>"
            ]
          },
          "metadata": {},
          "execution_count": 208
        }
      ]
    },
    {
      "cell_type": "code",
      "metadata": {
        "colab": {
          "base_uri": "https://localhost:8080/"
        },
        "id": "Q0MwbHiy5gaW",
        "outputId": "993cd7de-2bfd-4fe9-c56d-5593218627bf"
      },
      "source": [
        "#treating a group as a unit.\n",
        "re.search('(bar)+', 'fear bar choose')"
      ],
      "execution_count": null,
      "outputs": [
        {
          "output_type": "execute_result",
          "data": {
            "text/plain": [
              "<re.Match object; span=(5, 8), match='bar'>"
            ]
          },
          "metadata": {},
          "execution_count": 210
        }
      ]
    },
    {
      "cell_type": "code",
      "metadata": {
        "colab": {
          "base_uri": "https://localhost:8080/"
        },
        "id": "xniNebVK51ha",
        "outputId": "ee5e0c61-54dd-4559-9941-62d263f53699"
      },
      "source": [
        "re.search('(bar)+', 'foo barbar choose')"
      ],
      "execution_count": null,
      "outputs": [
        {
          "output_type": "execute_result",
          "data": {
            "text/plain": [
              "<re.Match object; span=(4, 10), match='barbar'>"
            ]
          },
          "metadata": {},
          "execution_count": 212
        }
      ]
    },
    {
      "cell_type": "code",
      "metadata": {
        "colab": {
          "base_uri": "https://localhost:8080/"
        },
        "id": "R6Q7f_Lt6ArA",
        "outputId": "1ccff4f9-1403-4308-a775-43d0adb74e63"
      },
      "source": [
        "re.search('(bar)+', 'foo barbar barbarbarbar')"
      ],
      "execution_count": null,
      "outputs": [
        {
          "output_type": "execute_result",
          "data": {
            "text/plain": [
              "<re.Match object; span=(4, 10), match='barbar'>"
            ]
          },
          "metadata": {},
          "execution_count": 214
        }
      ]
    },
    {
      "cell_type": "code",
      "metadata": {
        "colab": {
          "base_uri": "https://localhost:8080/"
        },
        "id": "2VZyXemw6URE",
        "outputId": "67f26e9d-0584-490c-a792-cc1a59dc68ff"
      },
      "source": [
        "re.search('(ba[rx]){2,4}(qux)?', 'baxbarbaxqux')"
      ],
      "execution_count": null,
      "outputs": [
        {
          "output_type": "execute_result",
          "data": {
            "text/plain": [
              "<re.Match object; span=(0, 12), match='baxbarbaxqux'>"
            ]
          },
          "metadata": {},
          "execution_count": 217
        }
      ]
    },
    {
      "cell_type": "code",
      "metadata": {
        "colab": {
          "base_uri": "https://localhost:8080/"
        },
        "id": "XQe9Jiab6-d5",
        "outputId": "aacd6fc6-9bb8-4a20-93bc-0fcc63faa513"
      },
      "source": [
        "#nesting group parenthesis\n",
        "re.search('(foo(bar)?)+(\\d\\d\\d)?', 'foofoobar')"
      ],
      "execution_count": null,
      "outputs": [
        {
          "output_type": "execute_result",
          "data": {
            "text/plain": [
              "<re.Match object; span=(0, 9), match='foofoobar'>"
            ]
          },
          "metadata": {},
          "execution_count": 220
        }
      ]
    },
    {
      "cell_type": "code",
      "metadata": {
        "colab": {
          "base_uri": "https://localhost:8080/"
        },
        "id": "7T373Oic7pS-",
        "outputId": "ceec770b-0976-40b9-b0bd-e2c098d23805"
      },
      "source": [
        "re.search('(foo(bar)?)+(\\d\\d\\d)', 'foofoobar098')"
      ],
      "execution_count": null,
      "outputs": [
        {
          "output_type": "execute_result",
          "data": {
            "text/plain": [
              "<re.Match object; span=(0, 12), match='foofoobar098'>"
            ]
          },
          "metadata": {},
          "execution_count": 222
        }
      ]
    },
    {
      "cell_type": "code",
      "metadata": {
        "colab": {
          "base_uri": "https://localhost:8080/"
        },
        "id": "sAcCoA607-ub",
        "outputId": "80a49643-b20d-4565-9979-e797469e36a2"
      },
      "source": [
        "m=re.search('(\\w+),(\\w+),(\\w+)', 'foo,quux,baz')\n",
        "m"
      ],
      "execution_count": null,
      "outputs": [
        {
          "output_type": "execute_result",
          "data": {
            "text/plain": [
              "<re.Match object; span=(0, 12), match='foo,quux,baz'>"
            ]
          },
          "metadata": {},
          "execution_count": 224
        }
      ]
    },
    {
      "cell_type": "code",
      "metadata": {
        "colab": {
          "base_uri": "https://localhost:8080/",
          "height": 35
        },
        "id": "wdTnwiz_8eGx",
        "outputId": "19f15aa5-a365-421f-9d80-008c6a7a1fb6"
      },
      "source": [
        "z= re.search('(\\w+),(\\w+),(\\w+)', 'your,feet,will')\n",
        "z.group()"
      ],
      "execution_count": null,
      "outputs": [
        {
          "output_type": "execute_result",
          "data": {
            "application/vnd.google.colaboratory.intrinsic+json": {
              "type": "string"
            },
            "text/plain": [
              "'your,feet,will'"
            ]
          },
          "metadata": {},
          "execution_count": 229
        }
      ]
    },
    {
      "cell_type": "code",
      "metadata": {
        "colab": {
          "base_uri": "https://localhost:8080/",
          "height": 35
        },
        "id": "_7kvPz3L9MKc",
        "outputId": "0954bda3-309a-48d9-f9cb-701456007824"
      },
      "source": [
        "z.group(1)\n",
        "z.group(2)\n",
        "z.group(3)"
      ],
      "execution_count": null,
      "outputs": [
        {
          "output_type": "execute_result",
          "data": {
            "application/vnd.google.colaboratory.intrinsic+json": {
              "type": "string"
            },
            "text/plain": [
              "'will'"
            ]
          },
          "metadata": {},
          "execution_count": 231
        }
      ]
    },
    {
      "cell_type": "code",
      "metadata": {
        "colab": {
          "base_uri": "https://localhost:8080/",
          "height": 35
        },
        "id": "rXnS7hIL9XgI",
        "outputId": "2d84693c-b72d-4aca-a144-cf8c5b4ce1bc"
      },
      "source": [
        "z.group(0)"
      ],
      "execution_count": null,
      "outputs": [
        {
          "output_type": "execute_result",
          "data": {
            "application/vnd.google.colaboratory.intrinsic+json": {
              "type": "string"
            },
            "text/plain": [
              "'your,feet,will'"
            ]
          },
          "metadata": {},
          "execution_count": 233
        }
      ]
    },
    {
      "cell_type": "code",
      "metadata": {
        "colab": {
          "base_uri": "https://localhost:8080/"
        },
        "id": "n9lAUWJK9biH",
        "outputId": "ef24d926-33c3-4861-a0c6-6d64ed405615"
      },
      "source": [
        "z.group(2,3)"
      ],
      "execution_count": null,
      "outputs": [
        {
          "output_type": "execute_result",
          "data": {
            "text/plain": [
              "('feet', 'will')"
            ]
          },
          "metadata": {},
          "execution_count": 235
        }
      ]
    },
    {
      "cell_type": "code",
      "metadata": {
        "colab": {
          "base_uri": "https://localhost:8080/"
        },
        "id": "zGvuXerV9mP2",
        "outputId": "1f9447ff-dc83-43ab-84b0-aa0766bc93ac"
      },
      "source": [
        "z.group(3, 2, 1)"
      ],
      "execution_count": null,
      "outputs": [
        {
          "output_type": "execute_result",
          "data": {
            "text/plain": [
              "('will', 'feet', 'your')"
            ]
          },
          "metadata": {},
          "execution_count": 237
        }
      ]
    },
    {
      "cell_type": "code",
      "metadata": {
        "colab": {
          "base_uri": "https://localhost:8080/",
          "height": 35
        },
        "id": "mjGwcGZp9rhe",
        "outputId": "c22fab2c-7f96-4bbe-eff3-808984c9c6f3"
      },
      "source": [
        "regex=r'(\\w+),\\1'\n",
        "m= re.search(regex, 'foo,foo')\n",
        "m\n",
        "m.group(1)"
      ],
      "execution_count": null,
      "outputs": [
        {
          "output_type": "execute_result",
          "data": {
            "application/vnd.google.colaboratory.intrinsic+json": {
              "type": "string"
            },
            "text/plain": [
              "'foo'"
            ]
          },
          "metadata": {},
          "execution_count": 270
        }
      ]
    },
    {
      "cell_type": "code",
      "metadata": {
        "colab": {
          "base_uri": "https://localhost:8080/"
        },
        "id": "2hpcglxMBdJ7",
        "outputId": "2fef9be2-7c45-493e-8439-28ac632c975d"
      },
      "source": [
        "z=re.search('(?P<w1>\\w+),(?P<w2>\\w+),(?P<w3>\\w+)', 'I,love,Maths')\n",
        "z.group('w1','w2','w3')"
      ],
      "execution_count": null,
      "outputs": [
        {
          "output_type": "execute_result",
          "data": {
            "text/plain": [
              "('I', 'love', 'Maths')"
            ]
          },
          "metadata": {},
          "execution_count": 250
        }
      ]
    },
    {
      "cell_type": "code",
      "metadata": {
        "colab": {
          "base_uri": "https://localhost:8080/",
          "height": 35
        },
        "id": "aeCJUr3HEB-u",
        "outputId": "76c8f106-ec79-4e6c-df7c-ff6313da7cb1"
      },
      "source": [
        "n=re.search(r'(?P<word>\\w+),(?P=word)','foo,foo')\n",
        "n\n",
        "n.group('word')\n"
      ],
      "execution_count": null,
      "outputs": [
        {
          "output_type": "execute_result",
          "data": {
            "application/vnd.google.colaboratory.intrinsic+json": {
              "type": "string"
            },
            "text/plain": [
              "'foo'"
            ]
          },
          "metadata": {},
          "execution_count": 273
        }
      ]
    },
    {
      "cell_type": "code",
      "metadata": {
        "colab": {
          "base_uri": "https://localhost:8080/",
          "height": 35
        },
        "id": "6n0P_mjDH5tN",
        "outputId": "ac215683-7f5e-42eb-d261-f76a3d989bd7"
      },
      "source": [
        "m=re.match(r'(?P<num>\\d+)\\.(?P=num)', '135.135')\n",
        "m\n",
        "m.group('num')"
      ],
      "execution_count": null,
      "outputs": [
        {
          "output_type": "execute_result",
          "data": {
            "application/vnd.google.colaboratory.intrinsic+json": {
              "type": "string"
            },
            "text/plain": [
              "'135'"
            ]
          },
          "metadata": {},
          "execution_count": 279
        }
      ]
    },
    {
      "cell_type": "code",
      "metadata": {
        "colab": {
          "base_uri": "https://localhost:8080/"
        },
        "id": "UXj-m6CIKGKL",
        "outputId": "1d574811-8653-4a46-e92e-ba82a61ce4e2"
      },
      "source": [
        "m = re.search('(\\w+),(?:\\w+),(\\w+)', 'foo,quux,baz')\n",
        "m.groups()"
      ],
      "execution_count": null,
      "outputs": [
        {
          "output_type": "execute_result",
          "data": {
            "text/plain": [
              "('foo', 'baz')"
            ]
          },
          "metadata": {},
          "execution_count": 287
        }
      ]
    },
    {
      "cell_type": "code",
      "metadata": {
        "colab": {
          "base_uri": "https://localhost:8080/"
        },
        "id": "NETgVXgpRxxP",
        "outputId": "45dfe94d-0320-43b1-a08a-532bc4e02bf3"
      },
      "source": [
        "#noncpaturingparenhesis\n",
        "regex=r'^(coco)?foo(?(1)bar|baz)'\n",
        "re.search(regex, 'cocofoobar')"
      ],
      "execution_count": null,
      "outputs": [
        {
          "output_type": "execute_result",
          "data": {
            "text/plain": [
              "<re.Match object; span=(0, 10), match='cocofoobar'>"
            ]
          },
          "metadata": {},
          "execution_count": 295
        }
      ]
    },
    {
      "cell_type": "code",
      "metadata": {
        "colab": {
          "base_uri": "https://localhost:8080/"
        },
        "id": "V3A6fdoEUyv0",
        "outputId": "95eafa18-08d5-4b25-a3dc-00524b1cd76d"
      },
      "source": [
        "print(re.search('foo(?=[a-z])', 'foo123'))\n"
      ],
      "execution_count": null,
      "outputs": [
        {
          "output_type": "stream",
          "name": "stdout",
          "text": [
            "None\n"
          ]
        }
      ]
    },
    {
      "cell_type": "code",
      "metadata": {
        "colab": {
          "base_uri": "https://localhost:8080/"
        },
        "id": "kyHi6lUoWS55",
        "outputId": "72411247-3abd-4cbc-c9b9-d46b5ad8a9b8"
      },
      "source": [
        "print(re.search('foo(?=[a-z])','foobar'))"
      ],
      "execution_count": null,
      "outputs": [
        {
          "output_type": "stream",
          "name": "stdout",
          "text": [
            "<re.Match object; span=(0, 3), match='foo'>\n"
          ]
        }
      ]
    },
    {
      "cell_type": "code",
      "metadata": {
        "colab": {
          "base_uri": "https://localhost:8080/"
        },
        "id": "WCfvBS-kWkG3",
        "outputId": "6d9132dd-e31e-41b5-a676-7f787a3d2d98"
      },
      "source": [
        "re.search('foo([a-z])','foobar')\n",
        "#without the lookahead\n"
      ],
      "execution_count": null,
      "outputs": [
        {
          "output_type": "execute_result",
          "data": {
            "text/plain": [
              "<re.Match object; span=(0, 4), match='foob'>"
            ]
          },
          "metadata": {},
          "execution_count": 301
        }
      ]
    },
    {
      "cell_type": "code",
      "metadata": {
        "colab": {
          "base_uri": "https://localhost:8080/"
        },
        "id": "aWlgdzAgXMp1",
        "outputId": "829981f5-de62-4f0f-adb7-e57ff03690ca"
      },
      "source": [
        "print(re.search('foo(?![a-z])','foo123'))"
      ],
      "execution_count": null,
      "outputs": [
        {
          "output_type": "stream",
          "name": "stdout",
          "text": [
            "<re.Match object; span=(0, 3), match='foo'>\n"
          ]
        }
      ]
    },
    {
      "cell_type": "code",
      "metadata": {
        "colab": {
          "base_uri": "https://localhost:8080/"
        },
        "id": "PzDxLLibYOEh",
        "outputId": "50a8d8fb-f402-4d88-e49d-927c37bfeba4"
      },
      "source": [
        "print(re.search('(?<=qux)bar', 'foobar'))"
      ],
      "execution_count": null,
      "outputs": [
        {
          "output_type": "stream",
          "name": "stdout",
          "text": [
            "None\n"
          ]
        }
      ]
    },
    {
      "cell_type": "code",
      "metadata": {
        "colab": {
          "base_uri": "https://localhost:8080/"
        },
        "id": "AEwIUbnEZRWY",
        "outputId": "05465fb5-5af7-45cf-a1dd-45d36ed3ce2b"
      },
      "source": [
        "re.search(\"(?<=a{3})def\", \"aaadef\")"
      ],
      "execution_count": null,
      "outputs": [
        {
          "output_type": "execute_result",
          "data": {
            "text/plain": [
              "<re.Match object; span=(3, 6), match='def'>"
            ]
          },
          "metadata": {},
          "execution_count": 308
        }
      ]
    },
    {
      "cell_type": "code",
      "metadata": {
        "colab": {
          "base_uri": "https://localhost:8080/"
        },
        "id": "N69JEd8gZ39i",
        "outputId": "b8cc6690-52e5-4e1b-c1f4-c43871a5cc4f"
      },
      "source": [
        "print(re.search('(?<!foo)bar','foobar'))\n",
        "#requires that it shouldnt match."
      ],
      "execution_count": null,
      "outputs": [
        {
          "output_type": "stream",
          "name": "stdout",
          "text": [
            "None\n"
          ]
        }
      ]
    },
    {
      "cell_type": "code",
      "metadata": {
        "colab": {
          "base_uri": "https://localhost:8080/"
        },
        "id": "nxWr9zNiarLD",
        "outputId": "de31fc74-8083-44af-8c16-579ab232625c"
      },
      "source": [
        "re.search('pizza|coffee|tea', 'tea')"
      ],
      "execution_count": 313,
      "outputs": [
        {
          "output_type": "execute_result",
          "data": {
            "text/plain": [
              "<re.Match object; span=(0, 3), match='tea'>"
            ]
          },
          "metadata": {},
          "execution_count": 313
        }
      ]
    },
    {
      "cell_type": "code",
      "metadata": {
        "colab": {
          "base_uri": "https://localhost:8080/"
        },
        "id": "cV7LRoykePaR",
        "outputId": "62044c8b-527d-4532-cfeb-715e7839f432"
      },
      "source": [
        "re.search('foo|grault', 'foograult')"
      ],
      "execution_count": 315,
      "outputs": [
        {
          "output_type": "execute_result",
          "data": {
            "text/plain": [
              "<re.Match object; span=(0, 3), match='foo'>"
            ]
          },
          "metadata": {},
          "execution_count": 315
        }
      ]
    },
    {
      "cell_type": "code",
      "metadata": {
        "colab": {
          "base_uri": "https://localhost:8080/"
        },
        "id": "Jt3f53biefcd",
        "outputId": "612c5d77-5e3d-4ee3-a921-e5757fa7ddd5"
      },
      "source": [
        "#a sequance od one or more strings\n",
        "re.search('(tea|coffee|milk)+', 'milkmilkmilkmilk')"
      ],
      "execution_count": 317,
      "outputs": [
        {
          "output_type": "execute_result",
          "data": {
            "text/plain": [
              "<re.Match object; span=(0, 16), match='milkmilkmilkmilk'>"
            ]
          },
          "metadata": {},
          "execution_count": 317
        }
      ]
    },
    {
      "cell_type": "code",
      "metadata": {
        "colab": {
          "base_uri": "https://localhost:8080/"
        },
        "id": "LwP_siSafDSB",
        "outputId": "8c05b51b-d2b8-4685-920d-313fca895fcf"
      },
      "source": [
        "re.search('[0-9]+|[a-f]', 'life227')"
      ],
      "execution_count": 319,
      "outputs": [
        {
          "output_type": "execute_result",
          "data": {
            "text/plain": [
              "<re.Match object; span=(2, 3), match='f'>"
            ]
          },
          "metadata": {},
          "execution_count": 319
        }
      ]
    },
    {
      "cell_type": "code",
      "metadata": {
        "colab": {
          "base_uri": "https://localhost:8080/"
        },
        "id": "LvSSTTePfhM5",
        "outputId": "2c3dc46d-a58e-41ee-b19a-b2deefaf5b06"
      },
      "source": [
        "re.search('a+','aaaAAA')"
      ],
      "execution_count": 321,
      "outputs": [
        {
          "output_type": "execute_result",
          "data": {
            "text/plain": [
              "<re.Match object; span=(0, 3), match='aaa'>"
            ]
          },
          "metadata": {},
          "execution_count": 321
        }
      ]
    },
    {
      "cell_type": "code",
      "metadata": {
        "colab": {
          "base_uri": "https://localhost:8080/"
        },
        "id": "1ywPEci8fzyc",
        "outputId": "83b1891e-4a8f-4347-81fe-edc21881a385"
      },
      "source": [
        "re.search('A+', 'aaaAAA')"
      ],
      "execution_count": 323,
      "outputs": [
        {
          "output_type": "execute_result",
          "data": {
            "text/plain": [
              "<re.Match object; span=(3, 6), match='AAA'>"
            ]
          },
          "metadata": {},
          "execution_count": 323
        }
      ]
    },
    {
      "cell_type": "code",
      "metadata": {
        "colab": {
          "base_uri": "https://localhost:8080/"
        },
        "id": "JAHV6XHWf8aO",
        "outputId": "9d92581d-9815-4768-cf8d-5fa835486c1c"
      },
      "source": [
        "re.search('A+','aaaAAA', re.I)"
      ],
      "execution_count": 325,
      "outputs": [
        {
          "output_type": "execute_result",
          "data": {
            "text/plain": [
              "<re.Match object; span=(0, 6), match='aaaAAA'>"
            ]
          },
          "metadata": {},
          "execution_count": 325
        }
      ]
    },
    {
      "cell_type": "code",
      "metadata": {
        "colab": {
          "base_uri": "https://localhost:8080/"
        },
        "id": "HkOucmHVgHG3",
        "outputId": "8c7d091a-e447-4b9a-96ad-71d72394f0fe"
      },
      "source": [
        "re.search('[a-z]+','alGezera',re.IGNORECASE)"
      ],
      "execution_count": 327,
      "outputs": [
        {
          "output_type": "execute_result",
          "data": {
            "text/plain": [
              "<re.Match object; span=(0, 8), match='alGezera'>"
            ]
          },
          "metadata": {},
          "execution_count": 327
        }
      ]
    },
    {
      "cell_type": "code",
      "metadata": {
        "colab": {
          "base_uri": "https://localhost:8080/"
        },
        "id": "r9LS2CfDgqwH",
        "outputId": "18c13ad4-8fdc-4ce6-bc33-feda246669a7"
      },
      "source": [
        "s='sommeil\\nparielle\\nsaga'\n",
        "re.search('^sommeil',s)"
      ],
      "execution_count": 330,
      "outputs": [
        {
          "output_type": "execute_result",
          "data": {
            "text/plain": [
              "<re.Match object; span=(0, 7), match='sommeil'>"
            ]
          },
          "metadata": {},
          "execution_count": 330
        }
      ]
    },
    {
      "cell_type": "code",
      "metadata": {
        "colab": {
          "base_uri": "https://localhost:8080/"
        },
        "id": "lg4FZAjJhtUN",
        "outputId": "fd41c784-67bb-4e00-8c94-eea6dcdd13ea"
      },
      "source": [
        "re.search('^parielle',s, re.M)\n"
      ],
      "execution_count": 338,
      "outputs": [
        {
          "output_type": "execute_result",
          "data": {
            "text/plain": [
              "<re.Match object; span=(8, 16), match='parielle'>"
            ]
          },
          "metadata": {},
          "execution_count": 338
        }
      ]
    },
    {
      "cell_type": "code",
      "metadata": {
        "colab": {
          "base_uri": "https://localhost:8080/"
        },
        "id": "_meXWQqxj7NW",
        "outputId": "65138a47-f21e-47ca-8d72-3a22c139bcc4"
      },
      "source": [
        "print(re.search('foo.bar', 'foo\\nbar'))\n"
      ],
      "execution_count": 340,
      "outputs": [
        {
          "output_type": "stream",
          "name": "stdout",
          "text": [
            "None\n"
          ]
        }
      ]
    },
    {
      "cell_type": "code",
      "metadata": {
        "colab": {
          "base_uri": "https://localhost:8080/"
        },
        "id": "2sh_H17qkNpy",
        "outputId": "44ae52df-db86-46c0-ce1b-86cf30439381"
      },
      "source": [
        "re.search('foo.bar','foo\\nbar', re.DOTALL)"
      ],
      "execution_count": 342,
      "outputs": [
        {
          "output_type": "execute_result",
          "data": {
            "text/plain": [
              "<re.Match object; span=(0, 7), match='foo\\nbar'>"
            ]
          },
          "metadata": {},
          "execution_count": 342
        }
      ]
    },
    {
      "cell_type": "code",
      "metadata": {
        "colab": {
          "base_uri": "https://localhost:8080/"
        },
        "id": "RG22EyZ_kaNy",
        "outputId": "dbcf3b7e-934f-4344-d001-8b76988b09b9"
      },
      "source": [
        "re.search('foo.bar','fooxbar', re.DEBUG)"
      ],
      "execution_count": 344,
      "outputs": [
        {
          "output_type": "stream",
          "name": "stdout",
          "text": [
            "LITERAL 102\n",
            "LITERAL 111\n",
            "LITERAL 111\n",
            "ANY None\n",
            "LITERAL 98\n",
            "LITERAL 97\n",
            "LITERAL 114\n",
            "\n",
            " 0. INFO 12 0b1 7 7 (to 13)\n",
            "      prefix_skip 3\n",
            "      prefix [0x66, 0x6f, 0x6f] ('foo')\n",
            "      overlap [0, 0, 0]\n",
            "13: LITERAL 0x66 ('f')\n",
            "15. LITERAL 0x6f ('o')\n",
            "17. LITERAL 0x6f ('o')\n",
            "19. ANY\n",
            "20. LITERAL 0x62 ('b')\n",
            "22. LITERAL 0x61 ('a')\n",
            "24. LITERAL 0x72 ('r')\n",
            "26. SUCCESS\n"
          ]
        },
        {
          "output_type": "execute_result",
          "data": {
            "text/plain": [
              "<re.Match object; span=(0, 7), match='fooxbar'>"
            ]
          },
          "metadata": {},
          "execution_count": 344
        }
      ]
    },
    {
      "cell_type": "code",
      "metadata": {
        "colab": {
          "base_uri": "https://localhost:8080/"
        },
        "id": "sghWCM5YkoQi",
        "outputId": "c45db94a-b2c4-4823-c9a4-7323f2c87f78"
      },
      "source": [
        "regex=r'^(\\(\\d{3}\\))?\\s*\\d{3}[-.]\\d{4}$'\n",
        "re.search(regex, '414.9229', re.DEBUG)"
      ],
      "execution_count": 345,
      "outputs": [
        {
          "output_type": "stream",
          "name": "stdout",
          "text": [
            "AT AT_BEGINNING\n",
            "MAX_REPEAT 0 1\n",
            "  SUBPATTERN 1 0 0\n",
            "    LITERAL 40\n",
            "    MAX_REPEAT 3 3\n",
            "      IN\n",
            "        CATEGORY CATEGORY_DIGIT\n",
            "    LITERAL 41\n",
            "MAX_REPEAT 0 MAXREPEAT\n",
            "  IN\n",
            "    CATEGORY CATEGORY_SPACE\n",
            "MAX_REPEAT 3 3\n",
            "  IN\n",
            "    CATEGORY CATEGORY_DIGIT\n",
            "IN\n",
            "  LITERAL 45\n",
            "  LITERAL 46\n",
            "MAX_REPEAT 4 4\n",
            "  IN\n",
            "    CATEGORY CATEGORY_DIGIT\n",
            "AT AT_END\n",
            "\n",
            " 0. INFO 4 0b0 8 MAXREPEAT (to 5)\n",
            " 5: AT BEGINNING\n",
            " 7. REPEAT 21 0 1 (to 29)\n",
            "11.   MARK 0\n",
            "13.   LITERAL 0x28 ('(')\n",
            "15.   REPEAT_ONE 9 3 3 (to 25)\n",
            "19.     IN 4 (to 24)\n",
            "21.       CATEGORY UNI_DIGIT\n",
            "23.       FAILURE\n",
            "24:     SUCCESS\n",
            "25:   LITERAL 0x29 (')')\n",
            "27.   MARK 1\n",
            "29: MAX_UNTIL\n",
            "30. REPEAT_ONE 9 0 MAXREPEAT (to 40)\n",
            "34.   IN 4 (to 39)\n",
            "36.     CATEGORY UNI_SPACE\n",
            "38.     FAILURE\n",
            "39:   SUCCESS\n",
            "40: REPEAT_ONE 9 3 3 (to 50)\n",
            "44.   IN 4 (to 49)\n",
            "46.     CATEGORY UNI_DIGIT\n",
            "48.     FAILURE\n",
            "49:   SUCCESS\n",
            "50: IN 5 (to 56)\n",
            "52.   RANGE 0x2d 0x2e ('-'-'.')\n",
            "55.   FAILURE\n",
            "56: REPEAT_ONE 9 4 4 (to 66)\n",
            "60.   IN 4 (to 65)\n",
            "62.     CATEGORY UNI_DIGIT\n",
            "64.     FAILURE\n",
            "65:   SUCCESS\n",
            "66: AT END\n",
            "68. SUCCESS\n"
          ]
        },
        {
          "output_type": "execute_result",
          "data": {
            "text/plain": [
              "<re.Match object; span=(0, 8), match='414.9229'>"
            ]
          },
          "metadata": {},
          "execution_count": 345
        }
      ]
    }
  ]
}