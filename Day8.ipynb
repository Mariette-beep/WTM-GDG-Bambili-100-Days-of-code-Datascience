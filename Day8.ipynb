{
  "nbformat": 4,
  "nbformat_minor": 0,
  "metadata": {
    "colab": {
      "name": "Day8.ipynb",
      "provenance": [],
      "authorship_tag": "ABX9TyMwoZN7fPQIYacGVNjInb5/",
      "include_colab_link": true
    },
    "kernelspec": {
      "display_name": "Python 3",
      "name": "python3"
    },
    "language_info": {
      "name": "python"
    }
  },
  "cells": [
    {
      "cell_type": "markdown",
      "metadata": {
        "id": "view-in-github",
        "colab_type": "text"
      },
      "source": [
        "<a href=\"https://colab.research.google.com/github/Mariette-beep/WTM-GDG-Bambili-100-Days-of-code-Datascience/blob/main/Day8.ipynb\" target=\"_parent\"><img src=\"https://colab.research.google.com/assets/colab-badge.svg\" alt=\"Open In Colab\"/></a>"
      ]
    },
    {
      "cell_type": "code",
      "metadata": {
        "colab": {
          "base_uri": "https://localhost:8080/"
        },
        "id": "I8xdsR5yHxd9",
        "outputId": "f0cdbbb0-2dde-4177-f275-120a6f2e211b"
      },
      "source": [
        "x = 0\n",
        "y =  8\n",
        "if x < y:  \n",
        " print('oui')\n",
        "if y < x:\n",
        "   print('non')\n",
        "if y:\n",
        "   print('yes')\n",
        "if x:\n",
        "   print('ouais')\n",
        "if 'aul' in 'graul':\n",
        "   print('ok')\n",
        "if 'quux' in ['foo','bar','baz']:\n",
        "   print('bien')\n",
        " "
      ],
      "execution_count": null,
      "outputs": [
        {
          "name": "stdout",
          "output_type": "stream",
          "text": [
            "oui\n",
            "yes\n",
            "ok\n"
          ]
        }
      ]
    },
    {
      "cell_type": "markdown",
      "metadata": {
        "id": "v2QWwKZ0VjIF"
      },
      "source": [
        "#we can also have:"
      ]
    },
    {
      "cell_type": "code",
      "metadata": {
        "colab": {
          "base_uri": "https://localhost:8080/"
        },
        "id": "sPiuJ_M0Vm7o",
        "outputId": "8164c859-6e59-4e4e-94c7-0bfeb15a6c3b"
      },
      "source": [
        "if 'foo' in ['bar', 'baz', 'qux','foo']:\n",
        "  print('Expresion was True')\n",
        "  print('Executing statement in suite')\n",
        "  print('...')\n",
        "  print('Done')\n",
        "  print('After Conditional')"
      ],
      "execution_count": null,
      "outputs": [
        {
          "name": "stdout",
          "output_type": "stream",
          "text": [
            "Expresion was True\n",
            "Executing statement in suite\n",
            "...\n",
            "Done\n",
            "After Conditional\n"
          ]
        }
      ]
    },
    {
      "cell_type": "code",
      "metadata": {
        "colab": {
          "base_uri": "https://localhost:8080/"
        },
        "id": "H-SK5Br7XCpj",
        "outputId": "4bf29fb0-4ab1-424d-c033-3fab351bb20e"
      },
      "source": [
        "x=20\n",
        "if x<50:\n",
        "  print('(first suite)')\n",
        "  print('x is small')\n",
        "else:\n",
        "  print('(second suite)')\n",
        "  print('x is large')"
      ],
      "execution_count": null,
      "outputs": [
        {
          "name": "stdout",
          "output_type": "stream",
          "text": [
            "(first suite)\n",
            "x is small\n"
          ]
        }
      ]
    },
    {
      "cell_type": "code",
      "metadata": {
        "colab": {
          "base_uri": "https://localhost:8080/"
        },
        "id": "Uf4mpYW0X0ZQ",
        "outputId": "b6797419-8fac-41f8-cd1d-f0894beb9101"
      },
      "source": [
        "name='Joe'\n",
        "if name =='Fred':\n",
        "  print('Hello Fred')\n",
        "elif name == 'Xander':\n",
        "  print('Hello Xander')\n",
        "elif name == 'Joe':\n",
        "  print('Heya Joe')\n",
        "elif name=='Arnold':\n",
        "  print('hello Arnold')\n",
        "else:\n",
        "    print('I dont know who you are!')\n"
      ],
      "execution_count": null,
      "outputs": [
        {
          "name": "stdout",
          "output_type": "stream",
          "text": [
            "Heya Joe\n"
          ]
        }
      ]
    },
    {
      "cell_type": "markdown",
      "metadata": {
        "id": "rzE6hK3nwSIA"
      },
      "source": [
        "#Alternately we can have:"
      ]
    },
    {
      "cell_type": "code",
      "metadata": {
        "colab": {
          "background_save": true,
          "base_uri": "https://localhost:8080/",
          "height": 128
        },
        "id": "4befUlMUwWau",
        "outputId": "3c5fa316-d8cf-407d-c526-0e92f13c4245"
      },
      "source": [
        "names={\n",
        "    'Fred':'Hello Fred',\n",
        "    'Xander'\n",
        "    'Joe':'Hello Joe',\n",
        "    'Arnold': 'Hello Arnold'\n",
        "}\n",
        "print(names.get('Joe, I dont know who you are!')"
      ],
      "execution_count": null,
      "outputs": [
        {
          "ename": "SyntaxError",
          "evalue": "ignored",
          "output_type": "error",
          "traceback": [
            "\u001b[0;36m  File \u001b[0;32m\"<ipython-input-8-f883f1bc1970>\"\u001b[0;36m, line \u001b[0;32m4\u001b[0m\n\u001b[0;31m    'Joe':'Hello Joe',\u001b[0m\n\u001b[0m         ^\u001b[0m\n\u001b[0;31mSyntaxError\u001b[0m\u001b[0;31m:\u001b[0m invalid syntax\n"
          ]
        }
      ]
    }
  ]
}