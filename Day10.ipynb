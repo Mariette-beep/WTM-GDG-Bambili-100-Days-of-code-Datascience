{
  "nbformat": 4,
  "nbformat_minor": 0,
  "metadata": {
    "colab": {
      "name": "Day10.ipynb",
      "provenance": [],
      "authorship_tag": "ABX9TyN9oACnhozQ/y9Q9X5ujel9",
      "include_colab_link": true
    },
    "kernelspec": {
      "display_name": "Python 3",
      "name": "python3"
    },
    "language_info": {
      "name": "python"
    }
  },
  "cells": [
    {
      "cell_type": "markdown",
      "metadata": {
        "id": "view-in-github",
        "colab_type": "text"
      },
      "source": [
        "<a href=\"https://colab.research.google.com/github/Mariette-beep/WTM-GDG-Bambili-100-Days-of-code-Datascience/blob/main/Day10.ipynb\" target=\"_parent\"><img src=\"https://colab.research.google.com/assets/colab-badge.svg\" alt=\"Open In Colab\"/></a>"
      ]
    },
    {
      "cell_type": "code",
      "metadata": {
        "colab": {
          "base_uri": "https://localhost:8080/"
        },
        "id": "hPow_Y9jUQup",
        "outputId": "501e58e2-3bbf-424c-d976-4eba5bbe11bd"
      },
      "source": [
        "a=['foo', 'bar', 'baz']\n",
        "for i in a:\n",
        "  print(i)"
      ],
      "execution_count": null,
      "outputs": [
        {
          "name": "stdout",
          "output_type": "stream",
          "text": [
            "foo\n",
            "bar\n",
            "baz\n"
          ]
        }
      ]
    },
    {
      "cell_type": "code",
      "metadata": {
        "colab": {
          "base_uri": "https://localhost:8080/"
        },
        "id": "iS9EAy1fUhId",
        "outputId": "947878c2-8f93-4ba8-8fa2-5763506658aa"
      },
      "source": [
        "iter('foobar')"
      ],
      "execution_count": null,
      "outputs": [
        {
          "data": {
            "text/plain": [
              "<str_iterator at 0x7f3ee13b2f90>"
            ]
          },
          "execution_count": 5,
          "metadata": {},
          "output_type": "execute_result"
        }
      ]
    },
    {
      "cell_type": "code",
      "metadata": {
        "colab": {
          "base_uri": "https://localhost:8080/"
        },
        "id": "Vp0GO6MhUsDB",
        "outputId": "c2422707-de6b-49a0-f547-5aa3410b03ac"
      },
      "source": [
        "iter(('foo', 'bar', 'baz'))"
      ],
      "execution_count": null,
      "outputs": [
        {
          "data": {
            "text/plain": [
              "<tuple_iterator at 0x7f3ee5598d10>"
            ]
          },
          "execution_count": 7,
          "metadata": {},
          "output_type": "execute_result"
        }
      ]
    },
    {
      "cell_type": "code",
      "metadata": {
        "colab": {
          "background_save": true,
          "base_uri": "https://localhost:8080/"
        },
        "id": "hfYqAUR-U4EB",
        "outputId": "2770095b-472d-42f2-f3c3-e787128fa337"
      },
      "source": [
        "iter(['foo', 'bar', 'baz'])"
      ],
      "execution_count": null,
      "outputs": [
        {
          "data": {
            "text/plain": [
              "<list_iterator at 0x7f3ee13d7250>"
            ]
          },
          "execution_count": null,
          "metadata": {},
          "output_type": "execute_result"
        }
      ]
    },
    {
      "cell_type": "code",
      "metadata": {
        "colab": {
          "base_uri": "https://localhost:8080/",
          "height": 178
        },
        "id": "rrqaNJPsRfPz",
        "outputId": "1d3c052c-d855-4ad7-ae52-14b74bd14167"
      },
      "source": [
        "iter(42)\n",
        "#intergers are not iterable\n",
        "#floats are not iterable"
      ],
      "execution_count": 2,
      "outputs": [
        {
          "output_type": "error",
          "ename": "TypeError",
          "evalue": "ignored",
          "traceback": [
            "\u001b[0;31m---------------------------------------------------------------------------\u001b[0m",
            "\u001b[0;31mTypeError\u001b[0m                                 Traceback (most recent call last)",
            "\u001b[0;32m<ipython-input-2-d5cf37cbd890>\u001b[0m in \u001b[0;36m<module>\u001b[0;34m()\u001b[0m\n\u001b[0;32m----> 1\u001b[0;31m \u001b[0miter\u001b[0m\u001b[0;34m(\u001b[0m\u001b[0;36m42\u001b[0m\u001b[0;34m)\u001b[0m\u001b[0;34m\u001b[0m\u001b[0;34m\u001b[0m\u001b[0m\n\u001b[0m\u001b[1;32m      2\u001b[0m \u001b[0;31m#intergers are not iterable\u001b[0m\u001b[0;34m\u001b[0m\u001b[0;34m\u001b[0m\u001b[0;34m\u001b[0m\u001b[0m\n",
            "\u001b[0;31mTypeError\u001b[0m: 'int' object is not iterable"
          ]
        }
      ]
    },
    {
      "cell_type": "code",
      "metadata": {
        "colab": {
          "base_uri": "https://localhost:8080/",
          "height": 35
        },
        "id": "-X1NSs0AR4It",
        "outputId": "fd06e510-67a8-47ed-b1cd-4501c69d035b"
      },
      "source": [
        "a=['foo', 'bar', 'baz']\n",
        "itr= iter(a) #this is the iterator gotten by iter(), it retains its state.\n",
        "next(itr)\n",
        "next(itr)\n",
        "next(itr)"
      ],
      "execution_count": 6,
      "outputs": [
        {
          "output_type": "execute_result",
          "data": {
            "application/vnd.google.colaboratory.intrinsic+json": {
              "type": "string"
            },
            "text/plain": [
              "'baz'"
            ]
          },
          "metadata": {},
          "execution_count": 6
        }
      ]
    },
    {
      "cell_type": "code",
      "metadata": {
        "colab": {
          "base_uri": "https://localhost:8080/",
          "height": 35
        },
        "id": "iO5UOCwfTBs8",
        "outputId": "69faf713-f3c0-42a5-8077-f148970d3a5f"
      },
      "source": [
        "a=['foo', 'bar', 'baz']\n",
        "itr1= iter(a)\n",
        "itr2= iter(a)\n",
        "next(itr1)\n",
        "next(itr2) #each iterator gives different results, when applied."
      ],
      "execution_count": 12,
      "outputs": [
        {
          "output_type": "execute_result",
          "data": {
            "application/vnd.google.colaboratory.intrinsic+json": {
              "type": "string"
            },
            "text/plain": [
              "'foo'"
            ]
          },
          "metadata": {},
          "execution_count": 12
        }
      ]
    },
    {
      "cell_type": "code",
      "metadata": {
        "colab": {
          "base_uri": "https://localhost:8080/"
        },
        "id": "MUWJP5FGWkHY",
        "outputId": "94e29af9-3c8e-4988-e8b5-165f525e8ad0"
      },
      "source": [
        "a=['foo', 'bar', 'baz']\n",
        "itr=iter(a)\n",
        "list(itr)\n"
      ],
      "execution_count": 18,
      "outputs": [
        {
          "output_type": "execute_result",
          "data": {
            "text/plain": [
              "['foo', 'bar', 'baz']"
            ]
          },
          "metadata": {},
          "execution_count": 18
        }
      ]
    },
    {
      "cell_type": "code",
      "metadata": {
        "colab": {
          "base_uri": "https://localhost:8080/"
        },
        "id": "tgf_E2D-XqN2",
        "outputId": "66c1b867-91b9-46ab-b003-e052b33c3800"
      },
      "source": [
        "a=['foo', 'bar', 'boo']\n",
        "itr=iter(a)\n",
        "tuple(itr)"
      ],
      "execution_count": 21,
      "outputs": [
        {
          "output_type": "execute_result",
          "data": {
            "text/plain": [
              "('foo', 'bar', 'boo')"
            ]
          },
          "metadata": {},
          "execution_count": 21
        }
      ]
    },
    {
      "cell_type": "code",
      "metadata": {
        "colab": {
          "base_uri": "https://localhost:8080/"
        },
        "id": "4e8gMNSKYd7u",
        "outputId": "7bf118e4-83a7-4943-c4c4-b288a50bf7f2"
      },
      "source": [
        "a=['foo', 'bar', 'boo']\n",
        "itr=iter(a)\n",
        "set(itr)"
      ],
      "execution_count": 23,
      "outputs": [
        {
          "output_type": "execute_result",
          "data": {
            "text/plain": [
              "{'bar', 'boo', 'foo'}"
            ]
          },
          "metadata": {},
          "execution_count": 23
        }
      ]
    },
    {
      "cell_type": "code",
      "metadata": {
        "colab": {
          "base_uri": "https://localhost:8080/"
        },
        "id": "9cZQhCtnYv3c",
        "outputId": "1f4fc673-20cf-4ff8-c9d1-8df20d588507"
      },
      "source": [
        "#iterating through a dictionary\n",
        "d={'foo':1, 'bar':2, 'boo':3}\n",
        "for k in d:\n",
        "  print(k) #the loop variable is assigned to the dictionary keys.\n",
        "for k in d:\n",
        "  print(d[k]) # this gets the value keys."
      ],
      "execution_count": 26,
      "outputs": [
        {
          "output_type": "stream",
          "name": "stdout",
          "text": [
            "foo\n",
            "bar\n",
            "boo\n",
            "1\n",
            "2\n",
            "3\n"
          ]
        }
      ]
    },
    {
      "cell_type": "code",
      "metadata": {
        "colab": {
          "base_uri": "https://localhost:8080/"
        },
        "id": "DPPKPz3kZjdO",
        "outputId": "a0b2294a-4d18-4cda-e80c-e85042d07762"
      },
      "source": [
        "a={'foo':1, 'bar':2, 'boo':3}\n",
        "for v in d.values():\n",
        "  print(v)"
      ],
      "execution_count": 29,
      "outputs": [
        {
          "output_type": "stream",
          "name": "stdout",
          "text": [
            "1\n",
            "2\n",
            "3\n"
          ]
        }
      ]
    },
    {
      "cell_type": "code",
      "metadata": {
        "colab": {
          "base_uri": "https://localhost:8080/"
        },
        "id": "PR2O-5NgaGIU",
        "outputId": "0b4fa992-68b7-46de-b09c-8f4136040ded"
      },
      "source": [
        "# for tuples\n",
        "i,j=(1,2)\n",
        "print(i,j)\n",
        "for i,j in [(1,2),(3,4),(5,6)]:\n",
        "  print(i,j)\n"
      ],
      "execution_count": 34,
      "outputs": [
        {
          "output_type": "stream",
          "name": "stdout",
          "text": [
            "1 2\n",
            "1 2\n",
            "3 4\n",
            "5 6\n"
          ]
        }
      ]
    },
    {
      "cell_type": "code",
      "metadata": {
        "colab": {
          "base_uri": "https://localhost:8080/"
        },
        "id": "yWyXeItLaVr2",
        "outputId": "e5916df9-b21b-4e1e-87a0-9ccc6121992c"
      },
      "source": [
        "d={'foo':1, 'baz':2, 'boo':3}\n",
        "d.items() # returns list of key/value as tuples."
      ],
      "execution_count": 37,
      "outputs": [
        {
          "output_type": "execute_result",
          "data": {
            "text/plain": [
              "dict_items([('foo', 1), ('baz', 2), ('boo', 3)])"
            ]
          },
          "metadata": {},
          "execution_count": 37
        }
      ]
    },
    {
      "cell_type": "code",
      "metadata": {
        "colab": {
          "base_uri": "https://localhost:8080/",
          "height": 128
        },
        "id": "TNw44JoxbH96",
        "outputId": "f0033e4c-01f6-4971-8ff9-62aceccb4010"
      },
      "source": [
        "d={'foo':1, 'bar':2, 'boo':3}\n",
        "for k,v in d.items():\n",
        "  print('k = ', k ', V =', v)"
      ],
      "execution_count": 45,
      "outputs": [
        {
          "output_type": "error",
          "ename": "SyntaxError",
          "evalue": "ignored",
          "traceback": [
            "\u001b[0;36m  File \u001b[0;32m\"<ipython-input-45-3f2c1a21282c>\"\u001b[0;36m, line \u001b[0;32m3\u001b[0m\n\u001b[0;31m    print('k = ', k ', V =', v)\u001b[0m\n\u001b[0m                          ^\u001b[0m\n\u001b[0;31mSyntaxError\u001b[0m\u001b[0;31m:\u001b[0m invalid syntax\n"
          ]
        }
      ]
    },
    {
      "cell_type": "code",
      "metadata": {
        "colab": {
          "base_uri": "https://localhost:8080/"
        },
        "id": "6dz2NIDOgEbR",
        "outputId": "e2465fb5-a45c-4369-9a9d-4ef721725f5a"
      },
      "source": [
        "#the Range function\n",
        "x= range(5) #range is not iterable so doesnt give list of values.\n",
        "x\n",
        "type(x)"
      ],
      "execution_count": 48,
      "outputs": [
        {
          "output_type": "execute_result",
          "data": {
            "text/plain": [
              "range"
            ]
          },
          "metadata": {},
          "execution_count": 48
        }
      ]
    },
    {
      "cell_type": "code",
      "metadata": {
        "colab": {
          "base_uri": "https://localhost:8080/"
        },
        "id": "Md83FFb0g73O",
        "outputId": "b192923d-5ebe-4bdf-c297-e8eaeaf8948e"
      },
      "source": [
        "x=range(5)\n",
        "list(x)"
      ],
      "execution_count": 50,
      "outputs": [
        {
          "output_type": "execute_result",
          "data": {
            "text/plain": [
              "[0, 1, 2, 3, 4]"
            ]
          },
          "metadata": {},
          "execution_count": 50
        }
      ]
    },
    {
      "cell_type": "code",
      "metadata": {
        "colab": {
          "base_uri": "https://localhost:8080/"
        },
        "id": "Ij1L_EKZhB6e",
        "outputId": "b3804db2-8391-4a9e-bb8d-53898568cec3"
      },
      "source": [
        "x=range(6)\n",
        "tuple(x)"
      ],
      "execution_count": 52,
      "outputs": [
        {
          "output_type": "execute_result",
          "data": {
            "text/plain": [
              "(0, 1, 2, 3, 4, 5)"
            ]
          },
          "metadata": {},
          "execution_count": 52
        }
      ]
    },
    {
      "cell_type": "code",
      "metadata": {
        "colab": {
          "base_uri": "https://localhost:8080/"
        },
        "id": "-c9H3gNahHtY",
        "outputId": "c13158e6-c156-4736-fcb5-2c16ba0ee2d6"
      },
      "source": [
        "#range(<begin>, <end>, <stride>)\n",
        "list(range(5, 20, 4))\n"
      ],
      "execution_count": 56,
      "outputs": [
        {
          "output_type": "execute_result",
          "data": {
            "text/plain": [
              "[5, 9, 13, 17]"
            ]
          },
          "metadata": {},
          "execution_count": 56
        }
      ]
    },
    {
      "cell_type": "code",
      "metadata": {
        "colab": {
          "base_uri": "https://localhost:8080/"
        },
        "id": "c25sP_7rhvG9",
        "outputId": "e760e3d3-4876-4d67-d330-9b08fea96373"
      },
      "source": [
        "list(range(5, 20))\n"
      ],
      "execution_count": 58,
      "outputs": [
        {
          "output_type": "execute_result",
          "data": {
            "text/plain": [
              "[5, 6, 7, 8, 9, 10, 11, 12, 13, 14, 15, 16, 17, 18, 19]"
            ]
          },
          "metadata": {},
          "execution_count": 58
        }
      ]
    },
    {
      "cell_type": "code",
      "metadata": {
        "colab": {
          "base_uri": "https://localhost:8080/"
        },
        "id": "gJ7TX48Ph1vo",
        "outputId": "713e9ab4-811a-4aa9-88e2-53cbf84a8280"
      },
      "source": [
        "list(range(-5, 5, 1)) #ranges are not built-in function."
      ],
      "execution_count": 65,
      "outputs": [
        {
          "output_type": "execute_result",
          "data": {
            "text/plain": [
              "[-5, -4, -3, -2, -1, 0, 1, 2, 3, 4]"
            ]
          },
          "metadata": {},
          "execution_count": 65
        }
      ]
    },
    {
      "cell_type": "code",
      "metadata": {
        "colab": {
          "base_uri": "https://localhost:8080/"
        },
        "id": "9mZf5dKLiZ4r",
        "outputId": "c74c71c5-8713-49a6-f032-e727d2129990"
      },
      "source": [
        "for i in ['foo', 'bar', 'baz','qux']:\n",
        "  if 'b' in i:\n",
        "    break\n",
        "  print(i)\n"
      ],
      "execution_count": 72,
      "outputs": [
        {
          "output_type": "stream",
          "name": "stdout",
          "text": [
            "foo\n"
          ]
        }
      ]
    },
    {
      "cell_type": "code",
      "metadata": {
        "colab": {
          "base_uri": "https://localhost:8080/"
        },
        "id": "R26a9P4mk-K7",
        "outputId": "dbbfd2dc-60ac-4fc2-81fd-1b4ecdc150cb"
      },
      "source": [
        "for i in ['foo', 'bar', 'baz', 'qux']:\n",
        "  if 'b' in i:\n",
        "    continue\n",
        "  print(i)"
      ],
      "execution_count": 75,
      "outputs": [
        {
          "output_type": "stream",
          "name": "stdout",
          "text": [
            "foo\n",
            "qux\n"
          ]
        }
      ]
    },
    {
      "cell_type": "code",
      "metadata": {
        "colab": {
          "base_uri": "https://localhost:8080/"
        },
        "id": "eRdk1U4VoJH-",
        "outputId": "50850a6b-6561-40a0-d165-50588e4a69f2"
      },
      "source": [
        "for i in ['foo', 'bar', 'qux']:\n",
        "  print(i)\n",
        "else:\n",
        "  print('Done')"
      ],
      "execution_count": 77,
      "outputs": [
        {
          "output_type": "stream",
          "name": "stdout",
          "text": [
            "foo\n",
            "bar\n",
            "qux\n",
            "Done\n"
          ]
        }
      ]
    },
    {
      "cell_type": "code",
      "metadata": {
        "colab": {
          "base_uri": "https://localhost:8080/"
        },
        "id": "zVcPfTOAo8Ft",
        "outputId": "b492c0c7-b990-42d0-df7a-0197eff7995d"
      },
      "source": [
        "for i in ['foo', 'bar', 'baz']:\n",
        "  if i=='bar':\n",
        "    break\n",
        "  print(i) #the else wont be executed if the list is broken with a break statement.\n",
        "else:\n",
        "  print('Done')"
      ],
      "execution_count": 78,
      "outputs": [
        {
          "output_type": "stream",
          "name": "stdout",
          "text": [
            "foo\n"
          ]
        }
      ]
    }
  ]
}