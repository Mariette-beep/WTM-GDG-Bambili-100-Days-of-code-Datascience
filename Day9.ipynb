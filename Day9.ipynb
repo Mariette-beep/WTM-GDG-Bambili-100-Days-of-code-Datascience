{
  "nbformat": 4,
  "nbformat_minor": 0,
  "metadata": {
    "colab": {
      "name": "Day9.ipynb",
      "provenance": [],
      "collapsed_sections": [],
      "authorship_tag": "ABX9TyMbF4c6TMTThWBFFrDzJQ02",
      "include_colab_link": true
    },
    "kernelspec": {
      "name": "python3",
      "display_name": "Python 3"
    },
    "language_info": {
      "name": "python"
    }
  },
  "cells": [
    {
      "cell_type": "markdown",
      "metadata": {
        "id": "view-in-github",
        "colab_type": "text"
      },
      "source": [
        "<a href=\"https://colab.research.google.com/github/Mariette-beep/WTM-GDG-Bambili-100-Days-of-code-Datascience/blob/main/Day9.ipynb\" target=\"_parent\"><img src=\"https://colab.research.google.com/assets/colab-badge.svg\" alt=\"Open In Colab\"/></a>"
      ]
    },
    {
      "cell_type": "code",
      "metadata": {
        "colab": {
          "base_uri": "https://localhost:8080/"
        },
        "id": "0EkudzjrL9nc",
        "outputId": "e85a9173-3107-4dac-950d-191cf64c4c78"
      },
      "source": [
        "n=5\n",
        "while n>0:\n",
        "  n-=1\n",
        "  print(n)"
      ],
      "execution_count": null,
      "outputs": [
        {
          "output_type": "stream",
          "name": "stdout",
          "text": [
            "4\n",
            "3\n",
            "2\n",
            "1\n",
            "0\n"
          ]
        }
      ]
    },
    {
      "cell_type": "code",
      "metadata": {
        "id": "0slEyALfOQWS"
      },
      "source": [
        "n=0\n",
        "while n>0:\n",
        "  n-=1\n",
        "  print(n)\n",
        "  #The while loop is executed first then if it is false the rest of the loop isnt printed."
      ],
      "execution_count": null,
      "outputs": []
    },
    {
      "cell_type": "code",
      "metadata": {
        "colab": {
          "base_uri": "https://localhost:8080/"
        },
        "id": "tHb9_jbBO1fc",
        "outputId": "5ca90d24-7a3b-4875-97a8-be4c0fc383bd"
      },
      "source": [
        "a=['foo', 'bar', 'baz']\n",
        "while a:\n",
        "  print(a.pop(-1))\n",
        "     "
      ],
      "execution_count": null,
      "outputs": [
        {
          "output_type": "stream",
          "name": "stdout",
          "text": [
            "baz\n",
            "bar\n",
            "foo\n"
          ]
        }
      ]
    },
    {
      "cell_type": "code",
      "metadata": {
        "colab": {
          "base_uri": "https://localhost:8080/"
        },
        "id": "2hYzG6eLPW-h",
        "outputId": "51f9d383-1a91-4c09-8d4d-715cd103b75a"
      },
      "source": [
        "n=5\n",
        "while n>0:\n",
        "  n-=1\n",
        "  if n==2:\n",
        "    break\n",
        "  print(n)\n",
        "print('loop ended.')"
      ],
      "execution_count": null,
      "outputs": [
        {
          "output_type": "stream",
          "name": "stdout",
          "text": [
            "4\n",
            "3\n",
            "loop ended.\n"
          ]
        }
      ]
    },
    {
      "cell_type": "code",
      "metadata": {
        "colab": {
          "base_uri": "https://localhost:8080/"
        },
        "id": "otmP9njtP4r1",
        "outputId": "87a26375-d4b6-45c5-8c13-5dde134044da"
      },
      "source": [
        "n=5\n",
        "while n>0:\n",
        "  n-=1\n",
        "  print(n)\n",
        "else:\n",
        "  print('loop done')"
      ],
      "execution_count": null,
      "outputs": [
        {
          "output_type": "stream",
          "name": "stdout",
          "text": [
            "4\n",
            "3\n",
            "2\n",
            "1\n",
            "0\n",
            "loop done\n"
          ]
        }
      ]
    },
    {
      "cell_type": "code",
      "metadata": {
        "colab": {
          "base_uri": "https://localhost:8080/"
        },
        "id": "ZANcPNeqR6ZM",
        "outputId": "28afdcf8-f5ed-461b-ff35-22202c47b91f"
      },
      "source": [
        "n=5\n",
        "while n<0:\n",
        " n-=1\n",
        " print(n)\n",
        "else:\n",
        "   print('loop done')"
      ],
      "execution_count": null,
      "outputs": [
        {
          "output_type": "stream",
          "name": "stdout",
          "text": [
            "loop done\n"
          ]
        }
      ]
    },
    {
      "cell_type": "code",
      "metadata": {
        "colab": {
          "base_uri": "https://localhost:8080/"
        },
        "id": "IrXeRXTBT9_G",
        "outputId": "ac407f98-4190-41f1-b321-a02c3be62f71"
      },
      "source": [
        "n=5\n",
        "while n>0:\n",
        "  n-=1\n",
        "  print(n)\n",
        "  if n==2:\n",
        "    break\n",
        "else:\n",
        "  print('loop done')"
      ],
      "execution_count": null,
      "outputs": [
        {
          "output_type": "stream",
          "name": "stdout",
          "text": [
            "4\n",
            "3\n",
            "2\n"
          ]
        }
      ]
    },
    {
      "cell_type": "code",
      "metadata": {
        "colab": {
          "base_uri": "https://localhost:8080/"
        },
        "id": "4VdlieV0Uyk8",
        "outputId": "469d5174-b4b2-48f8-8c37-8f584e9faf49"
      },
      "source": [
        "a=['foo','bar','baz','qux']\n",
        "s='Gorge'\n",
        "i=0\n",
        "while i < len(a):\n",
        "  if a[i]==s:\n",
        "  #processing item found\n",
        "   break\n",
        "  i+=1\n",
        "else:\n",
        "  #processing for item not found\n",
        "  print(s, 'not found in list') \n",
        "   "
      ],
      "execution_count": null,
      "outputs": [
        {
          "output_type": "stream",
          "name": "stdout",
          "text": [
            "Gorge not found in list\n"
          ]
        }
      ]
    },
    {
      "cell_type": "code",
      "metadata": {
        "colab": {
          "base_uri": "https://localhost:8080/"
        },
        "id": "ZEYAUMeAbcio",
        "outputId": "d7476b34-06b6-4bd0-a9ef-36fe6666e178"
      },
      "source": [
        "if s in a:\n",
        "  print(s,'found in list.')\n",
        "else:\n",
        "  print(s, 'not found in list.')"
      ],
      "execution_count": null,
      "outputs": [
        {
          "output_type": "stream",
          "name": "stdout",
          "text": [
            "Gorge not found in list.\n"
          ]
        }
      ]
    },
    {
      "cell_type": "code",
      "metadata": {
        "colab": {
          "base_uri": "https://localhost:8080/"
        },
        "id": "on5vAHuzcXAW",
        "outputId": "3d7b7145-2cbc-445e-d599-d5d9c283e951"
      },
      "source": [
        "#the try statement is used to handle an exception\n",
        "try:\n",
        "  print(a.index('Gorge'))\n",
        "except ValueError:\n",
        "  print(s, 'not found in list')"
      ],
      "execution_count": null,
      "outputs": [
        {
          "output_type": "stream",
          "name": "stdout",
          "text": [
            "Gorge not found in list\n"
          ]
        }
      ]
    },
    {
      "cell_type": "code",
      "metadata": {
        "colab": {
          "base_uri": "https://localhost:8080/"
        },
        "id": "VTqrKtnBdm1J",
        "outputId": "6059145e-ea13-4409-e30b-70c20a3ffe6c"
      },
      "source": [
        "a=['foo','bar', 'baz']\n",
        "while True:\n",
        "  if not a:\n",
        "    break\n",
        "  print(a.pop(-1))\n",
        "  "
      ],
      "execution_count": null,
      "outputs": [
        {
          "output_type": "stream",
          "name": "stdout",
          "text": [
            "baz\n",
            "bar\n",
            "foo\n"
          ]
        }
      ]
    },
    {
      "cell_type": "code",
      "metadata": {
        "id": "PhZPcK4gHafa",
        "colab": {
          "base_uri": "https://localhost:8080/"
        },
        "outputId": "7868a959-0b8d-4a95-f05e-e60b423dfd71"
      },
      "source": [
        "a=['foo', 'bar']\n",
        "while len(a):\n",
        "  print(a.pop(0))\n",
        "b=['baz','qux']\n",
        "while len(b):\n",
        "  print('<', b.pop())"
      ],
      "execution_count": 16,
      "outputs": [
        {
          "output_type": "stream",
          "name": "stdout",
          "text": [
            "foo\n",
            "bar\n",
            "< qux\n",
            "< baz\n"
          ]
        }
      ]
    },
    {
      "cell_type": "code",
      "metadata": {
        "colab": {
          "base_uri": "https://localhost:8080/",
          "height": 229
        },
        "id": "6W0ySZSZK6x6",
        "outputId": "fabb0f9a-05fc-41d2-d1cf-3883532f22d4"
      },
      "source": [
        "\n",
        "if age < 18:\n",
        "  if gender == 'M':\n",
        "    print('son')\n",
        "  else:\n",
        "    print('daughter')\n",
        "elif age >=18 and age < 65:\n",
        "  if gender=='M':\n",
        "    print('father')\n",
        "  else:\n",
        "    print('mother')\n",
        "else:\n",
        "  if gender=='M':\n",
        "    print('grandfather')\n",
        "  else:\n",
        "    print('grandmother')"
      ],
      "execution_count": 20,
      "outputs": [
        {
          "output_type": "error",
          "ename": "NameError",
          "evalue": "ignored",
          "traceback": [
            "\u001b[0;31m---------------------------------------------------------------------------\u001b[0m",
            "\u001b[0;31mNameError\u001b[0m                                 Traceback (most recent call last)",
            "\u001b[0;32m<ipython-input-20-7ad163ac3b0b>\u001b[0m in \u001b[0;36m<module>\u001b[0;34m()\u001b[0m\n\u001b[1;32m      6\u001b[0m     \u001b[0mprint\u001b[0m\u001b[0;34m(\u001b[0m\u001b[0;34m'daughter'\u001b[0m\u001b[0;34m)\u001b[0m\u001b[0;34m\u001b[0m\u001b[0;34m\u001b[0m\u001b[0m\n\u001b[1;32m      7\u001b[0m \u001b[0;32melif\u001b[0m \u001b[0mage\u001b[0m \u001b[0;34m>=\u001b[0m\u001b[0;36m18\u001b[0m \u001b[0;32mand\u001b[0m \u001b[0mage\u001b[0m \u001b[0;34m<\u001b[0m \u001b[0;36m65\u001b[0m\u001b[0;34m:\u001b[0m\u001b[0;34m\u001b[0m\u001b[0;34m\u001b[0m\u001b[0m\n\u001b[0;32m----> 8\u001b[0;31m   \u001b[0;32mif\u001b[0m \u001b[0mgender\u001b[0m\u001b[0;34m==\u001b[0m\u001b[0;34m'M'\u001b[0m\u001b[0;34m:\u001b[0m\u001b[0;34m\u001b[0m\u001b[0;34m\u001b[0m\u001b[0m\n\u001b[0m\u001b[1;32m      9\u001b[0m     \u001b[0mprint\u001b[0m\u001b[0;34m(\u001b[0m\u001b[0;34m'father'\u001b[0m\u001b[0;34m)\u001b[0m\u001b[0;34m\u001b[0m\u001b[0;34m\u001b[0m\u001b[0m\n\u001b[1;32m     10\u001b[0m   \u001b[0;32melse\u001b[0m\u001b[0;34m:\u001b[0m\u001b[0;34m\u001b[0m\u001b[0;34m\u001b[0m\u001b[0m\n",
            "\u001b[0;31mNameError\u001b[0m: name 'gender' is not defined"
          ]
        }
      ]
    }
  ]
}