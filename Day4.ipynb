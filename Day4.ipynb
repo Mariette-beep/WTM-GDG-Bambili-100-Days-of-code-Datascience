{
  "nbformat": 4,
  "nbformat_minor": 0,
  "metadata": {
    "colab": {
      "name": "Day4.ipynb",
      "provenance": [],
      "authorship_tag": "ABX9TyPJ271hJWJG/Fyw/QnqqmDb",
      "include_colab_link": true
    },
    "kernelspec": {
      "name": "python3",
      "display_name": "Python 3"
    },
    "language_info": {
      "name": "python"
    }
  },
  "cells": [
    {
      "cell_type": "markdown",
      "metadata": {
        "id": "view-in-github",
        "colab_type": "text"
      },
      "source": [
        "<a href=\"https://colab.research.google.com/github/Mariette-beep/WTM-GDG-Bambili-100-Days-of-code-Datascience/blob/main/Day4.ipynb\" target=\"_parent\"><img src=\"https://colab.research.google.com/assets/colab-badge.svg\" alt=\"Open In Colab\"/></a>"
      ]
    },
    {
      "cell_type": "code",
      "metadata": {
        "id": "PMJ7ZKwYSBMA"
      },
      "source": [
        "list1=['Hello', 3.5, 4.7, 3.7, 12, 1.1, 2.2, 1001, 200, 11, 'yes','world','hi','lists', 202]"
      ],
      "execution_count": null,
      "outputs": []
    },
    {
      "cell_type": "code",
      "metadata": {
        "id": "qsmjXJ0sS7v1"
      },
      "source": [
        " var1= 'bar' +  ' wine'"
      ],
      "execution_count": null,
      "outputs": []
    },
    {
      "cell_type": "code",
      "metadata": {
        "id": "Vdcxi7yOTQpf"
      },
      "source": [
        "list1.append(var1)"
      ],
      "execution_count": null,
      "outputs": []
    },
    {
      "cell_type": "code",
      "metadata": {
        "colab": {
          "base_uri": "https://localhost:8080/"
        },
        "id": "_A_QcvfNT4CQ",
        "outputId": "b7989039-9f63-465e-9d61-40d9958dbe36"
      },
      "source": [
        "print(list1)"
      ],
      "execution_count": null,
      "outputs": [
        {
          "output_type": "stream",
          "name": "stdout",
          "text": [
            "['Hello', 3.5, 4.7, 3.7, 12, 1.1, 2.2, 1001, 200, 11, 'yes', 'world', 'hi', 'lists', 202, 'bar wine']\n"
          ]
        }
      ]
    },
    {
      "cell_type": "code",
      "metadata": {
        "id": "IUK7YonWUI_c"
      },
      "source": [
        "list4=['bye', 'people', 'party', 'sell', 5, 1.9, -2.3, -4.09, 10, 16, 26, 15, -1.18, 4.07,]"
      ],
      "execution_count": null,
      "outputs": []
    },
    {
      "cell_type": "code",
      "metadata": {
        "id": "XvUdgZu3VctE"
      },
      "source": [
        "list5= list1 + list4"
      ],
      "execution_count": null,
      "outputs": []
    },
    {
      "cell_type": "code",
      "metadata": {
        "colab": {
          "base_uri": "https://localhost:8080/"
        },
        "id": "uy1fLz_iVmCm",
        "outputId": "8a3ba479-6413-4d0e-e37f-8eb395026acf"
      },
      "source": [
        "print(list5)"
      ],
      "execution_count": null,
      "outputs": [
        {
          "output_type": "stream",
          "name": "stdout",
          "text": [
            "['Hello', 3.5, 4.7, 3.7, 12, 1.1, 2.2, 1001, 200, 11, 'yes', 'world', 'hi', 'lists', 202, 'bar wine', 'bye', 'people', 'party', 'sell', 5, 1.9, -2.3, -4.09, 10, 16, 26, 15, -1.18, 4.07]\n"
          ]
        }
      ]
    },
    {
      "cell_type": "code",
      "metadata": {
        "id": "j5DWJNYdWSEO"
      },
      "source": [
        "list2=[5, 6, 7.0, 'Eight', 'Nine']\n",
        "\n"
      ],
      "execution_count": 15,
      "outputs": []
    },
    {
      "cell_type": "code",
      "metadata": {
        "colab": {
          "base_uri": "https://localhost:8080/"
        },
        "id": "8L42lHchPNUD",
        "outputId": "6b4a1887-b0e3-4891-a19d-43f4502daff5"
      },
      "source": [
        "list3=[type(entry) for entry in list2]\n",
        "print(list3)"
      ],
      "execution_count": 17,
      "outputs": [
        {
          "output_type": "stream",
          "name": "stdout",
          "text": [
            "[<class 'int'>, <class 'int'>, <class 'float'>, <class 'str'>, <class 'str'>]\n"
          ]
        }
      ]
    }
  ]
}