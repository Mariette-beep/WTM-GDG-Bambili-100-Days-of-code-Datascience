{
  "nbformat": 4,
  "nbformat_minor": 0,
  "metadata": {
    "colab": {
      "name": "Day6-sets.ipynb",
      "provenance": [],
      "collapsed_sections": [],
      "authorship_tag": "ABX9TyPnVWRewvS8LPsqmNfB/fhX",
      "include_colab_link": true
    },
    "kernelspec": {
      "name": "python3",
      "display_name": "Python 3"
    },
    "language_info": {
      "name": "python"
    }
  },
  "cells": [
    {
      "cell_type": "markdown",
      "metadata": {
        "id": "view-in-github",
        "colab_type": "text"
      },
      "source": [
        "<a href=\"https://colab.research.google.com/github/Mariette-beep/WTM-GDG-Bambili-100-Days-of-code-Datascience/blob/main/Day6_sets.ipynb\" target=\"_parent\"><img src=\"https://colab.research.google.com/assets/colab-badge.svg\" alt=\"Open In Colab\"/></a>"
      ]
    },
    {
      "cell_type": "code",
      "metadata": {
        "colab": {
          "base_uri": "https://localhost:8080/"
        },
        "id": "PUngSvNfdXLX",
        "outputId": "09341888-ec0a-4006-883f-1351268808b1"
      },
      "source": [
        "x=set(['foo', 'bar', 'baz', 'foo', 'qux'])\n",
        "x"
      ],
      "execution_count": null,
      "outputs": [
        {
          "output_type": "execute_result",
          "data": {
            "text/plain": [
              "{'bar', 'baz', 'foo', 'qux'}"
            ]
          },
          "metadata": {},
          "execution_count": 3
        }
      ]
    },
    {
      "cell_type": "code",
      "metadata": {
        "colab": {
          "base_uri": "https://localhost:8080/"
        },
        "id": "WBby_12rrFon",
        "outputId": "b367e401-600f-4828-cca8-9987adf121e5"
      },
      "source": [
        "x=(('foo','bar', 'baz', 'foo', 'qux'))\n",
        "x"
      ],
      "execution_count": null,
      "outputs": [
        {
          "output_type": "execute_result",
          "data": {
            "text/plain": [
              "('foo', 'bar', 'baz', 'foo', 'qux')"
            ]
          },
          "metadata": {},
          "execution_count": 5
        }
      ]
    },
    {
      "cell_type": "code",
      "metadata": {
        "colab": {
          "base_uri": "https://localhost:8080/"
        },
        "id": "bQYohGH_sgcK",
        "outputId": "dd1cdfaf-983d-4349-c06d-226f794cb3d4"
      },
      "source": [
        " b='auux'\n",
        " list(b)"
      ],
      "execution_count": null,
      "outputs": [
        {
          "output_type": "execute_result",
          "data": {
            "text/plain": [
              "['a', 'u', 'u', 'x']"
            ]
          },
          "metadata": {},
          "execution_count": 8
        }
      ]
    },
    {
      "cell_type": "code",
      "metadata": {
        "colab": {
          "base_uri": "https://localhost:8080/"
        },
        "id": "7n8i6zQFtE62",
        "outputId": "9f829f9a-8b64-4612-8641-4b0dd4528941"
      },
      "source": [
        "set(b)"
      ],
      "execution_count": null,
      "outputs": [
        {
          "output_type": "execute_result",
          "data": {
            "text/plain": [
              "{'a', 'u', 'x'}"
            ]
          },
          "metadata": {},
          "execution_count": 11
        }
      ]
    },
    {
      "cell_type": "code",
      "metadata": {
        "colab": {
          "base_uri": "https://localhost:8080/"
        },
        "id": "bwRe5Z8Dv7Y4",
        "outputId": "cc086d0e-24c6-45a4-c068-7233342ca681"
      },
      "source": [
        "y={'foo'}\n",
        "y"
      ],
      "execution_count": null,
      "outputs": [
        {
          "output_type": "execute_result",
          "data": {
            "text/plain": [
              "{'foo'}"
            ]
          },
          "metadata": {},
          "execution_count": 13
        }
      ]
    },
    {
      "cell_type": "code",
      "metadata": {
        "colab": {
          "base_uri": "https://localhost:8080/"
        },
        "id": "XN4FJ6newF6y",
        "outputId": "1c378bff-aeab-4386-c922-800e9b072a73"
      },
      "source": [
        "z=set('foo')\n",
        "z"
      ],
      "execution_count": null,
      "outputs": [
        {
          "output_type": "execute_result",
          "data": {
            "text/plain": [
              "{'f', 'o'}"
            ]
          },
          "metadata": {},
          "execution_count": 16
        }
      ]
    },
    {
      "cell_type": "code",
      "metadata": {
        "id": "3TLAEVIwxLCv"
      },
      "source": [
        "x=set()\n",
        "#empty set"
      ],
      "execution_count": null,
      "outputs": []
    },
    {
      "cell_type": "code",
      "metadata": {
        "id": "zXNbTkVTxRuh"
      },
      "source": [
        "x={}\n",
        "#empty dictionary."
      ],
      "execution_count": null,
      "outputs": []
    },
    {
      "cell_type": "code",
      "metadata": {
        "colab": {
          "base_uri": "https://localhost:8080/"
        },
        "id": "PzLrcH36xX3p",
        "outputId": "c5fc6da2-526e-4866-ea14-8e63eda0ae83"
      },
      "source": [
        "x=set()\n",
        "bool(x)"
      ],
      "execution_count": null,
      "outputs": [
        {
          "output_type": "execute_result",
          "data": {
            "text/plain": [
              "False"
            ]
          },
          "metadata": {},
          "execution_count": 21
        }
      ]
    },
    {
      "cell_type": "code",
      "metadata": {
        "colab": {
          "base_uri": "https://localhost:8080/"
        },
        "id": "_OVADR1zzTP0",
        "outputId": "b3ff13c6-207b-4202-8a86-624eba4dd80b"
      },
      "source": [
        "x={'foo', 'bar', 'baz'}\n",
        "len(x)"
      ],
      "execution_count": null,
      "outputs": [
        {
          "output_type": "execute_result",
          "data": {
            "text/plain": [
              "3"
            ]
          },
          "metadata": {},
          "execution_count": 23
        }
      ]
    },
    {
      "cell_type": "code",
      "metadata": {
        "colab": {
          "base_uri": "https://localhost:8080/"
        },
        "id": "Sy2Y2hsF19iw",
        "outputId": "bfc42c82-25b5-44a3-9716-11e3fd785149"
      },
      "source": [
        "'bar' in x"
      ],
      "execution_count": null,
      "outputs": [
        {
          "output_type": "execute_result",
          "data": {
            "text/plain": [
              "True"
            ]
          },
          "metadata": {},
          "execution_count": 25
        }
      ]
    },
    {
      "cell_type": "code",
      "metadata": {
        "colab": {
          "base_uri": "https://localhost:8080/"
        },
        "id": "L6-mUtCu2FBS",
        "outputId": "9bd69c83-f4f9-41db-f398-36f938113852"
      },
      "source": [
        "'aux' in x"
      ],
      "execution_count": null,
      "outputs": [
        {
          "output_type": "execute_result",
          "data": {
            "text/plain": [
              "False"
            ]
          },
          "metadata": {},
          "execution_count": 27
        }
      ]
    },
    {
      "cell_type": "code",
      "metadata": {
        "colab": {
          "base_uri": "https://localhost:8080/"
        },
        "id": "_ZUopL6B2Jzf",
        "outputId": "1bbd5d3e-a99f-48a0-e78e-a4017d7f0427"
      },
      "source": [
        "x1={'foo', 'bar', 'baz'}\n",
        "x2={'baz', 'qux', 'quux'}\n",
        "x1|x2\n",
        "x1.union(x2)"
      ],
      "execution_count": null,
      "outputs": [
        {
          "output_type": "execute_result",
          "data": {
            "text/plain": [
              "{'bar', 'baz', 'foo', 'quux', 'qux'}"
            ]
          },
          "metadata": {},
          "execution_count": 3
        }
      ]
    },
    {
      "cell_type": "code",
      "metadata": {
        "colab": {
          "base_uri": "https://localhost:8080/"
        },
        "id": "iaoFy1XSWK6k",
        "outputId": "7f561a73-d9db-42f9-c32e-8e86340fbec4"
      },
      "source": [
        "a={1, 2, 3, 4}\n",
        "b={2, 3, 4, 5}\n",
        "c={3, 4, 5, 6}\n",
        "d={4, 5, 6, 7}\n",
        "a|b|c|d\n",
        "a.union(b,c,d)"
      ],
      "execution_count": null,
      "outputs": [
        {
          "output_type": "execute_result",
          "data": {
            "text/plain": [
              "{1, 2, 3, 4, 5, 6, 7}"
            ]
          },
          "metadata": {},
          "execution_count": 6
        }
      ]
    },
    {
      "cell_type": "code",
      "metadata": {
        "colab": {
          "base_uri": "https://localhost:8080/"
        },
        "id": "FE7SWwR3amsl",
        "outputId": "24febf98-b17c-410e-d219-bb9cc7b1c2b3"
      },
      "source": [
        "x1={'foo', 'bar', 'baz'}\n",
        "x2={'baz', 'qux', 'quux'}\n",
        "x1.intersection(x2)\n",
        "x1&x2"
      ],
      "execution_count": null,
      "outputs": [
        {
          "output_type": "execute_result",
          "data": {
            "text/plain": [
              "{'baz'}"
            ]
          },
          "metadata": {},
          "execution_count": 9
        }
      ]
    },
    {
      "cell_type": "code",
      "metadata": {
        "colab": {
          "base_uri": "https://localhost:8080/"
        },
        "id": "RLmk6NOwdDB2",
        "outputId": "9a0e5f36-335c-43ae-aa8a-520631eb8668"
      },
      "source": [
        "a={1, 2, 3, 4}\n",
        "b={2, 3, 4, 5}\n",
        "c={3, 4, 5, 6}\n",
        "d={4, 5, 6, 7}\n",
        "a&b&c&d\n",
        "a.intersection(b,c,d)"
      ],
      "execution_count": null,
      "outputs": [
        {
          "output_type": "execute_result",
          "data": {
            "text/plain": [
              "{4}"
            ]
          },
          "metadata": {},
          "execution_count": 12
        }
      ]
    },
    {
      "cell_type": "code",
      "metadata": {
        "colab": {
          "base_uri": "https://localhost:8080/"
        },
        "id": "plcqRQXJdTqc",
        "outputId": "5de37f58-fa73-44b4-8d6a-18899d5fe21c"
      },
      "source": [
        "x1={'foo', 'bar', 'baz'}\n",
        "x2={'baz', 'qux', 'quux'}\n",
        "x1.difference(x2)\n",
        "x1-x2"
      ],
      "execution_count": null,
      "outputs": [
        {
          "output_type": "execute_result",
          "data": {
            "text/plain": [
              "{'bar', 'foo'}"
            ]
          },
          "metadata": {},
          "execution_count": 15
        }
      ]
    },
    {
      "cell_type": "code",
      "metadata": {
        "colab": {
          "base_uri": "https://localhost:8080/"
        },
        "id": "_e48w8q-ees8",
        "outputId": "3d90b3e8-84b7-48d1-8b03-bd237eb46a5a"
      },
      "source": [
        "a={1, 2, 3, 30, 300}\n",
        "b={10, 20, 30, 40}\n",
        "c={100, 200, 300, 400}\n",
        "a.difference(b,c)\n",
        "a-b-c"
      ],
      "execution_count": null,
      "outputs": [
        {
          "output_type": "execute_result",
          "data": {
            "text/plain": [
              "{1, 2, 3}"
            ]
          },
          "metadata": {},
          "execution_count": 18
        }
      ]
    },
    {
      "cell_type": "code",
      "metadata": {
        "colab": {
          "base_uri": "https://localhost:8080/"
        },
        "id": "52ZyrzdafBzB",
        "outputId": "72bd9430-a1c0-4d8a-b681-e595bc0edff0"
      },
      "source": [
        "x1={'foo', 'bar','baz'}\n",
        "x2={'baz','qux', 'quux'}\n",
        "x1.symmetric_difference(x2)\n",
        "x1^x2"
      ],
      "execution_count": null,
      "outputs": [
        {
          "output_type": "execute_result",
          "data": {
            "text/plain": [
              "{'bar', 'foo', 'quux', 'qux'}"
            ]
          },
          "metadata": {},
          "execution_count": 21
        }
      ]
    },
    {
      "cell_type": "code",
      "metadata": {
        "colab": {
          "base_uri": "https://localhost:8080/"
        },
        "id": "gklSXuY3fxdk",
        "outputId": "704f6d26-2461-4d01-fc34-857ebb822e10"
      },
      "source": [
        "a={1, 2, 3, 4, 5}\n",
        "b={10, 2, 3, 4, 50}\n",
        "c={1, 50, 100}\n",
        "a^b^c"
      ],
      "execution_count": null,
      "outputs": [
        {
          "output_type": "execute_result",
          "data": {
            "text/plain": [
              "{5, 10, 100}"
            ]
          },
          "metadata": {},
          "execution_count": 23
        }
      ]
    },
    {
      "cell_type": "code",
      "metadata": {
        "colab": {
          "base_uri": "https://localhost:8080/"
        },
        "id": "gut59WwAhLR_",
        "outputId": "b49c20bc-7fca-480f-9956-e3e4d69b3f4f"
      },
      "source": [
        "x1={'foo', 'bar', 'baz'}\n",
        "x2={'baz', 'qux', 'quux'}\n",
        "x1.isdisjoint(x2)\n"
      ],
      "execution_count": null,
      "outputs": [
        {
          "output_type": "execute_result",
          "data": {
            "text/plain": [
              "False"
            ]
          },
          "metadata": {},
          "execution_count": 25
        }
      ]
    },
    {
      "cell_type": "code",
      "metadata": {
        "colab": {
          "base_uri": "https://localhost:8080/"
        },
        "id": "taTqYGhZhyUV",
        "outputId": "b5a5f42a-823a-4b52-86ef-289858f9ae8c"
      },
      "source": [
        "x1={1, 3, 5}\n",
        "x2={2, 4, 6}\n",
        "x1.isdisjoint(x2)\n",
        "x1 & x2"
      ],
      "execution_count": null,
      "outputs": [
        {
          "output_type": "execute_result",
          "data": {
            "text/plain": [
              "set()"
            ]
          },
          "metadata": {},
          "execution_count": 28
        }
      ]
    },
    {
      "cell_type": "code",
      "metadata": {
        "colab": {
          "base_uri": "https://localhost:8080/"
        },
        "id": "UYHKen1miNqR",
        "outputId": "9d8fe233-196c-4bf1-b05a-820aa3c17de2"
      },
      "source": [
        "x1={'foo', 'baz'}\n",
        "x2={'foo', 'bar', 'baz'}\n",
        "x1 < x2"
      ],
      "execution_count": null,
      "outputs": [
        {
          "output_type": "execute_result",
          "data": {
            "text/plain": [
              "True"
            ]
          },
          "metadata": {},
          "execution_count": 32
        }
      ]
    },
    {
      "cell_type": "code",
      "metadata": {
        "colab": {
          "base_uri": "https://localhost:8080/"
        },
        "id": "h3YwTpAwjvS9",
        "outputId": "4a501cf4-5cca-41eb-a375-b5dfa7c9914b"
      },
      "source": [
        "x1={'foo','baz','bar'}\n",
        "x2={'foo', 'bar', 'baz'}\n",
        "x1 < x2"
      ],
      "execution_count": null,
      "outputs": [
        {
          "output_type": "execute_result",
          "data": {
            "text/plain": [
              "False"
            ]
          },
          "metadata": {},
          "execution_count": 34
        }
      ]
    },
    {
      "cell_type": "code",
      "metadata": {
        "colab": {
          "base_uri": "https://localhost:8080/"
        },
        "id": "XONt1awQkKZn",
        "outputId": "c5037c01-3abb-432b-dd32-233cb3268f01"
      },
      "source": [
        "x={1, 2, 3, 4, 5}\n",
        "x<=x"
      ],
      "execution_count": null,
      "outputs": [
        {
          "output_type": "execute_result",
          "data": {
            "text/plain": [
              "True"
            ]
          },
          "metadata": {},
          "execution_count": 36
        }
      ]
    },
    {
      "cell_type": "code",
      "metadata": {
        "colab": {
          "base_uri": "https://localhost:8080/"
        },
        "id": "Cy6D-nsikUiE",
        "outputId": "8e9770f5-40eb-4e2b-8aec-52bfb1a5fe20"
      },
      "source": [
        "x={1, 2, 3, 4, 5}\n",
        "x<x"
      ],
      "execution_count": null,
      "outputs": [
        {
          "output_type": "execute_result",
          "data": {
            "text/plain": [
              "False"
            ]
          },
          "metadata": {},
          "execution_count": 38
        }
      ]
    },
    {
      "cell_type": "code",
      "metadata": {
        "colab": {
          "base_uri": "https://localhost:8080/"
        },
        "id": "l5m6JuyvkhGv",
        "outputId": "c209ca63-7ab0-4116-b1b6-ec3d2ad16289"
      },
      "source": [
        "x1={'foo','bar', 'baz'}\n",
        "x1.issuperset({'foo','bar','baz'})"
      ],
      "execution_count": null,
      "outputs": [
        {
          "output_type": "execute_result",
          "data": {
            "text/plain": [
              "True"
            ]
          },
          "metadata": {},
          "execution_count": 40
        }
      ]
    },
    {
      "cell_type": "code",
      "metadata": {
        "colab": {
          "base_uri": "https://localhost:8080/"
        },
        "id": "zDP6CxJ2k2CU",
        "outputId": "b2fa9d55-4af5-40a2-b9b1-c1333dd0f13e"
      },
      "source": [
        "x2={'baz', 'qux', 'quux'}\n",
        "x2>=x2"
      ],
      "execution_count": null,
      "outputs": [
        {
          "output_type": "execute_result",
          "data": {
            "text/plain": [
              "True"
            ]
          },
          "metadata": {},
          "execution_count": 42
        }
      ]
    },
    {
      "cell_type": "code",
      "metadata": {
        "colab": {
          "base_uri": "https://localhost:8080/"
        },
        "id": "vIbYvvc2lNYs",
        "outputId": "27942094-c191-4fbc-d8e9-736088fda0f4"
      },
      "source": [
        "x1={'foo', 'bar','baz'}\n",
        "x2={'foo','baz', 'qux'}\n",
        "x1|=x2\n",
        "x1\n"
      ],
      "execution_count": null,
      "outputs": [
        {
          "output_type": "execute_result",
          "data": {
            "text/plain": [
              "{'bar', 'baz', 'foo', 'qux'}"
            ]
          },
          "metadata": {},
          "execution_count": 47
        }
      ]
    },
    {
      "cell_type": "code",
      "metadata": {
        "colab": {
          "base_uri": "https://localhost:8080/"
        },
        "id": "AvvyrgSvmg6u",
        "outputId": "2b0a326c-7cfa-44cc-af5a-f95ac944f042"
      },
      "source": [
        "x1={'foo', 'bar', 'baz'}\n",
        "x1.update(['gorge', 'garply'])\n",
        "x1"
      ],
      "execution_count": null,
      "outputs": [
        {
          "output_type": "execute_result",
          "data": {
            "text/plain": [
              "{'bar', 'baz', 'foo', 'garply', 'gorge'}"
            ]
          },
          "metadata": {},
          "execution_count": 49
        }
      ]
    },
    {
      "cell_type": "code",
      "metadata": {
        "colab": {
          "base_uri": "https://localhost:8080/"
        },
        "id": "-JesDf8jnR4y",
        "outputId": "ca0aa957-7072-4c9c-c51a-ad64d496fd50"
      },
      "source": [
        "x1={'foo', 'bar', 'baz'}\n",
        "x2={'foo', 'bar','qux'}\n",
        "x1 &= x2\n",
        "x1"
      ],
      "execution_count": null,
      "outputs": [
        {
          "output_type": "execute_result",
          "data": {
            "text/plain": [
              "{'bar', 'foo'}"
            ]
          },
          "metadata": {},
          "execution_count": 51
        }
      ]
    },
    {
      "cell_type": "code",
      "metadata": {
        "colab": {
          "base_uri": "https://localhost:8080/"
        },
        "id": "YzJDK0mFn9VO",
        "outputId": "d4e5406a-40b9-489d-fcdc-6b95cb5705b7"
      },
      "source": [
        "x1={'foo','bar', 'baz'}\n",
        "x2={'foo', 'baz', 'qux'}\n",
        "x1.intersection_update(['baz', 'qux'])\n",
        "x1"
      ],
      "execution_count": null,
      "outputs": [
        {
          "output_type": "execute_result",
          "data": {
            "text/plain": [
              "{'baz'}"
            ]
          },
          "metadata": {},
          "execution_count": 54
        }
      ]
    },
    {
      "cell_type": "code",
      "metadata": {
        "colab": {
          "base_uri": "https://localhost:8080/"
        },
        "id": "JVSO5lMNozrJ",
        "outputId": "8450f2e9-5312-4b68-dc44-7de1f579a879"
      },
      "source": [
        "x1={'foo', 'bar', 'baz'}\n",
        "x2={'foo','baz','qux'}\n",
        "x1-=x2\n",
        "x1"
      ],
      "execution_count": null,
      "outputs": [
        {
          "output_type": "execute_result",
          "data": {
            "text/plain": [
              "{'bar'}"
            ]
          },
          "metadata": {},
          "execution_count": 56
        }
      ]
    },
    {
      "cell_type": "code",
      "metadata": {
        "colab": {
          "base_uri": "https://localhost:8080/"
        },
        "id": "D2KEUH0CpPRr",
        "outputId": "f4dc2277-45c8-4177-ce6e-abe85505d3f3"
      },
      "source": [
        "x1={'foo', 'bar', 'qux'}\n",
        "x1.difference_update(['foo','bar','qux'])\n",
        "x1"
      ],
      "execution_count": null,
      "outputs": [
        {
          "output_type": "execute_result",
          "data": {
            "text/plain": [
              "set()"
            ]
          },
          "metadata": {},
          "execution_count": 59
        }
      ]
    },
    {
      "cell_type": "code",
      "metadata": {
        "colab": {
          "base_uri": "https://localhost:8080/"
        },
        "id": "CRjaa4XaqZRX",
        "outputId": "33c48c1a-aab6-408e-fd71-e73818eaec10"
      },
      "source": [
        "x1={'foo', 'bar', 'baz'}\n",
        "x2={'foo', 'bar', 'qux'}\n",
        "x1.symmetric_difference_update(x2)\n",
        "x1"
      ],
      "execution_count": null,
      "outputs": [
        {
          "output_type": "execute_result",
          "data": {
            "text/plain": [
              "{'baz', 'qux'}"
            ]
          },
          "metadata": {},
          "execution_count": 62
        }
      ]
    },
    {
      "cell_type": "code",
      "metadata": {
        "colab": {
          "base_uri": "https://localhost:8080/"
        },
        "id": "UxNVFxH_rQen",
        "outputId": "1a545a16-ddde-4a18-fbec-9ef915ca6288"
      },
      "source": [
        "x1={'foo', 'bar', 'baz'}\n",
        "x2={'foo', 'qux', 'bar'}\n",
        "x1^=x1\n",
        "x1"
      ],
      "execution_count": null,
      "outputs": [
        {
          "output_type": "execute_result",
          "data": {
            "text/plain": [
              "set()"
            ]
          },
          "metadata": {},
          "execution_count": 66
        }
      ]
    },
    {
      "cell_type": "code",
      "metadata": {
        "colab": {
          "base_uri": "https://localhost:8080/"
        },
        "id": "gs-3ZbqH3Mct",
        "outputId": "67538d8f-96a8-4e42-fd2c-3501d7872def"
      },
      "source": [
        "x={'foo', 'bar', 'baz'}\n",
        "x.add('qux')\n",
        "x"
      ],
      "execution_count": null,
      "outputs": [
        {
          "output_type": "execute_result",
          "data": {
            "text/plain": [
              "{'bar', 'baz', 'foo', 'qux'}"
            ]
          },
          "metadata": {},
          "execution_count": 69
        }
      ]
    },
    {
      "cell_type": "code",
      "metadata": {
        "colab": {
          "base_uri": "https://localhost:8080/"
        },
        "id": "cjY0XDvF8H1q",
        "outputId": "f95c1b47-1ca0-4a48-8332-0c11b275b7f3"
      },
      "source": [
        "x={'foo','baz','bar', 'qux'}\n",
        "x.remove('baz')\n",
        "x"
      ],
      "execution_count": null,
      "outputs": [
        {
          "output_type": "execute_result",
          "data": {
            "text/plain": [
              "{'bar', 'foo', 'qux'}"
            ]
          },
          "metadata": {},
          "execution_count": 73
        }
      ]
    },
    {
      "cell_type": "code",
      "metadata": {
        "colab": {
          "base_uri": "https://localhost:8080/",
          "height": 178
        },
        "id": "T0dPl69_8vgm",
        "outputId": "348a622a-0d6d-4924-e7f3-0fea61357813"
      },
      "source": [
        "x={'bar', 'foo'}\n",
        "x.remove('qux')\n"
      ],
      "execution_count": null,
      "outputs": [
        {
          "output_type": "error",
          "ename": "KeyError",
          "evalue": "ignored",
          "traceback": [
            "\u001b[0;31m---------------------------------------------------------------------------\u001b[0m",
            "\u001b[0;31mKeyError\u001b[0m                                  Traceback (most recent call last)",
            "\u001b[0;32m<ipython-input-75-5a5770afa038>\u001b[0m in \u001b[0;36m<module>\u001b[0;34m()\u001b[0m\n\u001b[1;32m      1\u001b[0m \u001b[0mx\u001b[0m\u001b[0;34m=\u001b[0m\u001b[0;34m{\u001b[0m\u001b[0;34m'bar'\u001b[0m\u001b[0;34m,\u001b[0m \u001b[0;34m'foo'\u001b[0m\u001b[0;34m}\u001b[0m\u001b[0;34m\u001b[0m\u001b[0;34m\u001b[0m\u001b[0m\n\u001b[0;32m----> 2\u001b[0;31m \u001b[0mx\u001b[0m\u001b[0;34m.\u001b[0m\u001b[0mremove\u001b[0m\u001b[0;34m(\u001b[0m\u001b[0;34m'qux'\u001b[0m\u001b[0;34m)\u001b[0m\u001b[0;34m\u001b[0m\u001b[0;34m\u001b[0m\u001b[0m\n\u001b[0m",
            "\u001b[0;31mKeyError\u001b[0m: 'qux'"
          ]
        }
      ]
    },
    {
      "cell_type": "code",
      "metadata": {
        "colab": {
          "base_uri": "https://localhost:8080/"
        },
        "id": "VB6BH4H99AEn",
        "outputId": "af7e5e89-41ec-4ed8-8dd5-687279722a56"
      },
      "source": [
        "x={'foo','baz', 'bar','qux'}\n",
        "x.discard('baz')\n",
        "x\n"
      ],
      "execution_count": null,
      "outputs": [
        {
          "output_type": "execute_result",
          "data": {
            "text/plain": [
              "{'bar', 'foo', 'qux'}"
            ]
          },
          "metadata": {},
          "execution_count": 77
        }
      ]
    },
    {
      "cell_type": "code",
      "metadata": {
        "colab": {
          "base_uri": "https://localhost:8080/"
        },
        "id": "UKSYyTQn9U6D",
        "outputId": "26cf9428-8846-4492-a99f-4a9fdd21003a"
      },
      "source": [
        "x={'foo','baz'}\n",
        "x.discard('qux')\n",
        "x"
      ],
      "execution_count": null,
      "outputs": [
        {
          "output_type": "execute_result",
          "data": {
            "text/plain": [
              "{'baz', 'foo'}"
            ]
          },
          "metadata": {},
          "execution_count": 79
        }
      ]
    },
    {
      "cell_type": "code",
      "metadata": {
        "colab": {
          "base_uri": "https://localhost:8080/",
          "height": 35
        },
        "id": "hi_oSa9c9nuG",
        "outputId": "4238a3a3-135a-40f4-a2e1-b5b78352bcd5"
      },
      "source": [
        "x={'foo','bar','qux'}\n",
        "x.pop()"
      ],
      "execution_count": null,
      "outputs": [
        {
          "output_type": "execute_result",
          "data": {
            "application/vnd.google.colaboratory.intrinsic+json": {
              "type": "string"
            },
            "text/plain": [
              "'qux'"
            ]
          },
          "metadata": {},
          "execution_count": 81
        }
      ]
    },
    {
      "cell_type": "code",
      "metadata": {
        "colab": {
          "base_uri": "https://localhost:8080/",
          "height": 35
        },
        "id": "ebSfW4AE-3u3",
        "outputId": "0dfdd541-0546-4540-d737-eadf2a71c799"
      },
      "source": [
        "x={'foo', 'bar', 'qux'}\n",
        "x.pop()"
      ],
      "execution_count": null,
      "outputs": [
        {
          "output_type": "execute_result",
          "data": {
            "application/vnd.google.colaboratory.intrinsic+json": {
              "type": "string"
            },
            "text/plain": [
              "'qux'"
            ]
          },
          "metadata": {},
          "execution_count": 83
        }
      ]
    },
    {
      "cell_type": "code",
      "metadata": {
        "colab": {
          "base_uri": "https://localhost:8080/"
        },
        "id": "870TiMuu_HQW",
        "outputId": "8753763d-373a-4f75-b24e-766d2b9f2f34"
      },
      "source": [
        "x={'foo', 'baz', 'bar'}\n",
        "x.clear()\n",
        "x"
      ],
      "execution_count": null,
      "outputs": [
        {
          "output_type": "execute_result",
          "data": {
            "text/plain": [
              "set()"
            ]
          },
          "metadata": {},
          "execution_count": 86
        }
      ]
    },
    {
      "cell_type": "code",
      "metadata": {
        "colab": {
          "base_uri": "https://localhost:8080/"
        },
        "id": "OJxOTI1c_hxc",
        "outputId": "2e8e5ad6-7b52-4501-a3ec-e2f9b5df7c03"
      },
      "source": [
        "x=frozenset(['bar','baz','foo'])\n",
        "x"
      ],
      "execution_count": null,
      "outputs": [
        {
          "output_type": "execute_result",
          "data": {
            "text/plain": [
              "frozenset({'bar', 'baz', 'foo'})"
            ]
          },
          "metadata": {},
          "execution_count": 91
        }
      ]
    },
    {
      "cell_type": "code",
      "metadata": {
        "colab": {
          "base_uri": "https://localhost:8080/"
        },
        "id": "uUuu1DQa__5R",
        "outputId": "647c7763-de87-4e4e-b4ed-563d288e2543"
      },
      "source": [
        "x=frozenset(['bar', 'baz', 'foo'])\n",
        "len(x)"
      ],
      "execution_count": null,
      "outputs": [
        {
          "output_type": "execute_result",
          "data": {
            "text/plain": [
              "3"
            ]
          },
          "metadata": {},
          "execution_count": 93
        }
      ]
    },
    {
      "cell_type": "code",
      "metadata": {
        "colab": {
          "base_uri": "https://localhost:8080/"
        },
        "id": "vH3RhLJTBaw1",
        "outputId": "21fc94ba-a123-4d3b-ebd5-c0b07d6b8734"
      },
      "source": [
        "x1=frozenset(['foo'])\n",
        "x2=frozenset(['bar'])\n",
        "x3=frozenset(['baz'])\n",
        "x={x1, x2, x3}\n",
        "x"
      ],
      "execution_count": null,
      "outputs": [
        {
          "output_type": "execute_result",
          "data": {
            "text/plain": [
              "{frozenset({'bar'}), frozenset({'baz'}), frozenset({'foo'})}"
            ]
          },
          "metadata": {},
          "execution_count": 95
        }
      ]
    },
    {
      "cell_type": "code",
      "metadata": {
        "id": "ZXKu7-OXB7UH",
        "colab": {
          "base_uri": "https://localhost:8080/"
        },
        "outputId": "3fff49cc-a2ea-4551-8a4b-294a28a06b0f"
      },
      "source": [
        "x=frozenset([1,2,3])\n",
        "y=frozenset(['a', 'b', 'c'])\n",
        "d={x:'foo',y:'bar'}\n",
        "d"
      ],
      "execution_count": 96,
      "outputs": [
        {
          "output_type": "execute_result",
          "data": {
            "text/plain": [
              "{frozenset({1, 2, 3}): 'foo', frozenset({'a', 'b', 'c'}): 'bar'}"
            ]
          },
          "metadata": {},
          "execution_count": 96
        }
      ]
    }
  ]
}