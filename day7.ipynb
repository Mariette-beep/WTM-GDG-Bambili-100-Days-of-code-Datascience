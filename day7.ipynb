{
  "nbformat": 4,
  "nbformat_minor": 0,
  "metadata": {
    "colab": {
      "name": "day7.ipynb",
      "provenance": [],
      "authorship_tag": "ABX9TyOFwZEEJnJ3ZM9pE3kbx9Mz",
      "include_colab_link": true
    },
    "kernelspec": {
      "name": "python3",
      "display_name": "Python 3"
    },
    "language_info": {
      "name": "python"
    }
  },
  "cells": [
    {
      "cell_type": "markdown",
      "metadata": {
        "id": "view-in-github",
        "colab_type": "text"
      },
      "source": [
        "<a href=\"https://colab.research.google.com/github/Mariette-beep/WTM-GDG-Bambili-100-Days-of-code-Datascience/blob/main/day7.ipynb\" target=\"_parent\"><img src=\"https://colab.research.google.com/assets/colab-badge.svg\" alt=\"Open In Colab\"/></a>"
      ]
    },
    {
      "cell_type": "code",
      "metadata": {
        "id": "_DKSNVeXgGw6",
        "colab": {
          "base_uri": "https://localhost:8080/"
        },
        "outputId": "324e0270-2545-4d63-b94d-3877876d188d"
      },
      "source": [
        "d={'fruits':'orange', 'game':'football'}\n",
        "d"
      ],
      "execution_count": 1,
      "outputs": [
        {
          "output_type": "execute_result",
          "data": {
            "text/plain": [
              "{'fruits': 'orange', 'game': 'football'}"
            ]
          },
          "metadata": {},
          "execution_count": 1
        }
      ]
    },
    {
      "cell_type": "markdown",
      "metadata": {
        "id": "Wpf_KGePreyK"
      },
      "source": [
        "Here, fruits is the key and orange the object."
      ]
    },
    {
      "cell_type": "code",
      "metadata": {
        "id": "IEjfy9acrlQP"
      },
      "source": [
        "MLB_team={'Colorado': 'Rockies', 'Boston':'Red sox', 'Minnesota':'Twins'}\n"
      ],
      "execution_count": 2,
      "outputs": []
    },
    {
      "cell_type": "code",
      "metadata": {
        "colab": {
          "base_uri": "https://localhost:8080/"
        },
        "id": "ZoZIsAEssEAi",
        "outputId": "8957b749-1d93-47d0-9c1d-66932462b467"
      },
      "source": [
        "d=dict([('fruit', 'orange'), ('fruit2', 'mangoes'), ('fruit3', 'guava')])\n",
        "d"
      ],
      "execution_count": 5,
      "outputs": [
        {
          "output_type": "execute_result",
          "data": {
            "text/plain": [
              "{'fruit': 'orange', 'fruit2': 'mangoes', 'fruit3': 'guava'}"
            ]
          },
          "metadata": {},
          "execution_count": 5
        }
      ]
    },
    {
      "cell_type": "code",
      "metadata": {
        "colab": {
          "base_uri": "https://localhost:8080/"
        },
        "id": "uEG5QThOtLR2",
        "outputId": "2061f018-176f-4a96-e785-2eb54cb06a49"
      },
      "source": [
        "d=dict(fruit= 'orange', fruit2= 'mangoes', fruit3= 'guava')\n",
        "d\n"
      ],
      "execution_count": 8,
      "outputs": [
        {
          "output_type": "execute_result",
          "data": {
            "text/plain": [
              "{'fruit': 'orange', 'fruit2': 'mangoes', 'fruit3': 'guava'}"
            ]
          },
          "metadata": {},
          "execution_count": 8
        }
      ]
    },
    {
      "cell_type": "code",
      "metadata": {
        "colab": {
          "base_uri": "https://localhost:8080/",
          "height": 35
        },
        "id": "CWiIoagjttbG",
        "outputId": "3b132450-1115-42e3-c31e-11e5250b0e84"
      },
      "source": [
        "MLB_team={'Colorado':'Rockies','Boston':'Red sox','Minnesota':'Twins','Seattle':'Mariners'}\n",
        "MLB_team['Minnesota']"
      ],
      "execution_count": 11,
      "outputs": [
        {
          "output_type": "execute_result",
          "data": {
            "application/vnd.google.colaboratory.intrinsic+json": {
              "type": "string"
            },
            "text/plain": [
              "'Twins'"
            ]
          },
          "metadata": {},
          "execution_count": 11
        }
      ]
    },
    {
      "cell_type": "code",
      "metadata": {
        "colab": {
          "base_uri": "https://localhost:8080/"
        },
        "id": "DwVri6YRu-Rj",
        "outputId": "571ee580-9998-4a11-b196-ff7272ddcad0"
      },
      "source": [
        "MLB_teams={'Colorado':'Rockies', 'Boston':'Red sox', 'Minnesota':'Twins'}\n",
        "MLB_team['Kansas city']='Royales'\n",
        "MLB_team"
      ],
      "execution_count": 17,
      "outputs": [
        {
          "output_type": "execute_result",
          "data": {
            "text/plain": [
              "{'Boston': 'Red sox',\n",
              " 'Colorado': 'Rockies',\n",
              " 'Kansas city': 'Royales',\n",
              " 'Minnesota': 'Twins',\n",
              " 'Seattle': 'Mariners'}"
            ]
          },
          "metadata": {},
          "execution_count": 17
        }
      ]
    },
    {
      "cell_type": "code",
      "metadata": {
        "colab": {
          "base_uri": "https://localhost:8080/"
        },
        "id": "IsM4yUCXwBcp",
        "outputId": "b35cd64c-d9e2-4bd3-e3a7-f619b77e598d"
      },
      "source": [
        "d=dict([('fruit', 'apples'), ('fruit2', 'oranges'), ('fruit3', 'guava')])\n",
        "del d['fruit3']\n",
        "d"
      ],
      "execution_count": 21,
      "outputs": [
        {
          "output_type": "execute_result",
          "data": {
            "text/plain": [
              "{'fruit': 'apples', 'fruit2': 'oranges'}"
            ]
          },
          "metadata": {},
          "execution_count": 21
        }
      ]
    },
    {
      "cell_type": "code",
      "metadata": {
        "colab": {
          "base_uri": "https://localhost:8080/",
          "height": 35
        },
        "id": "AAiNet-jwzVo",
        "outputId": "f071a491-0ef4-40e3-97b4-e623165d456c"
      },
      "source": [
        "d={0:'a', 1:'b',2:'c', 3:'d'}\n",
        "d\n",
        "d[0]\n",
        "d[2]"
      ],
      "execution_count": 25,
      "outputs": [
        {
          "output_type": "execute_result",
          "data": {
            "application/vnd.google.colaboratory.intrinsic+json": {
              "type": "string"
            },
            "text/plain": [
              "'c'"
            ]
          },
          "metadata": {},
          "execution_count": 25
        }
      ]
    },
    {
      "cell_type": "markdown",
      "metadata": {
        "id": "4PBoWTdwxiIh"
      },
      "source": [
        "#[0] is not the index, it is the key."
      ]
    },
    {
      "cell_type": "code",
      "metadata": {
        "id": "ZWJ3itPKxugb"
      },
      "source": [
        "person={}"
      ],
      "execution_count": 27,
      "outputs": []
    },
    {
      "cell_type": "code",
      "metadata": {
        "colab": {
          "base_uri": "https://localhost:8080/",
          "height": 35
        },
        "id": "qMecqnA5x2r9",
        "outputId": "4489872f-343b-440c-b825-de4b2db90570"
      },
      "source": [
        "person['fName']='Joe'\n",
        "person['lName']='Fonebone'\n",
        "person['age']=51\n",
        "person['spouse']='Joan'\n",
        "person['children']=['Jane','Joey', 'John']\n",
        "person['pets']={'dog':'Boston','cat':'Sox'}\n",
        "person\n",
        "person['children'][-1]\n",
        "person['pets']['cat']"
      ],
      "execution_count": 36,
      "outputs": [
        {
          "output_type": "execute_result",
          "data": {
            "application/vnd.google.colaboratory.intrinsic+json": {
              "type": "string"
            },
            "text/plain": [
              "'Sox'"
            ]
          },
          "metadata": {},
          "execution_count": 36
        }
      ]
    },
    {
      "cell_type": "code",
      "metadata": {
        "colab": {
          "base_uri": "https://localhost:8080/",
          "height": 35
        },
        "id": "T5gNxZxH0CN6",
        "outputId": "9c16e2d3-6da9-461a-dbf9-7e2dbeec8afc"
      },
      "source": [
        "foo={42:'aaa',2.78:'bbb',True:'ccc' }\n",
        "#the value of a dictionary need not be of the same data types.\n",
        "foo[42]"
      ],
      "execution_count": 38,
      "outputs": [
        {
          "output_type": "execute_result",
          "data": {
            "application/vnd.google.colaboratory.intrinsic+json": {
              "type": "string"
            },
            "text/plain": [
              "'aaa'"
            ]
          },
          "metadata": {},
          "execution_count": 38
        }
      ]
    },
    {
      "cell_type": "code",
      "metadata": {
        "colab": {
          "base_uri": "https://localhost:8080/"
        },
        "id": "79scorzI1S1X",
        "outputId": "b3ffd284-1462-402b-9044-117d5bf4e880"
      },
      "source": [
        "#you can also have\n",
        "d={float:2, int:1, bool:3}\n",
        "d"
      ],
      "execution_count": 40,
      "outputs": [
        {
          "output_type": "execute_result",
          "data": {
            "text/plain": [
              "{bool: 3, float: 2, int: 1}"
            ]
          },
          "metadata": {},
          "execution_count": 40
        }
      ]
    },
    {
      "cell_type": "code",
      "metadata": {
        "colab": {
          "base_uri": "https://localhost:8080/",
          "height": 35
        },
        "id": "-opXGUiN1h7a",
        "outputId": "98549917-ab6e-4733-f51f-c2e00c8b068c"
      },
      "source": [
        "# A turple can also be a dictionary key.\n",
        "d={(1,1):'a', (1,2):'b', (2,1):'c', (2,2):'d'}\n",
        "d[(1,1)]"
      ],
      "execution_count": 42,
      "outputs": [
        {
          "output_type": "execute_result",
          "data": {
            "application/vnd.google.colaboratory.intrinsic+json": {
              "type": "string"
            },
            "text/plain": [
              "'a'"
            ]
          },
          "metadata": {},
          "execution_count": 42
        }
      ]
    },
    {
      "cell_type": "code",
      "metadata": {
        "colab": {
          "base_uri": "https://localhost:8080/"
        },
        "id": "VnGiC5Hf2RQc",
        "outputId": "87df537c-8077-421a-e693-03b4a36cae03"
      },
      "source": [
        "d={0:'a', 1:'a', 2:'a', 3:'a'}\n",
        "d[0]==d[1]==d[2]"
      ],
      "execution_count": 48,
      "outputs": [
        {
          "output_type": "execute_result",
          "data": {
            "text/plain": [
              "True"
            ]
          },
          "metadata": {},
          "execution_count": 48
        }
      ]
    },
    {
      "cell_type": "code",
      "metadata": {
        "colab": {
          "base_uri": "https://localhost:8080/"
        },
        "id": "K8S5l62d24O6",
        "outputId": "33915676-bac3-42c3-841d-0800fc367cc6"
      },
      "source": [
        "MLB_team={'Colorado':'Rockies', 'Boston':'Red sox', 'Minnesota':'Twins','Milwanke':'Browers'}\n",
        "'Milwanke'in MLB_team\n",
        "'Toronto' in MLB_team"
      ],
      "execution_count": 52,
      "outputs": [
        {
          "output_type": "execute_result",
          "data": {
            "text/plain": [
              "False"
            ]
          },
          "metadata": {},
          "execution_count": 52
        }
      ]
    },
    {
      "cell_type": "code",
      "metadata": {
        "colab": {
          "base_uri": "https://localhost:8080/"
        },
        "id": "bDzj0W4E30-b",
        "outputId": "aaa5bfe1-4d59-4544-d712-78412a4c9a3a"
      },
      "source": [
        "MLB_team={'Colorado':'Rockies', 'Boston': 'Red sox', 'Minnesota':'Twins'}\n",
        "len(MLB_team)"
      ],
      "execution_count": 55,
      "outputs": [
        {
          "output_type": "execute_result",
          "data": {
            "text/plain": [
              "3"
            ]
          },
          "metadata": {},
          "execution_count": 55
        }
      ]
    },
    {
      "cell_type": "code",
      "metadata": {
        "colab": {
          "base_uri": "https://localhost:8080/"
        },
        "id": "5rYPChmL489z",
        "outputId": "582c5f86-ed7a-4dd6-be81-31e59b90ab41"
      },
      "source": [
        "d={'a':10, 'b':20, 'c':30}\n",
        "d.clear()\n",
        "d"
      ],
      "execution_count": 61,
      "outputs": [
        {
          "output_type": "execute_result",
          "data": {
            "text/plain": [
              "{}"
            ]
          },
          "metadata": {},
          "execution_count": 61
        }
      ]
    },
    {
      "cell_type": "code",
      "metadata": {
        "colab": {
          "base_uri": "https://localhost:8080/"
        },
        "id": "HUoph4pH5X20",
        "outputId": "e399978f-9ede-470d-f124-d4bc29e39785"
      },
      "source": [
        "d={'a':10, 'b':20, 'c':30}\n",
        "print(d.get('c'))\n",
        "print(d.get('d'))\n",
        "print(d.get('z', -1))"
      ],
      "execution_count": 65,
      "outputs": [
        {
          "output_type": "stream",
          "name": "stdout",
          "text": [
            "30\n",
            "None\n",
            "-1\n"
          ]
        }
      ]
    },
    {
      "cell_type": "code",
      "metadata": {
        "colab": {
          "base_uri": "https://localhost:8080/"
        },
        "id": "ePbsJYny56MA",
        "outputId": "51267fae-9dff-49ed-cb30-288cca8d5e68"
      },
      "source": [
        "d={'a':10, 'b':20, 'c':30}\n",
        "list(d.items())\n",
        "list(d.items())[1][0]\n",
        "list(d.items())[0][1]\n"
      ],
      "execution_count": 78,
      "outputs": [
        {
          "output_type": "execute_result",
          "data": {
            "text/plain": [
              "10"
            ]
          },
          "metadata": {},
          "execution_count": 78
        }
      ]
    },
    {
      "cell_type": "code",
      "metadata": {
        "colab": {
          "base_uri": "https://localhost:8080/"
        },
        "id": "l1_3kMmp8lz8",
        "outputId": "38f4935b-1e63-43b8-b811-616dab2bffe6"
      },
      "source": [
        "d={'a':10, 'b':10, 'c':30}\n",
        "list(d.keys())\n",
        "list(d.values())\n",
        "#d.keys brings out the keys while d.values brings out the values."
      ],
      "execution_count": 81,
      "outputs": [
        {
          "output_type": "execute_result",
          "data": {
            "text/plain": [
              "[10, 10, 30]"
            ]
          },
          "metadata": {},
          "execution_count": 81
        }
      ]
    },
    {
      "cell_type": "code",
      "metadata": {
        "colab": {
          "base_uri": "https://localhost:8080/"
        },
        "id": "CE07ikwT9KoT",
        "outputId": "b4e6248b-763f-4eda-8948-7bdb4359eed2"
      },
      "source": [
        "d={'a':10, 'b':20, 'c':30}\n",
        "d.pop('b')"
      ],
      "execution_count": 85,
      "outputs": [
        {
          "output_type": "execute_result",
          "data": {
            "text/plain": [
              "20"
            ]
          },
          "metadata": {},
          "execution_count": 85
        }
      ]
    },
    {
      "cell_type": "code",
      "metadata": {
        "colab": {
          "base_uri": "https://localhost:8080/"
        },
        "id": "6-Q2hNql-NGZ",
        "outputId": "faa2203b-8b54-4515-b996-f3bac157eadf"
      },
      "source": [
        "d={'a':10, 'b':20, 'c':200}\n",
        "d.popitem()"
      ],
      "execution_count": 87,
      "outputs": [
        {
          "output_type": "execute_result",
          "data": {
            "text/plain": [
              "('c', 200)"
            ]
          },
          "metadata": {},
          "execution_count": 87
        }
      ]
    },
    {
      "cell_type": "code",
      "metadata": {
        "colab": {
          "base_uri": "https://localhost:8080/"
        },
        "id": "RSJ4zY_W-j4h",
        "outputId": "635d36db-1c31-43be-9d75-893a0dfb283e"
      },
      "source": [
        "d1={'a':10, 'b':20, 'c':100}\n",
        "d2={'b':200,'f':19}\n",
        "d1.update(d2)\n",
        "d1"
      ],
      "execution_count": 90,
      "outputs": [
        {
          "output_type": "execute_result",
          "data": {
            "text/plain": [
              "{'a': 10, 'b': 200, 'c': 100, 'f': 19}"
            ]
          },
          "metadata": {},
          "execution_count": 90
        }
      ]
    }
  ]
}