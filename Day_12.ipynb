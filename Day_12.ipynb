{
  "nbformat": 4,
  "nbformat_minor": 0,
  "metadata": {
    "colab": {
      "name": "Day 12.ipynb",
      "provenance": [],
      "authorship_tag": "ABX9TyPUoDqidzuDcsKGr+1GYH7x",
      "include_colab_link": true
    },
    "kernelspec": {
      "name": "python3",
      "display_name": "Python 3"
    },
    "language_info": {
      "name": "python"
    }
  },
  "cells": [
    {
      "cell_type": "markdown",
      "metadata": {
        "id": "view-in-github",
        "colab_type": "text"
      },
      "source": [
        "<a href=\"https://colab.research.google.com/github/Mariette-beep/WTM-GDG-Bambili-100-Days-of-code-Datascience/blob/main/Day_12.ipynb\" target=\"_parent\"><img src=\"https://colab.research.google.com/assets/colab-badge.svg\" alt=\"Open In Colab\"/></a>"
      ]
    },
    {
      "cell_type": "code",
      "metadata": {
        "colab": {
          "base_uri": "https://localhost:8080/"
        },
        "id": "3HPCgCD3ceCz",
        "outputId": "0ad46e85-98dc-4696-ee35-9204ad0c4134"
      },
      "source": [
        "print(0o10) #octal"
      ],
      "execution_count": 4,
      "outputs": [
        {
          "output_type": "stream",
          "name": "stdout",
          "text": [
            "8\n"
          ]
        }
      ]
    },
    {
      "cell_type": "code",
      "metadata": {
        "id": "ALnLubJ-cxEy",
        "outputId": "07abd443-e1be-4e38-df9c-1cadb8a13c97",
        "colab": {
          "base_uri": "https://localhost:8080/"
        }
      },
      "source": [
        "print(0x10)#hexadecimal\n"
      ],
      "execution_count": 7,
      "outputs": [
        {
          "output_type": "stream",
          "name": "stdout",
          "text": [
            "16\n"
          ]
        }
      ]
    },
    {
      "cell_type": "code",
      "metadata": {
        "id": "-T4cBfmWdAGO",
        "outputId": "10af4569-9a39-4012-df4e-2d8c13efb6d0",
        "colab": {
          "base_uri": "https://localhost:8080/"
        }
      },
      "source": [
        "print(0b10) #binary."
      ],
      "execution_count": 9,
      "outputs": [
        {
          "output_type": "stream",
          "name": "stdout",
          "text": [
            "2\n"
          ]
        }
      ]
    },
    {
      "cell_type": "code",
      "metadata": {
        "id": "Dr92kL9odIOZ",
        "outputId": "5e465723-a68a-459c-fd62-5c5a95f2ebf6",
        "colab": {
          "base_uri": "https://localhost:8080/"
        }
      },
      "source": [
        "3.19\n",
        "type(3.19)\n"
      ],
      "execution_count": 11,
      "outputs": [
        {
          "output_type": "execute_result",
          "data": {
            "text/plain": [
              "float"
            ]
          },
          "metadata": {},
          "execution_count": 11
        }
      ]
    },
    {
      "cell_type": "code",
      "metadata": {
        "id": "xsFMWv5kdUkR",
        "outputId": "bb53f07f-c4ec-4658-e80e-328d216daab8",
        "colab": {
          "base_uri": "https://localhost:8080/"
        }
      },
      "source": [
        ".4e6\n",
        "\n",
        "type(.4e6)"
      ],
      "execution_count": 13,
      "outputs": [
        {
          "output_type": "execute_result",
          "data": {
            "text/plain": [
              "float"
            ]
          },
          "metadata": {},
          "execution_count": 13
        }
      ]
    },
    {
      "cell_type": "code",
      "metadata": {
        "id": "PgO_3cHPdb0X",
        "outputId": "9bd3b551-5000-49ef-f19c-b51134069e74",
        "colab": {
          "base_uri": "https://localhost:8080/"
        }
      },
      "source": [
        "#python wil display any number greater than 1.8x10^308\n",
        "1.79e309"
      ],
      "execution_count": 15,
      "outputs": [
        {
          "output_type": "execute_result",
          "data": {
            "text/plain": [
              "inf"
            ]
          },
          "metadata": {},
          "execution_count": 15
        }
      ]
    },
    {
      "cell_type": "code",
      "metadata": {
        "id": "uI-hWIc2fJET",
        "outputId": "1fc70e29-33a0-47a7-d28f-dd6d49b71749",
        "colab": {
          "base_uri": "https://localhost:8080/"
        }
      },
      "source": [
        "#any closer to 0 than 5.0e^-324 is 0.\n",
        "1.0e-325\n"
      ],
      "execution_count": 22,
      "outputs": [
        {
          "output_type": "execute_result",
          "data": {
            "text/plain": [
              "0.0"
            ]
          },
          "metadata": {},
          "execution_count": 22
        }
      ]
    },
    {
      "cell_type": "code",
      "metadata": {
        "id": "H8OocrSCgBFv",
        "outputId": "17090b09-e1d9-4709-bd13-fd8548daacce",
        "colab": {
          "base_uri": "https://localhost:8080/"
        }
      },
      "source": [
        "2+3j # 2 is real and 3 is imaginary"
      ],
      "execution_count": 24,
      "outputs": [
        {
          "output_type": "execute_result",
          "data": {
            "text/plain": [
              "(2+3j)"
            ]
          },
          "metadata": {},
          "execution_count": 24
        }
      ]
    },
    {
      "cell_type": "code",
      "metadata": {
        "id": "wTxIULl2gMe6",
        "outputId": "4dadde3b-af51-4bfb-c0f8-8d45a3259ab3",
        "colab": {
          "base_uri": "https://localhost:8080/"
        }
      },
      "source": [
        "print('I am rich')\n",
        "type('I am rich')\n",
        "# a string can be empty."
      ],
      "execution_count": 27,
      "outputs": [
        {
          "output_type": "stream",
          "name": "stdout",
          "text": [
            "I am rich\n"
          ]
        },
        {
          "output_type": "execute_result",
          "data": {
            "text/plain": [
              "str"
            ]
          },
          "metadata": {},
          "execution_count": 27
        }
      ]
    },
    {
      "cell_type": "code",
      "metadata": {
        "id": "HwgxPLUIgkiA",
        "outputId": "bfa4ec85-5765-47f2-e1b2-6bcbde86a3bd",
        "colab": {
          "base_uri": "https://localhost:8080/"
        }
      },
      "source": [
        "print(\"this string  contains a single quote (\\') characteer\")"
      ],
      "execution_count": 29,
      "outputs": [
        {
          "output_type": "stream",
          "name": "stdout",
          "text": [
            "this string  contains a single quote (') characteer\n"
          ]
        }
      ]
    },
    {
      "cell_type": "code",
      "metadata": {
        "id": "VrOWHzkkg2A1",
        "outputId": "c7bf6764-3d76-4122-9fc2-746f30de2148",
        "colab": {
          "base_uri": "https://localhost:8080/"
        }
      },
      "source": [
        "#\\newline makes it go to a new line.\n",
        "print('I hate red apples')"
      ],
      "execution_count": 33,
      "outputs": [
        {
          "output_type": "stream",
          "name": "stdout",
          "text": [
            "I hate red apples\n"
          ]
        }
      ]
    },
    {
      "cell_type": "code",
      "metadata": {
        "id": "60bkgTLwhwYt",
        "outputId": "e9438d20-540d-49ad-9e89-93951968e721",
        "colab": {
          "base_uri": "https://localhost:8080/"
        }
      },
      "source": [
        "print('Do you want tea\\\\coffee ?')"
      ],
      "execution_count": 36,
      "outputs": [
        {
          "output_type": "stream",
          "name": "stdout",
          "text": [
            "Do you want tea\\coffee ?\n"
          ]
        }
      ]
    },
    {
      "cell_type": "code",
      "metadata": {
        "id": "n2bKA63QiH6M",
        "outputId": "7abe845b-77fa-467e-9744-a2a7704d41bc",
        "colab": {
          "base_uri": "https://localhost:8080/"
        }
      },
      "source": [
        "print('foo\\tbar') #tab character "
      ],
      "execution_count": 38,
      "outputs": [
        {
          "output_type": "stream",
          "name": "stdout",
          "text": [
            "foo\tbar\n"
          ]
        }
      ]
    },
    {
      "cell_type": "code",
      "metadata": {
        "id": "cntH6p6diUNL",
        "outputId": "6aeeed6c-83b9-4a77-be6a-ad0d196a07b0",
        "colab": {
          "base_uri": "https://localhost:8080/"
        }
      },
      "source": [
        "print('a\\tb')\n"
      ],
      "execution_count": 40,
      "outputs": [
        {
          "output_type": "stream",
          "name": "stdout",
          "text": [
            "a\tb\n"
          ]
        }
      ]
    },
    {
      "cell_type": "code",
      "metadata": {
        "id": "DfSBrDpwiaTF",
        "outputId": "69e6e8ae-c405-4ccc-afd8-3bf74e718a53",
        "colab": {
          "base_uri": "https://localhost:8080/"
        }
      },
      "source": [
        "print('a\\nbar')"
      ],
      "execution_count": 42,
      "outputs": [
        {
          "output_type": "stream",
          "name": "stdout",
          "text": [
            "a\n",
            "bar\n"
          ]
        }
      ]
    },
    {
      "cell_type": "code",
      "metadata": {
        "id": "tkHwlsfLihux",
        "outputId": "f96d045a-f9dc-4c61-db0e-5da669dc3b85",
        "colab": {
          "base_uri": "https://localhost:8080/"
        }
      },
      "source": [
        "print(r'tea\\ncoffee')"
      ],
      "execution_count": 44,
      "outputs": [
        {
          "output_type": "stream",
          "name": "stdout",
          "text": [
            "tea\\ncoffee\n"
          ]
        }
      ]
    },
    {
      "cell_type": "code",
      "metadata": {
        "id": "0iJs-pp9ykJK",
        "outputId": "b0039dab-5b24-4010-9b41-92f2dfea9cc0",
        "colab": {
          "base_uri": "https://localhost:8080/"
        }
      },
      "source": [
        "print(R'tea\\\\coffee')"
      ],
      "execution_count": 1,
      "outputs": [
        {
          "output_type": "stream",
          "name": "stdout",
          "text": [
            "tea\\\\coffee\n"
          ]
        }
      ]
    },
    {
      "cell_type": "code",
      "metadata": {
        "id": "p2jPcjvGz1W4",
        "outputId": "5a4e9a1a-b2b0-4759-8da6-173898b7259a",
        "colab": {
          "base_uri": "https://localhost:8080/"
        }
      },
      "source": [
        "print(''' This string has a single (') and a double (\") quote ''')"
      ],
      "execution_count": 3,
      "outputs": [
        {
          "output_type": "stream",
          "name": "stdout",
          "text": [
            " This string has a single (') and a double (\") quote \n"
          ]
        }
      ]
    },
    {
      "cell_type": "code",
      "metadata": {
        "id": "9bbJ2kqC2GIZ",
        "outputId": "11857ce6-b31a-4660-8869-dff4bbd73402",
        "colab": {
          "base_uri": "https://localhost:8080/"
        }
      },
      "source": [
        "-2, \n",
        "abs(-2)"
      ],
      "execution_count": 10,
      "outputs": [
        {
          "output_type": "execute_result",
          "data": {
            "text/plain": [
              "2"
            ]
          },
          "metadata": {},
          "execution_count": 10
        }
      ]
    },
    {
      "cell_type": "code",
      "metadata": {
        "id": "lldTUwfy23Uy",
        "outputId": "1c0b746f-8968-4908-964a-eef1aa28ca0a",
        "colab": {
          "base_uri": "https://localhost:8080/"
        }
      },
      "source": [
        "divmod(8, 3) #gives quotient and remainder."
      ],
      "execution_count": 13,
      "outputs": [
        {
          "output_type": "execute_result",
          "data": {
            "text/plain": [
              "(2, 2)"
            ]
          },
          "metadata": {},
          "execution_count": 13
        }
      ]
    },
    {
      "cell_type": "code",
      "metadata": {
        "id": "xAUbMHDu3NV0",
        "outputId": "fd13519e-04dc-4cdc-9f7e-be40f912024d",
        "colab": {
          "base_uri": "https://localhost:8080/"
        }
      },
      "source": [
        "\n",
        "pow(3, 7)  #raises a number to a power."
      ],
      "execution_count": 16,
      "outputs": [
        {
          "output_type": "execute_result",
          "data": {
            "text/plain": [
              "2187"
            ]
          },
          "metadata": {},
          "execution_count": 16
        }
      ]
    },
    {
      "cell_type": "code",
      "metadata": {
        "id": "kHGZvH7t3dQt",
        "outputId": "5f44e4b9-b985-4889-ec9b-aa3c2d9926a9",
        "colab": {
          "base_uri": "https://localhost:8080/"
        }
      },
      "source": [
        "d=[1, 2, 2.5 ,3, 4, 5]\n",
        "print(list(reversed(d)))"
      ],
      "execution_count": 20,
      "outputs": [
        {
          "output_type": "stream",
          "name": "stdout",
          "text": [
            "[5, 4, 3, 2.5, 2, 1]\n"
          ]
        }
      ]
    },
    {
      "cell_type": "code",
      "metadata": {
        "id": "Vj_S4lOU4a5q",
        "outputId": "4805d32f-d2c6-4ab2-ff30-8a8eb9e96b48",
        "colab": {
          "base_uri": "https://localhost:8080/"
        }
      },
      "source": [
        "a=('a', 'b', 'c', 'x', 'l', 'q', 'o')\n",
        "p=slice(4)\n",
        "print(a[p])"
      ],
      "execution_count": 27,
      "outputs": [
        {
          "output_type": "stream",
          "name": "stdout",
          "text": [
            "('a', 'b', 'c', 'x')\n"
          ]
        }
      ]
    },
    {
      "cell_type": "code",
      "metadata": {
        "id": "64Xd7Dk45zxF",
        "outputId": "df37bcb0-ffdb-4b33-b5dc-f134db5c598f",
        "colab": {
          "base_uri": "https://localhost:8080/"
        }
      },
      "source": [
        "3.157897\n",
        "round(3.157897)"
      ],
      "execution_count": 34,
      "outputs": [
        {
          "output_type": "execute_result",
          "data": {
            "text/plain": [
              "3"
            ]
          },
          "metadata": {},
          "execution_count": 34
        }
      ]
    },
    {
      "cell_type": "code",
      "metadata": {
        "id": "WGmRrO8G_U5Z",
        "outputId": "e7778b0f-cf5f-4586-9c72-9b9107628966",
        "colab": {
          "base_uri": "https://localhost:8080/"
        }
      },
      "source": [
        "coordinate =['x', 'y', 'z']\n",
        "value =[3, 4, 5]\n",
        "result=zip(coordinate, value)\n",
        "result_list =list(result)\n",
        "print(result_list)"
      ],
      "execution_count": 38,
      "outputs": [
        {
          "output_type": "stream",
          "name": "stdout",
          "text": [
            "[('x', 3), ('y', 4), ('z', 5)]\n"
          ]
        }
      ]
    }
  ]
}