{
  "nbformat": 4,
  "nbformat_minor": 0,
  "metadata": {
    "colab": {
      "name": "Day11.ipynb",
      "provenance": [],
      "authorship_tag": "ABX9TyOzcaW2+w/Uh1g4J6zgtAjU",
      "include_colab_link": true
    },
    "kernelspec": {
      "name": "python3",
      "display_name": "Python 3"
    },
    "language_info": {
      "name": "python"
    }
  },
  "cells": [
    {
      "cell_type": "markdown",
      "metadata": {
        "id": "view-in-github",
        "colab_type": "text"
      },
      "source": [
        "<a href=\"https://colab.research.google.com/github/Mariette-beep/WTM-GDG-Bambili-100-Days-of-code-Datascience/blob/main/Day11.ipynb\" target=\"_parent\"><img src=\"https://colab.research.google.com/assets/colab-badge.svg\" alt=\"Open In Colab\"/></a>"
      ]
    },
    {
      "cell_type": "code",
      "metadata": {
        "colab": {
          "base_uri": "https://localhost:8080/"
        },
        "id": "1thuY5tEteKw",
        "outputId": "e9590dc6-2e81-4ac3-8393-08e68dd33d67"
      },
      "source": [
        "a=['foo', 'party', 'zoo', 'quz']\n",
        "a\n",
        "b=['foo', 'zoo', 'party', 'quz']\n",
        "a==b #a is b. lists are ordered."
      ],
      "execution_count": 3,
      "outputs": [
        {
          "output_type": "execute_result",
          "data": {
            "text/plain": [
              "False"
            ]
          },
          "metadata": {},
          "execution_count": 3
        }
      ]
    },
    {
      "cell_type": "code",
      "metadata": {
        "colab": {
          "base_uri": "https://localhost:8080/"
        },
        "id": "rIX9oNkM6zR4",
        "outputId": "d698a5c5-ba59-409b-f404-d83b637a8e58"
      },
      "source": [
        "a=['sing', 2, 3.14, False]\n",
        "#list can contain assorted objects.\n",
        "a=['foo'] \n",
        "#singleton list\n",
        "a=['fear','yes', 3.14, 23, 'yes']\n",
        "print(a) #list can have repited objects."
      ],
      "execution_count": 6,
      "outputs": [
        {
          "output_type": "stream",
          "name": "stdout",
          "text": [
            "['fear', 'yes', 3.14, 23, 'yes']\n"
          ]
        }
      ]
    },
    {
      "cell_type": "code",
      "metadata": {
        "colab": {
          "base_uri": "https://localhost:8080/",
          "height": 35
        },
        "id": "ua78DS2n7ikR",
        "outputId": "b055ea62-0afc-43a9-8330-da85790732ed"
      },
      "source": [
        "b=['foo','boo', 'roo', 'quo','five','yes']\n",
        "b[0]"
      ],
      "execution_count": 8,
      "outputs": [
        {
          "output_type": "execute_result",
          "data": {
            "application/vnd.google.colaboratory.intrinsic+json": {
              "type": "string"
            },
            "text/plain": [
              "'foo'"
            ]
          },
          "metadata": {},
          "execution_count": 8
        }
      ]
    },
    {
      "cell_type": "code",
      "metadata": {
        "colab": {
          "base_uri": "https://localhost:8080/"
        },
        "id": "fEWxi-NZ78-t",
        "outputId": "1a04fbff-274b-4b87-9ac8-933362091a6a"
      },
      "source": [
        "b[-6]\n",
        "b[2:5]"
      ],
      "execution_count": 11,
      "outputs": [
        {
          "output_type": "execute_result",
          "data": {
            "text/plain": [
              "['roo', 'quo', 'five']"
            ]
          },
          "metadata": {},
          "execution_count": 11
        }
      ]
    },
    {
      "cell_type": "code",
      "metadata": {
        "colab": {
          "base_uri": "https://localhost:8080/"
        },
        "id": "4CcGHHqD8QAE",
        "outputId": "d4c1cbbf-7823-4662-ed22-c308bac89b03"
      },
      "source": [
        "b[-5:-2]"
      ],
      "execution_count": 13,
      "outputs": [
        {
          "output_type": "execute_result",
          "data": {
            "text/plain": [
              "['boo', 'roo', 'quo']"
            ]
          },
          "metadata": {},
          "execution_count": 13
        }
      ]
    },
    {
      "cell_type": "code",
      "metadata": {
        "colab": {
          "base_uri": "https://localhost:8080/"
        },
        "id": "GaJhMWJb8TcS",
        "outputId": "babdd720-8dac-4bbc-b0a9-1f0aee9c169e"
      },
      "source": [
        "b[1:4]"
      ],
      "execution_count": 15,
      "outputs": [
        {
          "output_type": "execute_result",
          "data": {
            "text/plain": [
              "['boo', 'roo', 'quo']"
            ]
          },
          "metadata": {},
          "execution_count": 15
        }
      ]
    },
    {
      "cell_type": "code",
      "metadata": {
        "colab": {
          "base_uri": "https://localhost:8080/"
        },
        "id": "CIysL7tY8c8W",
        "outputId": "f97f2d9a-6588-499d-dfb2-385029fa3434"
      },
      "source": [
        "print(b[:4],b[0:4])"
      ],
      "execution_count": 17,
      "outputs": [
        {
          "output_type": "stream",
          "name": "stdout",
          "text": [
            "['foo', 'boo', 'roo', 'quo'] ['foo', 'boo', 'roo', 'quo']\n"
          ]
        }
      ]
    },
    {
      "cell_type": "code",
      "metadata": {
        "colab": {
          "base_uri": "https://localhost:8080/"
        },
        "id": "b8E9r1wN8tld",
        "outputId": "8242dba9-7fcf-4725-f893-b5a52f9020a1"
      },
      "source": [
        "print(b[2:], b[2:len(b)])"
      ],
      "execution_count": 19,
      "outputs": [
        {
          "output_type": "stream",
          "name": "stdout",
          "text": [
            "['roo', 'quo', 'five', 'yes'] ['roo', 'quo', 'five', 'yes']\n"
          ]
        }
      ]
    },
    {
      "cell_type": "code",
      "metadata": {
        "colab": {
          "base_uri": "https://localhost:8080/"
        },
        "id": "sJM7rm4E9ATK",
        "outputId": "2c095fc3-f846-44bf-9805-4cf7ee1e1dd4"
      },
      "source": [
        "b[:4]+b[4:] #thisis equal to b."
      ],
      "execution_count": 21,
      "outputs": [
        {
          "output_type": "execute_result",
          "data": {
            "text/plain": [
              "['foo', 'boo', 'roo', 'quo', 'five', 'yes']"
            ]
          },
          "metadata": {},
          "execution_count": 21
        }
      ]
    },
    {
      "cell_type": "code",
      "metadata": {
        "colab": {
          "base_uri": "https://localhost:8080/"
        },
        "id": "1mXl-9W29Ly2",
        "outputId": "614109b0-cd0a-4386-938e-53e934af1425"
      },
      "source": [
        "#<begin>,<end>,<stride>\n",
        "b[0:6:2]"
      ],
      "execution_count": 23,
      "outputs": [
        {
          "output_type": "execute_result",
          "data": {
            "text/plain": [
              "['foo', 'roo', 'five']"
            ]
          },
          "metadata": {},
          "execution_count": 23
        }
      ]
    },
    {
      "cell_type": "code",
      "metadata": {
        "colab": {
          "base_uri": "https://localhost:8080/"
        },
        "id": "Kpb2nvYi9rWJ",
        "outputId": "79d4e899-e35c-4371-c025-2c51b98e25bb"
      },
      "source": [
        "b[6:0:-2]"
      ],
      "execution_count": 26,
      "outputs": [
        {
          "output_type": "execute_result",
          "data": {
            "text/plain": [
              "['yes', 'quo', 'boo']"
            ]
          },
          "metadata": {},
          "execution_count": 26
        }
      ]
    },
    {
      "cell_type": "code",
      "metadata": {
        "colab": {
          "base_uri": "https://localhost:8080/"
        },
        "id": "Sgfy_dsp90_r",
        "outputId": "b63ffc48-09eb-47d9-cac6-906289c649fb"
      },
      "source": [
        "b[::-1]"
      ],
      "execution_count": 28,
      "outputs": [
        {
          "output_type": "execute_result",
          "data": {
            "text/plain": [
              "['yes', 'five', 'quo', 'roo', 'boo', 'foo']"
            ]
          },
          "metadata": {},
          "execution_count": 28
        }
      ]
    },
    {
      "cell_type": "code",
      "metadata": {
        "colab": {
          "base_uri": "https://localhost:8080/",
          "height": 35
        },
        "id": "hj1bePZM-E1x",
        "outputId": "56c843fd-d798-4f6c-b6d3-687545cbd081"
      },
      "source": [
        "s='Jellofparty'\n",
        "s[:] # returns the same string."
      ],
      "execution_count": 32,
      "outputs": [
        {
          "output_type": "execute_result",
          "data": {
            "application/vnd.google.colaboratory.intrinsic+json": {
              "type": "string"
            },
            "text/plain": [
              "'Jellofparty'"
            ]
          },
          "metadata": {},
          "execution_count": 32
        }
      ]
    },
    {
      "cell_type": "code",
      "metadata": {
        "colab": {
          "base_uri": "https://localhost:8080/"
        },
        "id": "rI6jPibI-fwp",
        "outputId": "2591ef1e-c34f-43cd-b82d-e6fec6390603"
      },
      "source": [
        "b=['bar', 'boo', 'roo' , 'moo']\n",
        "'thud' in b\n"
      ],
      "execution_count": 34,
      "outputs": [
        {
          "output_type": "execute_result",
          "data": {
            "text/plain": [
              "False"
            ]
          },
          "metadata": {},
          "execution_count": 34
        }
      ]
    },
    {
      "cell_type": "code",
      "metadata": {
        "colab": {
          "base_uri": "https://localhost:8080/"
        },
        "id": "ZPsa9YQu-1eZ",
        "outputId": "275a7c7f-5a63-4999-f303-9abe81493b1d"
      },
      "source": [
        "b+['oh', 'la', 'vache']"
      ],
      "execution_count": 36,
      "outputs": [
        {
          "output_type": "execute_result",
          "data": {
            "text/plain": [
              "['bar', 'boo', 'roo', 'moo', 'oh', 'la', 'vache']"
            ]
          },
          "metadata": {},
          "execution_count": 36
        }
      ]
    },
    {
      "cell_type": "code",
      "metadata": {
        "colab": {
          "base_uri": "https://localhost:8080/"
        },
        "id": "o2B4iNhK_AfN",
        "outputId": "3e5a8924-22da-40a0-c66d-d251384803a2"
      },
      "source": [
        "b*2"
      ],
      "execution_count": 38,
      "outputs": [
        {
          "output_type": "execute_result",
          "data": {
            "text/plain": [
              "['bar', 'boo', 'roo', 'moo', 'bar', 'boo', 'roo', 'moo']"
            ]
          },
          "metadata": {},
          "execution_count": 38
        }
      ]
    },
    {
      "cell_type": "code",
      "metadata": {
        "colab": {
          "base_uri": "https://localhost:8080/"
        },
        "id": "Ou0lZ6oA_kAX",
        "outputId": "a8b6f329-9e90-4253-c997-96411bdc6f0f"
      },
      "source": [
        "len(b*2)"
      ],
      "execution_count": 40,
      "outputs": [
        {
          "output_type": "execute_result",
          "data": {
            "text/plain": [
              "8"
            ]
          },
          "metadata": {},
          "execution_count": 40
        }
      ]
    },
    {
      "cell_type": "code",
      "metadata": {
        "colab": {
          "base_uri": "https://localhost:8080/",
          "height": 35
        },
        "id": "XmaiQhAF_pvX",
        "outputId": "4b8a9dbc-1d7d-4001-f75e-e3e5d2d870ed"
      },
      "source": [
        "min(b*2)"
      ],
      "execution_count": 42,
      "outputs": [
        {
          "output_type": "execute_result",
          "data": {
            "application/vnd.google.colaboratory.intrinsic+json": {
              "type": "string"
            },
            "text/plain": [
              "'bar'"
            ]
          },
          "metadata": {},
          "execution_count": 42
        }
      ]
    },
    {
      "cell_type": "code",
      "metadata": {
        "colab": {
          "base_uri": "https://localhost:8080/",
          "height": 35
        },
        "id": "rcqpt9jW_tTh",
        "outputId": "58e2c79e-178c-46d5-9131-c206572ff44b"
      },
      "source": [
        "max(b*2)"
      ],
      "execution_count": 44,
      "outputs": [
        {
          "output_type": "execute_result",
          "data": {
            "application/vnd.google.colaboratory.intrinsic+json": {
              "type": "string"
            },
            "text/plain": [
              "'roo'"
            ]
          },
          "metadata": {},
          "execution_count": 44
        }
      ]
    },
    {
      "cell_type": "code",
      "metadata": {
        "colab": {
          "base_uri": "https://localhost:8080/",
          "height": 35
        },
        "id": "4o5-AVpw_zv0",
        "outputId": "7952c85a-6c49-4c1a-bd5b-4825b6893822"
      },
      "source": [
        "b=['foo','zoo', 'qoo', 'marble', 'very', 'lion'][2]\n",
        "b[::-1]"
      ],
      "execution_count": 47,
      "outputs": [
        {
          "output_type": "execute_result",
          "data": {
            "application/vnd.google.colaboratory.intrinsic+json": {
              "type": "string"
            },
            "text/plain": [
              "'ooq'"
            ]
          },
          "metadata": {},
          "execution_count": 47
        }
      ]
    },
    {
      "cell_type": "code",
      "metadata": {
        "colab": {
          "base_uri": "https://localhost:8080/"
        },
        "id": "67cSOS0GAaEZ",
        "outputId": "cddd4910-ee1d-4dd4-ed69-87d4fbbafdc2"
      },
      "source": [
        "len(b[::-1])"
      ],
      "execution_count": 49,
      "outputs": [
        {
          "output_type": "execute_result",
          "data": {
            "text/plain": [
              "3"
            ]
          },
          "metadata": {},
          "execution_count": 49
        }
      ]
    },
    {
      "cell_type": "code",
      "metadata": {
        "colab": {
          "base_uri": "https://localhost:8080/",
          "height": 35
        },
        "id": "r8irQ7UzAscO",
        "outputId": "ddf14e6c-bf94-4528-be59-c19c071352bb"
      },
      "source": [
        "d=['1', '2', '4', '5', '6']\n",
        "min(d)\n",
        "max(d)"
      ],
      "execution_count": 53,
      "outputs": [
        {
          "output_type": "execute_result",
          "data": {
            "application/vnd.google.colaboratory.intrinsic+json": {
              "type": "string"
            },
            "text/plain": [
              "'6'"
            ]
          },
          "metadata": {},
          "execution_count": 53
        }
      ]
    },
    {
      "cell_type": "code",
      "metadata": {
        "colab": {
          "base_uri": "https://localhost:8080/"
        },
        "id": "WqpRG8X6BAB1",
        "outputId": "920e039a-8c50-4f2d-e72b-a8c6eef2163d"
      },
      "source": [
        "#lists can be nested\n",
        "p=['a',['bb', ['ccc', 'ddd'],'ee','ff'],'g',['hh','ii'],'j']\n",
        "print(p[0], p[2], p[4])"
      ],
      "execution_count": 58,
      "outputs": [
        {
          "output_type": "stream",
          "name": "stdout",
          "text": [
            "a g j\n"
          ]
        }
      ]
    },
    {
      "cell_type": "code",
      "metadata": {
        "colab": {
          "base_uri": "https://localhost:8080/",
          "height": 35
        },
        "id": "UUeU9GlRC4bx",
        "outputId": "81dbafeb-f190-440a-acce-aafdcaa6cff8"
      },
      "source": [
        "p[1][0]"
      ],
      "execution_count": 60,
      "outputs": [
        {
          "output_type": "execute_result",
          "data": {
            "application/vnd.google.colaboratory.intrinsic+json": {
              "type": "string"
            },
            "text/plain": [
              "'bb'"
            ]
          },
          "metadata": {},
          "execution_count": 60
        }
      ]
    },
    {
      "cell_type": "code",
      "metadata": {
        "colab": {
          "base_uri": "https://localhost:8080/",
          "height": 35
        },
        "id": "yEaNyPdMDA67",
        "outputId": "677e9392-c3c0-4f30-97a3-d03e635c1807"
      },
      "source": [
        "p[1][1][0]"
      ],
      "execution_count": 64,
      "outputs": [
        {
          "output_type": "execute_result",
          "data": {
            "application/vnd.google.colaboratory.intrinsic+json": {
              "type": "string"
            },
            "text/plain": [
              "'ccc'"
            ]
          },
          "metadata": {},
          "execution_count": 64
        }
      ]
    },
    {
      "cell_type": "code",
      "metadata": {
        "colab": {
          "base_uri": "https://localhost:8080/"
        },
        "id": "MAJKjDdLDwUO",
        "outputId": "fb04f215-476d-48d5-9229-9922764295c1"
      },
      "source": [
        "len(p)"
      ],
      "execution_count": 66,
      "outputs": [
        {
          "output_type": "execute_result",
          "data": {
            "text/plain": [
              "5"
            ]
          },
          "metadata": {},
          "execution_count": 66
        }
      ]
    },
    {
      "cell_type": "code",
      "metadata": {
        "colab": {
          "base_uri": "https://localhost:8080/"
        },
        "id": "L7VC-JpkD5Yg",
        "outputId": "4c26527b-9ccc-49a0-f32a-b7a7c3fbb70e"
      },
      "source": [
        "a=['yes', 'no', 'oui', 'non']\n",
        "a[2]= 10\n",
        "a[-1]=20\n",
        "a # this cant be done for strings "
      ],
      "execution_count": 70,
      "outputs": [
        {
          "output_type": "execute_result",
          "data": {
            "text/plain": [
              "['yes', 'no', 10, 20]"
            ]
          },
          "metadata": {},
          "execution_count": 70
        }
      ]
    },
    {
      "cell_type": "code",
      "metadata": {
        "colab": {
          "base_uri": "https://localhost:8080/"
        },
        "id": "8bZ0QiqvElrY",
        "outputId": "cb8f4c95-f2c5-42df-f907-b6ba5d4d4d55"
      },
      "source": [
        "del a[0]\n",
        "a"
      ],
      "execution_count": 75,
      "outputs": [
        {
          "output_type": "execute_result",
          "data": {
            "text/plain": [
              "[10]"
            ]
          },
          "metadata": {},
          "execution_count": 75
        }
      ]
    },
    {
      "cell_type": "code",
      "metadata": {
        "colab": {
          "base_uri": "https://localhost:8080/"
        },
        "id": "HJsF4yjrFFYH",
        "outputId": "9a01903f-c9f8-4425-fd6c-f52a0c0657f5"
      },
      "source": [
        "b=['foo', 'yes', 'party', 'run', 'race', 'try']\n",
        "b[1:4]"
      ],
      "execution_count": 77,
      "outputs": [
        {
          "output_type": "execute_result",
          "data": {
            "text/plain": [
              "['yes', 'party', 'run']"
            ]
          },
          "metadata": {},
          "execution_count": 77
        }
      ]
    },
    {
      "cell_type": "code",
      "metadata": {
        "colab": {
          "base_uri": "https://localhost:8080/"
        },
        "id": "Q51HFBKoFWhR",
        "outputId": "c992f3a6-1dad-43e8-ad32-e6d4dc89f65e"
      },
      "source": [
        "b[1:4]=[1.1, 2.2, 3.3, 4.4, 5.5]\n",
        "b"
      ],
      "execution_count": 79,
      "outputs": [
        {
          "output_type": "execute_result",
          "data": {
            "text/plain": [
              "['foo', 1.1, 2.2, 3.3, 4.4, 5.5, 4.4, 5.5, 'race', 'try']"
            ]
          },
          "metadata": {},
          "execution_count": 79
        }
      ]
    },
    {
      "cell_type": "code",
      "metadata": {
        "colab": {
          "base_uri": "https://localhost:8080/"
        },
        "id": "qVumpRRBFv0R",
        "outputId": "c66f1b9c-97a2-45f2-cb51-76239a8740e1"
      },
      "source": [
        "b[1:6]=['bark']\n",
        "b"
      ],
      "execution_count": 82,
      "outputs": [
        {
          "output_type": "execute_result",
          "data": {
            "text/plain": [
              "['foo', 'bark']"
            ]
          },
          "metadata": {},
          "execution_count": 82
        }
      ]
    },
    {
      "cell_type": "code",
      "metadata": {
        "colab": {
          "base_uri": "https://localhost:8080/"
        },
        "id": "9T9nvUPxF75Q",
        "outputId": "febc6104-368c-4224-8a39-7ef3f7bf3b5f"
      },
      "source": [
        "a=[1, 2, 3, 4, 5, 6]\n",
        "a[2:2] =[ 1.1, 3.4, 2.3, 4.4]\n",
        "a"
      ],
      "execution_count": 87,
      "outputs": [
        {
          "output_type": "execute_result",
          "data": {
            "text/plain": [
              "[1, 2, 1.1, 3.4, 2.3, 4.4, 3, 4, 5, 6]"
            ]
          },
          "metadata": {},
          "execution_count": 87
        }
      ]
    },
    {
      "cell_type": "code",
      "metadata": {
        "colab": {
          "base_uri": "https://localhost:8080/"
        },
        "id": "R1dk-413Gc1x",
        "outputId": "480644a8-3380-4f05-b22b-082aeb853b46"
      },
      "source": [
        "z=['pray', 'double', 'pray', 'love', 'clock', 'gratitude', 'all']\n",
        "z[1:5] =[]\n",
        "z"
      ],
      "execution_count": 113,
      "outputs": [
        {
          "output_type": "execute_result",
          "data": {
            "text/plain": [
              "['pray', 'gratitude', 'all']"
            ]
          },
          "metadata": {},
          "execution_count": 113
        }
      ]
    },
    {
      "cell_type": "code",
      "metadata": {
        "colab": {
          "base_uri": "https://localhost:8080/"
        },
        "id": "4eBo0cotG5EC",
        "outputId": "6fa66638-1940-4a42-f2d2-a4d7189e15c1"
      },
      "source": [
        "del z[1:5]\n",
        "z"
      ],
      "execution_count": 114,
      "outputs": [
        {
          "output_type": "execute_result",
          "data": {
            "text/plain": [
              "['pray']"
            ]
          },
          "metadata": {},
          "execution_count": 114
        }
      ]
    },
    {
      "cell_type": "code",
      "metadata": {
        "colab": {
          "base_uri": "https://localhost:8080/"
        },
        "id": "6QhU0OSmHGVT",
        "outputId": "11a6d6cf-cb5c-42f7-fccb-e84cbb774b8e"
      },
      "source": [
        "z+=['value', 'bring']\n",
        "z"
      ],
      "execution_count": 115,
      "outputs": [
        {
          "output_type": "execute_result",
          "data": {
            "text/plain": [
              "['pray', 'value', 'bring']"
            ]
          },
          "metadata": {},
          "execution_count": 115
        }
      ]
    },
    {
      "cell_type": "code",
      "metadata": {
        "colab": {
          "base_uri": "https://localhost:8080/"
        },
        "id": "0jASkgfjHSii",
        "outputId": "010ec959-9810-4953-8ec4-10672bd9affb"
      },
      "source": [
        "g =[10, 20] +z\n",
        "g"
      ],
      "execution_count": 116,
      "outputs": [
        {
          "output_type": "execute_result",
          "data": {
            "text/plain": [
              "[10, 20, 'pray', 'value', 'bring']"
            ]
          },
          "metadata": {},
          "execution_count": 116
        }
      ]
    },
    {
      "cell_type": "code",
      "metadata": {
        "colab": {
          "base_uri": "https://localhost:8080/",
          "height": 162
        },
        "id": "R5wX4cNBIZFl",
        "outputId": "d5c46d92-3444-4ec7-95fc-b98003c1c27d"
      },
      "source": [
        "g+=100"
      ],
      "execution_count": 117,
      "outputs": [
        {
          "output_type": "error",
          "ename": "TypeError",
          "evalue": "ignored",
          "traceback": [
            "\u001b[0;31m---------------------------------------------------------------------------\u001b[0m",
            "\u001b[0;31mTypeError\u001b[0m                                 Traceback (most recent call last)",
            "\u001b[0;32m<ipython-input-117-086fa4ad4843>\u001b[0m in \u001b[0;36m<module>\u001b[0;34m()\u001b[0m\n\u001b[0;32m----> 1\u001b[0;31m \u001b[0mg\u001b[0m\u001b[0;34m+=\u001b[0m\u001b[0;36m100\u001b[0m\u001b[0;34m\u001b[0m\u001b[0;34m\u001b[0m\u001b[0m\n\u001b[0m",
            "\u001b[0;31mTypeError\u001b[0m: 'int' object is not iterable"
          ]
        }
      ]
    },
    {
      "cell_type": "code",
      "metadata": {
        "colab": {
          "base_uri": "https://localhost:8080/"
        },
        "id": "lRrGIuq5IjQB",
        "outputId": "d94fe5d9-cc6d-47cb-f6a7-0e70abf4ef96"
      },
      "source": [
        "m=['non', 'oui', 'ouais', 'yh', 'yes', 'no', 'nah']\n",
        "m"
      ],
      "execution_count": 126,
      "outputs": [
        {
          "output_type": "execute_result",
          "data": {
            "text/plain": [
              "['non', 'oui', 'ouais', 'yh', 'yes', 'no', 'nah']"
            ]
          },
          "metadata": {},
          "execution_count": 126
        }
      ]
    },
    {
      "cell_type": "code",
      "metadata": {
        "colab": {
          "base_uri": "https://localhost:8080/"
        },
        "id": "xGWStV0vOGmY",
        "outputId": "00f21764-a720-402d-e732-b8f9a765636e"
      },
      "source": [
        "m+='peace'\n",
        "m"
      ],
      "execution_count": 129,
      "outputs": [
        {
          "output_type": "execute_result",
          "data": {
            "text/plain": [
              "['non',\n",
              " 'oui',\n",
              " 'ouais',\n",
              " 'yh',\n",
              " 'yes',\n",
              " 'no',\n",
              " 'nah',\n",
              " 'p',\n",
              " 'e',\n",
              " 'a',\n",
              " 'c',\n",
              " 'e',\n",
              " 'p',\n",
              " 'e',\n",
              " 'a',\n",
              " 'c',\n",
              " 'e',\n",
              " 'p',\n",
              " 'e',\n",
              " 'a',\n",
              " 'c',\n",
              " 'e']"
            ]
          },
          "metadata": {},
          "execution_count": 129
        }
      ]
    },
    {
      "cell_type": "code",
      "metadata": {
        "colab": {
          "base_uri": "https://localhost:8080/"
        },
        "id": "I6j1snYBOp6J",
        "outputId": "295b81b8-a629-445b-db6e-a77d5b326382"
      },
      "source": [
        "s='foobar'\n",
        "t= s.upper()\n",
        "print(s,t)"
      ],
      "execution_count": 131,
      "outputs": [
        {
          "output_type": "stream",
          "name": "stdout",
          "text": [
            "foobar FOOBAR\n"
          ]
        }
      ]
    },
    {
      "cell_type": "code",
      "metadata": {
        "colab": {
          "base_uri": "https://localhost:8080/"
        },
        "id": "LJFCX34SPZYl",
        "outputId": "968aaf09-6bad-47ae-c4dc-0f01693c33a2"
      },
      "source": [
        "d=['a', 'm']\n",
        "d+[1,2,3]"
      ],
      "execution_count": 133,
      "outputs": [
        {
          "output_type": "execute_result",
          "data": {
            "text/plain": [
              "['a', 'm', 1, 2, 3]"
            ]
          },
          "metadata": {},
          "execution_count": 133
        }
      ]
    },
    {
      "cell_type": "code",
      "metadata": {
        "colab": {
          "base_uri": "https://localhost:8080/"
        },
        "id": "k6O5zz6NPkS1",
        "outputId": "fafd7090-a9eb-4aa3-a3d0-7d94e2b40ee7"
      },
      "source": [
        "t=['a', 'c']\n",
        "t.append(123)\n",
        "t"
      ],
      "execution_count": 137,
      "outputs": [
        {
          "output_type": "execute_result",
          "data": {
            "text/plain": [
              "['a', 'c', 123]"
            ]
          },
          "metadata": {},
          "execution_count": 137
        }
      ]
    },
    {
      "cell_type": "code",
      "metadata": {
        "colab": {
          "base_uri": "https://localhost:8080/"
        },
        "id": "QhQYRxvAP8P_",
        "outputId": "b966c4ec-ec64-478f-be0d-e7d2c23c946d"
      },
      "source": [
        "t.append([1,2,3])\n",
        "t"
      ],
      "execution_count": 139,
      "outputs": [
        {
          "output_type": "execute_result",
          "data": {
            "text/plain": [
              "['a', 'c', 123, [1, 2, 3], [1, 2, 3]]"
            ]
          },
          "metadata": {},
          "execution_count": 139
        }
      ]
    },
    {
      "cell_type": "code",
      "metadata": {
        "id": "KdMjLDjSQMGo",
        "outputId": "834ff519-17e3-4948-8464-08f66a20757e",
        "colab": {
          "base_uri": "https://localhost:8080/"
        }
      },
      "source": [
        "b=['s', 'u']\n",
        "b.append('foo')\n",
        "b"
      ],
      "execution_count": 141,
      "outputs": [
        {
          "output_type": "execute_result",
          "data": {
            "text/plain": [
              "['s', 'u', 'foo']"
            ]
          },
          "metadata": {},
          "execution_count": 141
        }
      ]
    },
    {
      "cell_type": "code",
      "metadata": {
        "id": "iyhA12m6T7zE",
        "outputId": "4efae992-1552-4d02-a07f-2999ace91713",
        "colab": {
          "base_uri": "https://localhost:8080/"
        }
      },
      "source": [
        "b.extend([1,2,3])\n",
        "b"
      ],
      "execution_count": 143,
      "outputs": [
        {
          "output_type": "execute_result",
          "data": {
            "text/plain": [
              "['s', 'u', 'foo', 1, 2, 3, 1, 2, 3]"
            ]
          },
          "metadata": {},
          "execution_count": 143
        }
      ]
    },
    {
      "cell_type": "code",
      "metadata": {
        "id": "ilpMRD3fUFx6",
        "outputId": "8eef9d14-537a-4cf7-8dee-d0ec96c79c77",
        "colab": {
          "base_uri": "https://localhost:8080/"
        }
      },
      "source": [
        "b.insert(2, 1.14)\n",
        "b"
      ],
      "execution_count": 147,
      "outputs": [
        {
          "output_type": "execute_result",
          "data": {
            "text/plain": [
              "['s', 'u', 1.14, 3.14, 'foo', 3.14, 3.14, 1, 2, 3, 1, 2, 3]"
            ]
          },
          "metadata": {},
          "execution_count": 147
        }
      ]
    },
    {
      "cell_type": "code",
      "metadata": {
        "id": "AZICSCqVUYlQ",
        "outputId": "60d9f01d-bb64-4f04-c773-9d0f46141692",
        "colab": {
          "base_uri": "https://localhost:8080/"
        }
      },
      "source": [
        "b[3]"
      ],
      "execution_count": 149,
      "outputs": [
        {
          "output_type": "execute_result",
          "data": {
            "text/plain": [
              "3.14"
            ]
          },
          "metadata": {},
          "execution_count": 149
        }
      ]
    },
    {
      "cell_type": "code",
      "metadata": {
        "id": "R-o1zXNLUlnQ",
        "outputId": "7afcc827-8e31-4af7-cea0-d94f744e5351",
        "colab": {
          "base_uri": "https://localhost:8080/"
        }
      },
      "source": [
        "b.remove(3.14)\n",
        "b"
      ],
      "execution_count": 152,
      "outputs": [
        {
          "output_type": "execute_result",
          "data": {
            "text/plain": [
              "['s', 'u', 1.14, 'foo', 1, 2, 3, 1, 2, 3]"
            ]
          },
          "metadata": {},
          "execution_count": 152
        }
      ]
    },
    {
      "cell_type": "code",
      "metadata": {
        "id": "ZAISwFEeUvlK",
        "outputId": "51cc1cf2-0bf6-4ba1-c741-967119fd92bb",
        "colab": {
          "base_uri": "https://localhost:8080/"
        }
      },
      "source": [
        "b.pop()"
      ],
      "execution_count": 154,
      "outputs": [
        {
          "output_type": "execute_result",
          "data": {
            "text/plain": [
              "2"
            ]
          },
          "metadata": {},
          "execution_count": 154
        }
      ]
    },
    {
      "cell_type": "code",
      "metadata": {
        "id": "2bpelRcWU3lx",
        "outputId": "21260072-622c-4199-d450-073feb5a92cd",
        "colab": {
          "base_uri": "https://localhost:8080/"
        }
      },
      "source": [
        "b.pop(4)"
      ],
      "execution_count": 157,
      "outputs": [
        {
          "output_type": "execute_result",
          "data": {
            "text/plain": [
              "2"
            ]
          },
          "metadata": {},
          "execution_count": 157
        }
      ]
    },
    {
      "cell_type": "code",
      "metadata": {
        "id": "VJC5qid1VFCU",
        "outputId": "50487368-e6cb-4991-82af-79824bdc7253",
        "colab": {
          "base_uri": "https://localhost:8080/",
          "height": 35
        }
      },
      "source": [
        "b.pop(-3)"
      ],
      "execution_count": 158,
      "outputs": [
        {
          "output_type": "execute_result",
          "data": {
            "application/vnd.google.colaboratory.intrinsic+json": {
              "type": "string"
            },
            "text/plain": [
              "'foo'"
            ]
          },
          "metadata": {},
          "execution_count": 158
        }
      ]
    },
    {
      "cell_type": "code",
      "metadata": {
        "id": "ZQNYJs_8VSbT",
        "outputId": "a7fcc286-3fe1-40a7-ec90-b14b78a58ab6",
        "colab": {
          "base_uri": "https://localhost:8080/"
        }
      },
      "source": [
        "b[2:3]=[]\n",
        "b"
      ],
      "execution_count": 165,
      "outputs": [
        {
          "output_type": "execute_result",
          "data": {
            "text/plain": [
              "['s']"
            ]
          },
          "metadata": {},
          "execution_count": 165
        }
      ]
    },
    {
      "cell_type": "code",
      "metadata": {
        "id": "EjLkyjU0Vw6Y",
        "outputId": "d45e1cc3-e2d3-44d0-93fa-27d5eb0a2df4",
        "colab": {
          "base_uri": "https://localhost:8080/"
        }
      },
      "source": [
        "v=('foo', 'great', 'you', 'two', 'us')\n",
        "v[1::2]"
      ],
      "execution_count": 167,
      "outputs": [
        {
          "output_type": "execute_result",
          "data": {
            "text/plain": [
              "('great', 'two')"
            ]
          },
          "metadata": {},
          "execution_count": 167
        }
      ]
    },
    {
      "cell_type": "code",
      "metadata": {
        "id": "BmCsUOZcWAiL",
        "outputId": "a9c72f18-e7c3-4bf5-f725-f1f60e3c2bc7",
        "colab": {
          "base_uri": "https://localhost:8080/"
        }
      },
      "source": [
        "v[1:-1]"
      ],
      "execution_count": 168,
      "outputs": [
        {
          "output_type": "execute_result",
          "data": {
            "text/plain": [
              "('great', 'you', 'two')"
            ]
          },
          "metadata": {},
          "execution_count": 168
        }
      ]
    },
    {
      "cell_type": "code",
      "metadata": {
        "id": "VtsRRmXOWJ_A",
        "outputId": "09f85a6d-7a06-4d65-cfb6-54c3dcba5326",
        "colab": {
          "base_uri": "https://localhost:8080/",
          "height": 178
        }
      },
      "source": [
        "#turples cant be modified\n",
        "v[2] ='allez'"
      ],
      "execution_count": 169,
      "outputs": [
        {
          "output_type": "error",
          "ename": "TypeError",
          "evalue": "ignored",
          "traceback": [
            "\u001b[0;31m---------------------------------------------------------------------------\u001b[0m",
            "\u001b[0;31mTypeError\u001b[0m                                 Traceback (most recent call last)",
            "\u001b[0;32m<ipython-input-169-276616e59840>\u001b[0m in \u001b[0;36m<module>\u001b[0;34m()\u001b[0m\n\u001b[1;32m      1\u001b[0m \u001b[0;31m#turples cant be modified\u001b[0m\u001b[0;34m\u001b[0m\u001b[0;34m\u001b[0m\u001b[0;34m\u001b[0m\u001b[0m\n\u001b[0;32m----> 2\u001b[0;31m \u001b[0mv\u001b[0m\u001b[0;34m[\u001b[0m\u001b[0;36m2\u001b[0m\u001b[0;34m]\u001b[0m \u001b[0;34m=\u001b[0m\u001b[0;34m'allez'\u001b[0m\u001b[0;34m\u001b[0m\u001b[0;34m\u001b[0m\u001b[0m\n\u001b[0m",
            "\u001b[0;31mTypeError\u001b[0m: 'tuple' object does not support item assignment"
          ]
        }
      ]
    },
    {
      "cell_type": "code",
      "metadata": {
        "id": "LdETL9tZWb0z",
        "outputId": "5cd47edc-c5ed-46ec-f4ca-3b1f58868fa1",
        "colab": {
          "base_uri": "https://localhost:8080/"
        }
      },
      "source": [
        "w='foo'\n",
        "a1=42\n",
        "w, 3.14, a1"
      ],
      "execution_count": 171,
      "outputs": [
        {
          "output_type": "execute_result",
          "data": {
            "text/plain": [
              "('foo', 3.14, 42)"
            ]
          },
          "metadata": {},
          "execution_count": 171
        }
      ]
    },
    {
      "cell_type": "code",
      "metadata": {
        "id": "MQMQYul1WVZR",
        "outputId": "ebcf7d98-07b0-45dc-b4f7-dc7c005934d8",
        "colab": {
          "base_uri": "https://localhost:8080/"
        }
      },
      "source": [
        "x=2\n",
        "type(x)"
      ],
      "execution_count": 174,
      "outputs": [
        {
          "output_type": "execute_result",
          "data": {
            "text/plain": [
              "int"
            ]
          },
          "metadata": {},
          "execution_count": 174
        }
      ]
    },
    {
      "cell_type": "code",
      "metadata": {
        "id": "47i02pupXAb9",
        "outputId": "7d4c7c53-5fc4-40ad-d9e7-a8b0d724294c",
        "colab": {
          "base_uri": "https://localhost:8080/"
        }
      },
      "source": [
        "t=(2,)\n",
        "type(t)"
      ],
      "execution_count": 176,
      "outputs": [
        {
          "output_type": "execute_result",
          "data": {
            "text/plain": [
              "tuple"
            ]
          },
          "metadata": {},
          "execution_count": 176
        }
      ]
    },
    {
      "cell_type": "code",
      "metadata": {
        "id": "wTD-9Iu2XJdU",
        "outputId": "1e50bff8-0559-4ff5-aeba-527a31b8ce8c",
        "colab": {
          "base_uri": "https://localhost:8080/",
          "height": 35
        }
      },
      "source": [
        "#turple packing\n",
        "t=('foo', 'bar', 'baz', 'qux')\n",
        "(s1, s2, s3, s4) =t #when unpacking the number of elements on the right must match those on the left\n",
        "s1"
      ],
      "execution_count": 179,
      "outputs": [
        {
          "output_type": "execute_result",
          "data": {
            "application/vnd.google.colaboratory.intrinsic+json": {
              "type": "string"
            },
            "text/plain": [
              "'foo'"
            ]
          },
          "metadata": {},
          "execution_count": 179
        }
      ]
    },
    {
      "cell_type": "code",
      "metadata": {
        "id": "kxio6x84YDEF",
        "outputId": "f17693bf-d2f8-4b34-cfdd-187ec76cc076",
        "colab": {
          "base_uri": "https://localhost:8080/"
        }
      },
      "source": [
        "t= 1, 2, 3 #parenthesis left out\n",
        "x1, x2, x3 =t\n",
        "x2,x1,x3"
      ],
      "execution_count": 183,
      "outputs": [
        {
          "output_type": "execute_result",
          "data": {
            "text/plain": [
              "(2, 1, 3)"
            ]
          },
          "metadata": {},
          "execution_count": 183
        }
      ]
    },
    {
      "cell_type": "code",
      "metadata": {
        "id": "qhOGwjELYwUM",
        "outputId": "c3e99a7c-fa1c-4625-bc71-395742f61cd2",
        "colab": {
          "base_uri": "https://localhost:8080/"
        }
      },
      "source": [
        "#swap\n",
        "a='foo'\n",
        "b='bar'\n",
        "a,b\n",
        "temp=a\n",
        "a=b\n",
        "b=temp\n",
        "a,b"
      ],
      "execution_count": 187,
      "outputs": [
        {
          "output_type": "execute_result",
          "data": {
            "text/plain": [
              "('bar', 'foo')"
            ]
          },
          "metadata": {},
          "execution_count": 187
        }
      ]
    },
    {
      "cell_type": "code",
      "metadata": {
        "id": "3Mxyf1BfbXcP",
        "outputId": "27a65c52-7496-4a99-f251-2e89571bc32a",
        "colab": {
          "base_uri": "https://localhost:8080/"
        }
      },
      "source": [
        "a='foo'\n",
        "b='bar'\n",
        "a,b \n",
        "a,b=b,a\n",
        "a,b"
      ],
      "execution_count": 188,
      "outputs": [
        {
          "output_type": "execute_result",
          "data": {
            "text/plain": [
              "('bar', 'foo')"
            ]
          },
          "metadata": {},
          "execution_count": 188
        }
      ]
    }
  ]
}