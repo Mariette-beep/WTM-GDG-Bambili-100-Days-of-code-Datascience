{
  "nbformat": 4,
  "nbformat_minor": 0,
  "metadata": {
    "colab": {
      "name": "Day13.ipynb",
      "provenance": [],
      "authorship_tag": "ABX9TyM1xwZycO2NOcaO1fzzGcv7",
      "include_colab_link": true
    },
    "kernelspec": {
      "name": "python3",
      "display_name": "Python 3"
    },
    "language_info": {
      "name": "python"
    }
  },
  "cells": [
    {
      "cell_type": "markdown",
      "metadata": {
        "id": "view-in-github",
        "colab_type": "text"
      },
      "source": [
        "<a href=\"https://colab.research.google.com/github/Mariette-beep/WTM-GDG-Bambili-100-Days-of-code-Datascience/blob/main/Day13.ipynb\" target=\"_parent\"><img src=\"https://colab.research.google.com/assets/colab-badge.svg\" alt=\"Open In Colab\"/></a>"
      ]
    },
    {
      "cell_type": "code",
      "metadata": {
        "colab": {
          "base_uri": "https://localhost:8080/"
        },
        "id": "-7PPA9z4AjjI",
        "outputId": "288484a0-1de1-41b0-a027-2b190f467e36"
      },
      "source": [
        "def square(number):\n",
        "  return number**2\n",
        "numbers=[1, 2, 3, 4, 5]\n",
        "squared = map(square, numbers)\n",
        "list(squared)"
      ],
      "execution_count": 3,
      "outputs": [
        {
          "output_type": "execute_result",
          "data": {
            "text/plain": [
              "[1, 4, 9, 16, 25]"
            ]
          },
          "metadata": {},
          "execution_count": 3
        }
      ]
    },
    {
      "cell_type": "code",
      "metadata": {
        "colab": {
          "base_uri": "https://localhost:8080/"
        },
        "id": "fefKT4hbCSpC",
        "outputId": "d2b0b3ef-4f69-40d7-b9aa-fb05c6ef3b7f"
      },
      "source": [
        "str_nums=['4','8','6','5','3','2','0','9']\n",
        "int_nums=map(int, str_nums)\n",
        "list(int_nums)"
      ],
      "execution_count": 5,
      "outputs": [
        {
          "output_type": "execute_result",
          "data": {
            "text/plain": [
              "[4, 8, 6, 5, 3, 2, 0, 9]"
            ]
          },
          "metadata": {},
          "execution_count": 5
        }
      ]
    },
    {
      "cell_type": "code",
      "metadata": {
        "colab": {
          "base_uri": "https://localhost:8080/"
        },
        "id": "OXXVO9fHF57P",
        "outputId": "6c6750ac-5966-4a02-d1a2-7dbf96a795fb"
      },
      "source": [
        "numbers=[-2, -1, 0, 1, 2]\n",
        "abs_values=list(map(abs, numbers))\n",
        "abs_values"
      ],
      "execution_count": 8,
      "outputs": [
        {
          "output_type": "execute_result",
          "data": {
            "text/plain": [
              "[2, 1, 0, 1, 2]"
            ]
          },
          "metadata": {},
          "execution_count": 8
        }
      ]
    },
    {
      "cell_type": "code",
      "metadata": {
        "colab": {
          "base_uri": "https://localhost:8080/"
        },
        "id": "dpaiRSbzHQCE",
        "outputId": "f3ee0dd1-6ae7-4334-bf9c-296b4547a972"
      },
      "source": [
        "words=['party','wine', 'cake', 'flowers']\n",
        "list(map(len, words))"
      ],
      "execution_count": 10,
      "outputs": [
        {
          "output_type": "execute_result",
          "data": {
            "text/plain": [
              "[5, 4, 4, 7]"
            ]
          },
          "metadata": {},
          "execution_count": 10
        }
      ]
    },
    {
      "cell_type": "code",
      "metadata": {
        "colab": {
          "base_uri": "https://localhost:8080/"
        },
        "id": "ofiL_oReIkAu",
        "outputId": "36516bf3-810e-4da6-be60-c49799827c8e"
      },
      "source": [
        "numbers=[1, 2, 4, 6, 9]\n",
        "list(map(float, numbers))"
      ],
      "execution_count": 12,
      "outputs": [
        {
          "output_type": "execute_result",
          "data": {
            "text/plain": [
              "[1.0, 2.0, 4.0, 6.0, 9.0]"
            ]
          },
          "metadata": {},
          "execution_count": 12
        }
      ]
    },
    {
      "cell_type": "code",
      "metadata": {
        "colab": {
          "base_uri": "https://localhost:8080/"
        },
        "id": "gI0Y0vTGKF3t",
        "outputId": "a522dd09-b671-4a5a-be2c-fddf4e690f10"
      },
      "source": [
        "numbers=[1, 2, 3, 4, 5]\n",
        "squared= map(lambda num: num**2, numbers)\n",
        "list(squared) #lambdai is used to pass an expression based function to maps."
      ],
      "execution_count": 15,
      "outputs": [
        {
          "output_type": "execute_result",
          "data": {
            "text/plain": [
              "[1, 4, 9, 16, 25]"
            ]
          },
          "metadata": {},
          "execution_count": 15
        }
      ]
    },
    {
      "cell_type": "code",
      "metadata": {
        "colab": {
          "base_uri": "https://localhost:8080/"
        },
        "id": "U6JEVNtuLEa9",
        "outputId": "a4c4c6f3-65f7-431b-96ad-28f9e502a0fd"
      },
      "source": [
        "first_it=[1, 2, 3]\n",
        "second_it=[4, 5, 6, 7]\n",
        "list(map(pow, first_it, second_it))"
      ],
      "execution_count": 17,
      "outputs": [
        {
          "output_type": "execute_result",
          "data": {
            "text/plain": [
              "[1, 32, 729]"
            ]
          },
          "metadata": {},
          "execution_count": 17
        }
      ]
    },
    {
      "cell_type": "code",
      "metadata": {
        "colab": {
          "base_uri": "https://localhost:8080/"
        },
        "id": "CtCXumnWMFFM",
        "outputId": "0864fe28-d5b3-47e0-8d67-89cfc316a4ac"
      },
      "source": [
        "list(map(lambda x,y: x-y, [2, 4, 6], [1,3,5]))"
      ],
      "execution_count": 19,
      "outputs": [
        {
          "output_type": "execute_result",
          "data": {
            "text/plain": [
              "[1, 1, 1]"
            ]
          },
          "metadata": {},
          "execution_count": 19
        }
      ]
    },
    {
      "cell_type": "code",
      "metadata": {
        "colab": {
          "base_uri": "https://localhost:8080/"
        },
        "id": "n_hSHiILMdnH",
        "outputId": "ef673f0e-0548-4275-cf78-d965275382c7"
      },
      "source": [
        "list(map(lambda x,y,z : x+y+z,[2,4],[1,3],[7,8]))"
      ],
      "execution_count": 22,
      "outputs": [
        {
          "output_type": "execute_result",
          "data": {
            "text/plain": [
              "[10, 15]"
            ]
          },
          "metadata": {},
          "execution_count": 22
        }
      ]
    },
    {
      "cell_type": "code",
      "metadata": {
        "colab": {
          "base_uri": "https://localhost:8080/"
        },
        "id": "_5sO-xtGONE6",
        "outputId": "0b69711b-ad0c-4fd7-b70a-066c5f1c4f73"
      },
      "source": [
        "string_it=['processing', 'strings', 'with','map']\n",
        "list(map(str.capitalize, string_it))"
      ],
      "execution_count": 24,
      "outputs": [
        {
          "output_type": "execute_result",
          "data": {
            "text/plain": [
              "['Processing', 'Strings', 'With', 'Map']"
            ]
          },
          "metadata": {},
          "execution_count": 24
        }
      ]
    },
    {
      "cell_type": "code",
      "metadata": {
        "colab": {
          "base_uri": "https://localhost:8080/"
        },
        "id": "cPmOWMHVO8O9",
        "outputId": "18030c08-01c9-4fdf-a365-a4d68ad8520b"
      },
      "source": [
        "list(map(str.upper, string_it))"
      ],
      "execution_count": 27,
      "outputs": [
        {
          "output_type": "execute_result",
          "data": {
            "text/plain": [
              "['PROCESSING', 'STRINGS', 'WITH', 'MAP']"
            ]
          },
          "metadata": {},
          "execution_count": 27
        }
      ]
    },
    {
      "cell_type": "code",
      "metadata": {
        "colab": {
          "base_uri": "https://localhost:8080/"
        },
        "id": "QcaKKFEyPNEJ",
        "outputId": "7e9923f2-1280-4f90-db01-7be530c656d7"
      },
      "source": [
        "list(map(str.lower, string_it))"
      ],
      "execution_count": 29,
      "outputs": [
        {
          "output_type": "execute_result",
          "data": {
            "text/plain": [
              "['processing', 'strings', 'with', 'map']"
            ]
          },
          "metadata": {},
          "execution_count": 29
        }
      ]
    },
    {
      "cell_type": "code",
      "metadata": {
        "colab": {
          "base_uri": "https://localhost:8080/"
        },
        "id": "gxg03qwgPacx",
        "outputId": "5fb4478d-bdd0-4aff-8a1d-78047db3c30f"
      },
      "source": [
        "#char removes white spaces.\n",
        "with_spaces=['processing',' with','strings  ','maps ']\n",
        "list(map(str.strip, with_spaces))"
      ],
      "execution_count": 32,
      "outputs": [
        {
          "output_type": "execute_result",
          "data": {
            "text/plain": [
              "['processing', 'with', 'strings', 'maps']"
            ]
          },
          "metadata": {},
          "execution_count": 32
        }
      ]
    },
    {
      "cell_type": "code",
      "metadata": {
        "colab": {
          "base_uri": "https://localhost:8080/"
        },
        "id": "1miKi4nyVseD",
        "outputId": "cd27f131-0d76-49b7-d262-0e3cb9cff51d"
      },
      "source": [
        "#removing white spaces.\n",
        "with_dots=['processing...','...strings','with...','...map...']\n",
        "list(map(lambda s: s.strip ('.'), with_dots))"
      ],
      "execution_count": 34,
      "outputs": [
        {
          "output_type": "execute_result",
          "data": {
            "text/plain": [
              "['processing', 'strings', 'with', 'map']"
            ]
          },
          "metadata": {},
          "execution_count": 34
        }
      ]
    },
    {
      "cell_type": "code",
      "metadata": {
        "colab": {
          "base_uri": "https://localhost:8080/",
          "height": 35
        },
        "id": "Zf3hNad4XI6H",
        "outputId": "297c23b0-6d95-480c-9865-c4252c8dfb1f"
      },
      "source": [
        "#removing punctuation\n",
        "import re\n",
        "def remove_punctuation(word):\n",
        "  return re.sub(r'[!?.;,\"()-]',\"\",word)\n",
        "remove_punctuation(\"...Python!\")"
      ],
      "execution_count": 37,
      "outputs": [
        {
          "output_type": "execute_result",
          "data": {
            "application/vnd.google.colaboratory.intrinsic+json": {
              "type": "string"
            },
            "text/plain": [
              "'Python'"
            ]
          },
          "metadata": {},
          "execution_count": 37
        }
      ]
    },
    {
      "cell_type": "code",
      "metadata": {
        "colab": {
          "base_uri": "https://localhost:8080/"
        },
        "id": "adkUq5TCYoSB",
        "outputId": "8d7559a8-f062-4134-a42d-cdd50c8b938b"
      },
      "source": [
        "#transform every word to a text.\n",
        "text = \"\"\" Some people when confronted with a problem think\n",
        "\"I know, I'll use regular expression.\"\n",
        "Now they have two problems Jamie\"\"\"\n",
        "words= text.split()\n",
        "words"
      ],
      "execution_count": 45,
      "outputs": [
        {
          "output_type": "execute_result",
          "data": {
            "text/plain": [
              "['Some',\n",
              " 'people',\n",
              " 'when',\n",
              " 'confronted',\n",
              " 'with',\n",
              " 'a',\n",
              " 'problem',\n",
              " 'think',\n",
              " '\"I',\n",
              " 'know,',\n",
              " \"I'll\",\n",
              " 'use',\n",
              " 'regular',\n",
              " 'expression.\"',\n",
              " 'Now',\n",
              " 'they',\n",
              " 'have',\n",
              " 'two',\n",
              " 'problems',\n",
              " 'Jamie']"
            ]
          },
          "metadata": {},
          "execution_count": 45
        }
      ]
    },
    {
      "cell_type": "code",
      "metadata": {
        "colab": {
          "base_uri": "https://localhost:8080/"
        },
        "id": "LcQ1CNPbbiK-",
        "outputId": "95aa1ec9-5064-42b8-81cb-8c6b0fe9a20b"
      },
      "source": [
        "list(map(remove_punctuation, words))"
      ],
      "execution_count": 47,
      "outputs": [
        {
          "output_type": "execute_result",
          "data": {
            "text/plain": [
              "['Some',\n",
              " 'people',\n",
              " 'when',\n",
              " 'confronted',\n",
              " 'with',\n",
              " 'a',\n",
              " 'problem',\n",
              " 'think',\n",
              " 'I',\n",
              " 'know',\n",
              " \"I'll\",\n",
              " 'use',\n",
              " 'regular',\n",
              " 'expression',\n",
              " 'Now',\n",
              " 'they',\n",
              " 'have',\n",
              " 'two',\n",
              " 'problems',\n",
              " 'Jamie']"
            ]
          },
          "metadata": {},
          "execution_count": 47
        }
      ]
    },
    {
      "cell_type": "code",
      "metadata": {
        "id": "J388r9RlbtK2"
      },
      "source": [
        "#implement a Caesar cipher algorithm\n",
        "def rotate_chr(c):\n",
        "  rot_by =3\n",
        "  c=c.lower()\n",
        "  alphabet='abcdefghijklmnopqrstuvxyz'\n",
        "  #keep punctuation and whitespace.\n",
        "  if c not in alphabet:\n",
        "    return c\n",
        "  rotated_pos = ord(c)+ rot_by\n",
        "  #if the rotation is inside the alphabet\n",
        "  if rotate_pos <= ord(alphabet[-1]):\n",
        "    return chr(rotated_pos)\n",
        "  #if the rotate goes beyond the alphabet.\n",
        "  return chr(rotate_pos, -len(alphabet))"
      ],
      "execution_count": 49,
      "outputs": []
    },
    {
      "cell_type": "code",
      "metadata": {
        "colab": {
          "base_uri": "https://localhost:8080/"
        },
        "id": "S0WjOepzgm-E",
        "outputId": "a56a8286-5011-4c5c-95e3-83f4c097efa3"
      },
      "source": [
        "#chr() is the opposite od ord()\n",
        "def powers(x):\n",
        "  return x**2, x**3\n",
        "numbers=[1, 2, 3, 4]\n",
        "list(map(powers, numbers))"
      ],
      "execution_count": 51,
      "outputs": [
        {
          "output_type": "execute_result",
          "data": {
            "text/plain": [
              "[(1, 1), (4, 8), (9, 27), (16, 64)]"
            ]
          },
          "metadata": {},
          "execution_count": 51
        }
      ]
    },
    {
      "cell_type": "code",
      "metadata": {
        "colab": {
          "base_uri": "https://localhost:8080/"
        },
        "id": "jAc_K2Z3h_ID",
        "outputId": "2cc2f132-57a1-457e-bfe7-75b776663f64"
      },
      "source": [
        "import math\n",
        "numbers=[1, 2, 3, 4, 5, 6, 7]\n",
        "list(map(math.factorial, numbers))"
      ],
      "execution_count": 53,
      "outputs": [
        {
          "output_type": "execute_result",
          "data": {
            "text/plain": [
              "[1, 2, 6, 24, 120, 720, 5040]"
            ]
          },
          "metadata": {},
          "execution_count": 53
        }
      ]
    },
    {
      "cell_type": "code",
      "metadata": {
        "colab": {
          "base_uri": "https://localhost:8080/"
        },
        "id": "jLkA-2I5jQcn",
        "outputId": "5105db9e-f951-4a70-d3c0-b1364f4fc216"
      },
      "source": [
        "def to_fahrenreit(c):\n",
        "  return 9/ 5*c + 32\n",
        "def to_Celsuis(f):\n",
        "  return(f-32)* 5/9\n",
        "celsuis_temps=[100, 40, 80]\n",
        "list(map(to_fahrenreit, celsuis_temps))"
      ],
      "execution_count": 58,
      "outputs": [
        {
          "output_type": "execute_result",
          "data": {
            "text/plain": [
              "[212.0, 104.0, 176.0]"
            ]
          },
          "metadata": {},
          "execution_count": 58
        }
      ]
    },
    {
      "cell_type": "code",
      "metadata": {
        "colab": {
          "base_uri": "https://localhost:8080/"
        },
        "id": "MdLdF_5Dl8dP",
        "outputId": "a5209b24-dd31-4468-e710-c2838baaecc7"
      },
      "source": [
        "def to_Celsuis(f):\n",
        " return(f-32)*5/9\n",
        "fahr_temps=[212, 108, 200]\n",
        "list(map(to_Celsuis, fahr_temps))"
      ],
      "execution_count": 63,
      "outputs": [
        {
          "output_type": "execute_result",
          "data": {
            "text/plain": [
              "[100.0, 42.22222222222222, 93.33333333333333]"
            ]
          },
          "metadata": {},
          "execution_count": 63
        }
      ]
    },
    {
      "cell_type": "code",
      "metadata": {
        "colab": {
          "base_uri": "https://localhost:8080/"
        },
        "id": "VUnz2KAdn81m",
        "outputId": "6be344a3-9f63-4336-9dc0-6a3e40521c50"
      },
      "source": [
        "#convert to float point.\n",
        "list(map(float,['12.3','3.3','-15.6']))"
      ],
      "execution_count": 66,
      "outputs": [
        {
          "output_type": "execute_result",
          "data": {
            "text/plain": [
              "[12.3, 3.3, -15.6]"
            ]
          },
          "metadata": {},
          "execution_count": 66
        }
      ]
    },
    {
      "cell_type": "code",
      "metadata": {
        "colab": {
          "base_uri": "https://localhost:8080/"
        },
        "id": "tiyBDB6vprF7",
        "outputId": "b2145c89-040d-4059-dea4-4c8dad311e3c"
      },
      "source": [
        "list(map(int, ['12', '34', '-13']))"
      ],
      "execution_count": 68,
      "outputs": [
        {
          "output_type": "execute_result",
          "data": {
            "text/plain": [
              "[12, 34, -13]"
            ]
          },
          "metadata": {},
          "execution_count": 68
        }
      ]
    },
    {
      "cell_type": "code",
      "metadata": {
        "colab": {
          "base_uri": "https://localhost:8080/"
        },
        "id": "NObwbUKqqK3S",
        "outputId": "b58abf40-2b0e-4193-c5d9-473055d2574d"
      },
      "source": [
        "import math\n",
        "def is_positive(num):\n",
        "  return num >=0\n",
        "def sanitized_sqrt(numbers):\n",
        "  cleaned_iter= map(math.sqrt,filter(is_positive, numbers))\n",
        "  return list(cleaned_iter)\n",
        "sanitized_sqrt([25, 9, 81, -6, 0])"
      ],
      "execution_count": 73,
      "outputs": [
        {
          "output_type": "execute_result",
          "data": {
            "text/plain": [
              "[5.0, 3.0, 9.0, 0.0]"
            ]
          },
          "metadata": {},
          "execution_count": 73
        }
      ]
    },
    {
      "cell_type": "code",
      "metadata": {
        "colab": {
          "base_uri": "https://localhost:8080/"
        },
        "id": "pRLLR7jsur00",
        "outputId": "3fa38e6d-78cf-46ba-f3d8-76bdcbeda978"
      },
      "source": [
        "def square(number):\n",
        "  return number **2\n",
        "numbers=[1, 2, 3, 4, 5]\n",
        "list(map(square, numbers))"
      ],
      "execution_count": 75,
      "outputs": [
        {
          "output_type": "execute_result",
          "data": {
            "text/plain": [
              "[1, 4, 9, 16, 25]"
            ]
          },
          "metadata": {},
          "execution_count": 75
        }
      ]
    },
    {
      "cell_type": "code",
      "metadata": {
        "colab": {
          "base_uri": "https://localhost:8080/"
        },
        "id": "xCqySuD5wP39",
        "outputId": "b33a306e-bc00-455f-e402-40041573b711"
      },
      "source": [
        "[square(x) for x in numbers]"
      ],
      "execution_count": 77,
      "outputs": [
        {
          "output_type": "execute_result",
          "data": {
            "text/plain": [
              "[1, 4, 9, 16, 25]"
            ]
          },
          "metadata": {},
          "execution_count": 77
        }
      ]
    },
    {
      "cell_type": "code",
      "metadata": {
        "colab": {
          "base_uri": "https://localhost:8080/"
        },
        "id": "SxDkzqfzxraf",
        "outputId": "5c3f1ff1-858c-4954-f4f8-d4bcf4085a26"
      },
      "source": [
        "gen_exp=(square(x) for x in numbers)\n",
        "gen_exp"
      ],
      "execution_count": 79,
      "outputs": [
        {
          "output_type": "execute_result",
          "data": {
            "text/plain": [
              "<generator object <genexpr> at 0x7f792d68e550>"
            ]
          },
          "metadata": {},
          "execution_count": 79
        }
      ]
    },
    {
      "cell_type": "code",
      "metadata": {
        "colab": {
          "base_uri": "https://localhost:8080/"
        },
        "id": "-15cgmx3yYcS",
        "outputId": "7611f4c0-ec03-4ba5-d5a3-157c0f777771"
      },
      "source": [
        "list(gen_exp)"
      ],
      "execution_count": 80,
      "outputs": [
        {
          "output_type": "execute_result",
          "data": {
            "text/plain": [
              "[1, 4, 9, 16, 25]"
            ]
          },
          "metadata": {},
          "execution_count": 80
        }
      ]
    }
  ]
}